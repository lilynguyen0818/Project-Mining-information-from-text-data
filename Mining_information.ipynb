{
 "cells": [
  {
   "cell_type": "markdown",
   "metadata": {},
   "source": [
    "# Mining information from Text Data "
   ]
  },
  {
   "cell_type": "markdown",
   "metadata": {},
   "source": [
    "This project will explore and analyze the information stored in a particular dataset. In this case the ACL Anthology dataset (https://aclanthology.org/). We will explore different techniques for obtaining valuable information."
   ]
  },
  {
   "cell_type": "markdown",
   "metadata": {},
   "source": [
    "## Finding Similar Items"
   ]
  },
  {
   "cell_type": "markdown",
   "metadata": {},
   "source": [
    "Randomly select 1000 abstracts from the whole dataset. Find the similar items using pairwise Jaccard similarities, MinHash and LSH (vectorized versions) .\n",
    "\n",
    "   1. Compare the performance in time and the results for *k*-shingles = 3, 5 and 10, for the three methods and similarity thresholds *s*=0.1 and 0.2. Use 50 hashing functions.\n",
    "      \n",
    "   2. Compare the results obtained for MinHash and LSH for different similarity thresholds *s* = 0.1, 0.2, and 0.25  and 50, 100 and 200 hashing functions.\n",
    "   \n",
    "   3. For MinHashing using 100 hashing functions and *s* = 0.1, and 0,2, find the Jaccard distances (1-Jaccard similarity) for all possible pairs.\n",
    " "
   ]
  },
  {
   "cell_type": "code",
   "execution_count": 803,
   "metadata": {},
   "outputs": [],
   "source": [
    "from urllib.request import urlopen\n",
    "from io import BytesIO\n",
    "import gzip\n",
    "\n",
    "import time\n",
    "import bibtexparser\n",
    "import pandas as pd\n",
    "import numpy as np\n",
    "import re\n",
    "import binascii\n",
    "import itertools"
   ]
  },
  {
   "cell_type": "markdown",
   "metadata": {},
   "source": [
    "### Download the anthology+abstract file. As the file is in bib form, we later use bibtexparser to parse the file"
   ]
  },
  {
   "cell_type": "code",
   "execution_count": 1,
   "metadata": {},
   "outputs": [
    {
     "name": "stdout",
     "output_type": "stream",
     "text": [
      "@proceedings{woah-2021-online,\n",
      "    title = \"Proceedings of the 5th Workshop on Online Abuse and Harms (WOAH 2021)\",\n",
      "    editor = \"Mostafazadeh Davani, Aida  and\n",
      "      Kiela, Douwe  and\n",
      "      Lambert, Mathias  and\n",
      "      Vidgen, Bertie  and\n",
      "      Prabhakaran, Vinodkumar  and\n",
      "      Waseem, Zeerak\",\n",
      "    month = aug,\n",
      "    year = \"2021\",\n",
      "    address = \"Online\",\n",
      "    publisher = \"Association for Computational Linguistics\",\n",
      "    url = \"https://aclanthology.org/2021.woah-1.0\",\n",
      "}\n",
      "@inproceedings{singh-li-2021-exploiting,\n",
      "    title = \"Exploiting Auxiliary Data for Offensive Language Detection with Bidirectional Transformers\",\n",
      "    author = \"Singh, Sumer  and\n",
      "      Li, Sheng\",\n",
      "    booktitle = \"Proceedings of the 5th Workshop on Online Abuse and Harms (WOAH 2021)\",\n",
      "    month = aug,\n",
      "    year = \"2021\",\n",
      "    address = \"Online\",\n",
      "    publisher = \"Association for Computational Linguistics\",\n",
      "    url = \"https://aclanthology.org/2021.woah-1.1\",\n",
      "    doi = \"10.18653/v1/2021.woah-1.1\",\n",
      "    pages = \"1--5\",\n",
      "    abstract = \"Offensive language detection (OLD) has received increasing attention due to its societal impact. Recent work shows that bidirectional transformer based methods obtain impressive performance on OLD. However, such methods usually rely on large-scale well-labeled OLD datasets for model training. To address the issue of data/label scarcity in OLD, in this paper, we propose a simple yet effective domain adaptation approach to train bidirectional transformers. Our approach introduces domain adaptation (DA) training procedures to ALBERT, such that it can effectively exploit auxiliary data from source domains to improve the OLD performance in a target domain. Experimental results on benchmark datasets show that our approach, ALBERT (DA), obtains the state-of-the-art performance in most cases. Particularly, our approach significantly benefits underrepresented and under-performing classes, with a significant improvement over ALBERT.\",\n",
      "}\n",
      "@inproceedings{hahn-etal-2021-modeling,\n",
      "    title = \"Modeling Profanity and Hate Speech in Social Media with Semantic Subspaces\",\n"
     ]
    }
   ],
   "source": [
    "url = 'https://aclanthology.org/anthology+abstracts.bib.gz'\n",
    "with gzip.open(BytesIO (urlopen(url).read()), 'rb') as fb:\n",
    "    with open('anthology.bib', 'wb') as f:\n",
    "        f.write(fb.read())\n",
    "\n",
    "file = open('anthology.bib')\n",
    "for n in range (30):\n",
    "    print(file.readline()[:-1])"
   ]
  },
  {
   "cell_type": "code",
   "execution_count": 246,
   "metadata": {},
   "outputs": [],
   "source": [
    "with open('anthology.bib') as bibtex_file:\n",
    "    bib_database = bibtexparser.bparser.BibTexParser(common_strings=True).parse_file(bibtex_file)"
   ]
  },
  {
   "cell_type": "code",
   "execution_count": 706,
   "metadata": {},
   "outputs": [
    {
     "name": "stdout",
     "output_type": "stream",
     "text": [
      "[{'url': 'https://aclanthology.org/2021.woah-1.0', 'publisher': 'Association for Computational Linguistics', 'address': 'Online', 'year': '2021', 'month': 'August', 'editor': 'Mostafazadeh Davani, Aida  and\\nKiela, Douwe  and\\nLambert, Mathias  and\\nVidgen, Bertie  and\\nPrabhakaran, Vinodkumar  and\\nWaseem, Zeerak', 'title': 'Proceedings of the 5th Workshop on Online Abuse and Harms (WOAH 2021)', 'ENTRYTYPE': 'proceedings', 'ID': 'woah-2021-online'}, {'abstract': 'Offensive language detection (OLD) has received increasing attention due to its societal impact. Recent work shows that bidirectional transformer based methods obtain impressive performance on OLD. However, such methods usually rely on large-scale well-labeled OLD datasets for model training. To address the issue of data/label scarcity in OLD, in this paper, we propose a simple yet effective domain adaptation approach to train bidirectional transformers. Our approach introduces domain adaptation (DA) training procedures to ALBERT, such that it can effectively exploit auxiliary data from source domains to improve the OLD performance in a target domain. Experimental results on benchmark datasets show that our approach, ALBERT (DA), obtains the state-of-the-art performance in most cases. Particularly, our approach significantly benefits underrepresented and under-performing classes, with a significant improvement over ALBERT.', 'pages': '1--5', 'doi': '10.18653/v1/2021.woah-1.1', 'url': 'https://aclanthology.org/2021.woah-1.1', 'publisher': 'Association for Computational Linguistics', 'address': 'Online', 'year': '2021', 'month': 'August', 'booktitle': 'Proceedings of the 5th Workshop on Online Abuse and Harms (WOAH 2021)', 'author': 'Singh, Sumer  and\\nLi, Sheng', 'title': 'Exploiting Auxiliary Data for Offensive Language Detection with Bidirectional Transformers', 'ENTRYTYPE': 'inproceedings', 'ID': 'singh-li-2021-exploiting'}]\n"
     ]
    }
   ],
   "source": [
    "print(bib_database.entries[:2])"
   ]
  },
  {
   "cell_type": "code",
   "execution_count": 248,
   "metadata": {},
   "outputs": [],
   "source": [
    "bib_df = pd.DataFrame(bib_database.entries)"
   ]
  },
  {
   "cell_type": "code",
   "execution_count": 249,
   "metadata": {},
   "outputs": [
    {
     "data": {
      "text/html": [
       "<div>\n",
       "<style scoped>\n",
       "    .dataframe tbody tr th:only-of-type {\n",
       "        vertical-align: middle;\n",
       "    }\n",
       "\n",
       "    .dataframe tbody tr th {\n",
       "        vertical-align: top;\n",
       "    }\n",
       "\n",
       "    .dataframe thead th {\n",
       "        text-align: right;\n",
       "    }\n",
       "</style>\n",
       "<table border=\"1\" class=\"dataframe\">\n",
       "  <thead>\n",
       "    <tr style=\"text-align: right;\">\n",
       "      <th></th>\n",
       "      <th>url</th>\n",
       "      <th>publisher</th>\n",
       "      <th>address</th>\n",
       "      <th>year</th>\n",
       "      <th>month</th>\n",
       "      <th>editor</th>\n",
       "      <th>title</th>\n",
       "      <th>ENTRYTYPE</th>\n",
       "      <th>ID</th>\n",
       "      <th>abstract</th>\n",
       "      <th>pages</th>\n",
       "      <th>doi</th>\n",
       "      <th>booktitle</th>\n",
       "      <th>author</th>\n",
       "      <th>volume</th>\n",
       "      <th>journal</th>\n",
       "      <th>language</th>\n",
       "      <th>number</th>\n",
       "      <th>isbn</th>\n",
       "      <th>note</th>\n",
       "    </tr>\n",
       "  </thead>\n",
       "  <tbody>\n",
       "    <tr>\n",
       "      <th>0</th>\n",
       "      <td>https://aclanthology.org/2021.woah-1.0</td>\n",
       "      <td>Association for Computational Linguistics</td>\n",
       "      <td>Online</td>\n",
       "      <td>2021</td>\n",
       "      <td>August</td>\n",
       "      <td>Mostafazadeh Davani, Aida  and\\nKiela, Douwe  ...</td>\n",
       "      <td>Proceedings of the 5th Workshop on Online Abus...</td>\n",
       "      <td>proceedings</td>\n",
       "      <td>woah-2021-online</td>\n",
       "      <td>NaN</td>\n",
       "      <td>NaN</td>\n",
       "      <td>NaN</td>\n",
       "      <td>NaN</td>\n",
       "      <td>NaN</td>\n",
       "      <td>NaN</td>\n",
       "      <td>NaN</td>\n",
       "      <td>NaN</td>\n",
       "      <td>NaN</td>\n",
       "      <td>NaN</td>\n",
       "      <td>NaN</td>\n",
       "    </tr>\n",
       "    <tr>\n",
       "      <th>1</th>\n",
       "      <td>https://aclanthology.org/2021.woah-1.1</td>\n",
       "      <td>Association for Computational Linguistics</td>\n",
       "      <td>Online</td>\n",
       "      <td>2021</td>\n",
       "      <td>August</td>\n",
       "      <td>NaN</td>\n",
       "      <td>Exploiting Auxiliary Data for Offensive Langua...</td>\n",
       "      <td>inproceedings</td>\n",
       "      <td>singh-li-2021-exploiting</td>\n",
       "      <td>Offensive language detection (OLD) has receive...</td>\n",
       "      <td>1--5</td>\n",
       "      <td>10.18653/v1/2021.woah-1.1</td>\n",
       "      <td>Proceedings of the 5th Workshop on Online Abus...</td>\n",
       "      <td>Singh, Sumer  and\\nLi, Sheng</td>\n",
       "      <td>NaN</td>\n",
       "      <td>NaN</td>\n",
       "      <td>NaN</td>\n",
       "      <td>NaN</td>\n",
       "      <td>NaN</td>\n",
       "      <td>NaN</td>\n",
       "    </tr>\n",
       "    <tr>\n",
       "      <th>2</th>\n",
       "      <td>https://aclanthology.org/2021.woah-1.2</td>\n",
       "      <td>Association for Computational Linguistics</td>\n",
       "      <td>Online</td>\n",
       "      <td>2021</td>\n",
       "      <td>August</td>\n",
       "      <td>NaN</td>\n",
       "      <td>Modeling Profanity and Hate Speech in Social M...</td>\n",
       "      <td>inproceedings</td>\n",
       "      <td>hahn-etal-2021-modeling</td>\n",
       "      <td>Hate speech and profanity detection suffer fro...</td>\n",
       "      <td>6--16</td>\n",
       "      <td>10.18653/v1/2021.woah-1.2</td>\n",
       "      <td>Proceedings of the 5th Workshop on Online Abus...</td>\n",
       "      <td>Hahn, Vanessa  and\\nRuiter, Dana  and\\nKleinba...</td>\n",
       "      <td>NaN</td>\n",
       "      <td>NaN</td>\n",
       "      <td>NaN</td>\n",
       "      <td>NaN</td>\n",
       "      <td>NaN</td>\n",
       "      <td>NaN</td>\n",
       "    </tr>\n",
       "    <tr>\n",
       "      <th>3</th>\n",
       "      <td>https://aclanthology.org/2021.woah-1.3</td>\n",
       "      <td>Association for Computational Linguistics</td>\n",
       "      <td>Online</td>\n",
       "      <td>2021</td>\n",
       "      <td>August</td>\n",
       "      <td>NaN</td>\n",
       "      <td>{H}ate{BERT}: Retraining {BERT} for Abusive La...</td>\n",
       "      <td>inproceedings</td>\n",
       "      <td>caselli-etal-2021-hatebert</td>\n",
       "      <td>We introduce HateBERT, a re-trained BERT model...</td>\n",
       "      <td>17--25</td>\n",
       "      <td>10.18653/v1/2021.woah-1.3</td>\n",
       "      <td>Proceedings of the 5th Workshop on Online Abus...</td>\n",
       "      <td>Caselli, Tommaso  and\\nBasile, Valerio  and\\nM...</td>\n",
       "      <td>NaN</td>\n",
       "      <td>NaN</td>\n",
       "      <td>NaN</td>\n",
       "      <td>NaN</td>\n",
       "      <td>NaN</td>\n",
       "      <td>NaN</td>\n",
       "    </tr>\n",
       "    <tr>\n",
       "      <th>4</th>\n",
       "      <td>https://aclanthology.org/2021.woah-1.4</td>\n",
       "      <td>Association for Computational Linguistics</td>\n",
       "      <td>Online</td>\n",
       "      <td>2021</td>\n",
       "      <td>August</td>\n",
       "      <td>NaN</td>\n",
       "      <td>Memes in the Wild: Assessing the Generalizabil...</td>\n",
       "      <td>inproceedings</td>\n",
       "      <td>kirk-etal-2021-memes</td>\n",
       "      <td>Hateful memes pose a unique challenge for curr...</td>\n",
       "      <td>26--35</td>\n",
       "      <td>10.18653/v1/2021.woah-1.4</td>\n",
       "      <td>Proceedings of the 5th Workshop on Online Abus...</td>\n",
       "      <td>Kirk, Hannah  and\\nJun, Yennie  and\\nRauba, Pa...</td>\n",
       "      <td>NaN</td>\n",
       "      <td>NaN</td>\n",
       "      <td>NaN</td>\n",
       "      <td>NaN</td>\n",
       "      <td>NaN</td>\n",
       "      <td>NaN</td>\n",
       "    </tr>\n",
       "  </tbody>\n",
       "</table>\n",
       "</div>"
      ],
      "text/plain": [
       "                                      url  \\\n",
       "0  https://aclanthology.org/2021.woah-1.0   \n",
       "1  https://aclanthology.org/2021.woah-1.1   \n",
       "2  https://aclanthology.org/2021.woah-1.2   \n",
       "3  https://aclanthology.org/2021.woah-1.3   \n",
       "4  https://aclanthology.org/2021.woah-1.4   \n",
       "\n",
       "                                   publisher address  year   month  \\\n",
       "0  Association for Computational Linguistics  Online  2021  August   \n",
       "1  Association for Computational Linguistics  Online  2021  August   \n",
       "2  Association for Computational Linguistics  Online  2021  August   \n",
       "3  Association for Computational Linguistics  Online  2021  August   \n",
       "4  Association for Computational Linguistics  Online  2021  August   \n",
       "\n",
       "                                              editor  \\\n",
       "0  Mostafazadeh Davani, Aida  and\\nKiela, Douwe  ...   \n",
       "1                                                NaN   \n",
       "2                                                NaN   \n",
       "3                                                NaN   \n",
       "4                                                NaN   \n",
       "\n",
       "                                               title      ENTRYTYPE  \\\n",
       "0  Proceedings of the 5th Workshop on Online Abus...    proceedings   \n",
       "1  Exploiting Auxiliary Data for Offensive Langua...  inproceedings   \n",
       "2  Modeling Profanity and Hate Speech in Social M...  inproceedings   \n",
       "3  {H}ate{BERT}: Retraining {BERT} for Abusive La...  inproceedings   \n",
       "4  Memes in the Wild: Assessing the Generalizabil...  inproceedings   \n",
       "\n",
       "                           ID  \\\n",
       "0            woah-2021-online   \n",
       "1    singh-li-2021-exploiting   \n",
       "2     hahn-etal-2021-modeling   \n",
       "3  caselli-etal-2021-hatebert   \n",
       "4        kirk-etal-2021-memes   \n",
       "\n",
       "                                            abstract   pages  \\\n",
       "0                                                NaN     NaN   \n",
       "1  Offensive language detection (OLD) has receive...    1--5   \n",
       "2  Hate speech and profanity detection suffer fro...   6--16   \n",
       "3  We introduce HateBERT, a re-trained BERT model...  17--25   \n",
       "4  Hateful memes pose a unique challenge for curr...  26--35   \n",
       "\n",
       "                         doi  \\\n",
       "0                        NaN   \n",
       "1  10.18653/v1/2021.woah-1.1   \n",
       "2  10.18653/v1/2021.woah-1.2   \n",
       "3  10.18653/v1/2021.woah-1.3   \n",
       "4  10.18653/v1/2021.woah-1.4   \n",
       "\n",
       "                                           booktitle  \\\n",
       "0                                                NaN   \n",
       "1  Proceedings of the 5th Workshop on Online Abus...   \n",
       "2  Proceedings of the 5th Workshop on Online Abus...   \n",
       "3  Proceedings of the 5th Workshop on Online Abus...   \n",
       "4  Proceedings of the 5th Workshop on Online Abus...   \n",
       "\n",
       "                                              author volume journal language  \\\n",
       "0                                                NaN    NaN     NaN      NaN   \n",
       "1                       Singh, Sumer  and\\nLi, Sheng    NaN     NaN      NaN   \n",
       "2  Hahn, Vanessa  and\\nRuiter, Dana  and\\nKleinba...    NaN     NaN      NaN   \n",
       "3  Caselli, Tommaso  and\\nBasile, Valerio  and\\nM...    NaN     NaN      NaN   \n",
       "4  Kirk, Hannah  and\\nJun, Yennie  and\\nRauba, Pa...    NaN     NaN      NaN   \n",
       "\n",
       "  number isbn note  \n",
       "0    NaN  NaN  NaN  \n",
       "1    NaN  NaN  NaN  \n",
       "2    NaN  NaN  NaN  \n",
       "3    NaN  NaN  NaN  \n",
       "4    NaN  NaN  NaN  "
      ]
     },
     "execution_count": 249,
     "metadata": {},
     "output_type": "execute_result"
    }
   ],
   "source": [
    "bib_df.head()"
   ]
  },
  {
   "cell_type": "code",
   "execution_count": 250,
   "metadata": {},
   "outputs": [
    {
     "name": "stdout",
     "output_type": "stream",
     "text": [
      "<class 'pandas.core.frame.DataFrame'>\n",
      "RangeIndex: 74430 entries, 0 to 74429\n",
      "Data columns (total 20 columns):\n",
      " #   Column     Non-Null Count  Dtype \n",
      "---  ------     --------------  ----- \n",
      " 0   url        74430 non-null  object\n",
      " 1   publisher  63460 non-null  object\n",
      " 2   address    66669 non-null  object\n",
      " 3   year       74430 non-null  object\n",
      " 4   month      66411 non-null  object\n",
      " 5   editor     1612 non-null   object\n",
      " 6   title      74430 non-null  object\n",
      " 7   ENTRYTYPE  74430 non-null  object\n",
      " 8   ID         74430 non-null  object\n",
      " 9   abstract   30587 non-null  object\n",
      " 10  pages      57848 non-null  object\n",
      " 11  doi        27984 non-null  object\n",
      " 12  booktitle  69847 non-null  object\n",
      " 13  author     71552 non-null  object\n",
      " 14  volume     2319 non-null   object\n",
      " 15  journal    2538 non-null   object\n",
      " 16  language   3029 non-null   object\n",
      " 17  number     1834 non-null   object\n",
      " 18  isbn       1405 non-null   object\n",
      " 19  note       200 non-null    object\n",
      "dtypes: object(20)\n",
      "memory usage: 11.4+ MB\n"
     ]
    }
   ],
   "source": [
    "bib_df.info()"
   ]
  },
  {
   "cell_type": "markdown",
   "metadata": {},
   "source": [
    "### Extract the abstract column for preprocessing, i.e. removing the empty abstracts, very short abstracts and abstracts that are non latin"
   ]
  },
  {
   "cell_type": "code",
   "execution_count": 251,
   "metadata": {},
   "outputs": [],
   "source": [
    "abstract = bib_df['abstract'].dropna()"
   ]
  },
  {
   "cell_type": "code",
   "execution_count": 252,
   "metadata": {},
   "outputs": [
    {
     "name": "stdout",
     "output_type": "stream",
     "text": [
      "{``}在汉语等其他有省略代词习惯的语言中,通常会删掉可从上下文信息推断出的代词。尽管以Transformer为代表的的神经机器翻译模型取得了巨大的成功,但这种省略现象依旧对神经机器翻译模型造成了很大的挑战。本文在Transformer基础上提出了一个融合零指代识别的翻译模型,并引入篇章上下文来丰富指代信息。具体地,该模型采用联合学习的框架,在翻译模型基础上,联合了一个分类任务,即判别句子中省略代词在句子所表示的成分,使得模型能够融合零指代信息辅助翻译。通过在中英对话数据集上的实验,验证了本文提出方法的有效性,与基准模型相比,翻译性能提升了1.48个BLEU值。{''} \n",
      "\n",
      "{``}机器译文自动评价对机器翻译的发展和应用起着重要的促进作用,它一般通过计算机器译文和人工参考译文的相似度来度量机器译文的质量。该文通过跨语种预训练语言模型XLM将源语言句子、机器译文和人工参考译文映射到相同的语义空间,结合分层注意力和内部注意力提取源语言句子与机器译文、机器译文与人工参考译文以及源语言句子与人工参考译文之间差异特征,并将其融入到基于Bi-LSTM神经译文自动评价方法中。在WMT{'}19译文自动评价数据集上的实验结果表明,融合XLM词语表示的神经机器译文自动评价方法显著提高了其与人工评价的相关性。{''} \n",
      "\n",
      "               empty    109\n",
      "   short(< 200 char)     57\n",
      "           non latin    145\n",
      "               other  30276\n"
     ]
    }
   ],
   "source": [
    "minimum = 200\n",
    "example = 0\n",
    "\n",
    "count = {'empty': 0,\n",
    "        f'short(< {minimum} char)': 0,\n",
    "        'non latin': 0,\n",
    "        'other': 0}\n",
    "\n",
    "for a in abstract:\n",
    "    if len(a) == 0:\n",
    "        count['empty'] += 1\n",
    "    elif len(re.findall('[a-zA-Z]',a )) < .2*len(a):\n",
    "        count['non latin'] += 1\n",
    "        if example < 2:\n",
    "            print (a, '\\n')\n",
    "            example += 1\n",
    "    elif len(a) < minimum:\n",
    "        count[f'short(< { minimum} char)'] += 1\n",
    "    else:\n",
    "        count['other'] += 1\n",
    "    \n",
    "for k, v in count.items():\n",
    "    print(f'{k:>20}', f'{v:>6}')"
   ]
  },
  {
   "cell_type": "code",
   "execution_count": 253,
   "metadata": {},
   "outputs": [],
   "source": [
    "for i in abstract.index:\n",
    "    if len(abstract[i]) < 200:\n",
    "        abstract = abstract.drop(labels=i)"
   ]
  },
  {
   "cell_type": "code",
   "execution_count": 254,
   "metadata": {},
   "outputs": [],
   "source": [
    "for i in abstract.index:\n",
    "    if len(re.findall('[a-zA-Z]', abstract[i])) < .2*len(abstract[i]):\n",
    "        abstract = abstract.drop(labels=i)"
   ]
  },
  {
   "cell_type": "markdown",
   "metadata": {},
   "source": [
    "### Choose randomly 1000 abstracts for testing"
   ]
  },
  {
   "cell_type": "code",
   "execution_count": 255,
   "metadata": {},
   "outputs": [],
   "source": [
    "abstract_sample = abstract.sample(n=1000, random_state=1)"
   ]
  },
  {
   "cell_type": "markdown",
   "metadata": {},
   "source": [
    "### Define the function to get shingles of the abstracts"
   ]
  },
  {
   "cell_type": "code",
   "execution_count": 328,
   "metadata": {},
   "outputs": [],
   "source": [
    "def get_shingles(abstract, k):\n",
    "\n",
    "    L = len(abstract)\n",
    "    shingles = set() \n",
    "    \n",
    "    for i in range(L-k+1):\n",
    "        shingle = abstract[i:i+k]\n",
    "        crc = binascii.crc32(shingle.encode('utf-8')) \n",
    "        shingles.add(crc)\n",
    "          \n",
    "    return shingles"
   ]
  },
  {
   "cell_type": "markdown",
   "metadata": {},
   "source": [
    "### Finding similar abstracts using pairwise jaccard similarity approach"
   ]
  },
  {
   "cell_type": "markdown",
   "metadata": {},
   "source": [
    "#### Define the function to calculate the jaccard similarity score between two items"
   ]
  },
  {
   "cell_type": "code",
   "execution_count": 318,
   "metadata": {},
   "outputs": [
    {
     "data": {
      "text/plain": [
       "0.028311425682507583"
      ]
     },
     "execution_count": 318,
     "metadata": {},
     "output_type": "execute_result"
    }
   ],
   "source": [
    "def jaccard_similarity_score(x, y):\n",
    "    \"\"\"\n",
    "    Jaccard Similarity J (A,B) = | Intersection (A,B) | /\n",
    "                                    | Union (A,B) |\n",
    "    \"\"\"\n",
    "    intersection_cardinality = len(set(x).intersection(set(y)))\n",
    "    union_cardinality = len(set(x).union(set(y)))\n",
    "    return intersection_cardinality / float(union_cardinality)"
   ]
  },
  {
   "cell_type": "markdown",
   "metadata": {},
   "source": [
    "#### Find the similar items using pairwise jaccard similarities with k_shingles=3"
   ]
  },
  {
   "cell_type": "code",
   "execution_count": 319,
   "metadata": {},
   "outputs": [
    {
     "name": "stdout",
     "output_type": "stream",
     "text": [
      "Time elapsed after the function: 238s\n",
      "Number of similar items for k=3: 495420 with threshold s: 0.1\n",
      "Time elapsed after the function: 499s\n",
      "Number of similar items for k=3: 300548 with threshold s: 0.2\n"
     ]
    }
   ],
   "source": [
    "support_threshold = [0.1, 0.2]\n",
    "k = 3\n",
    "\n",
    "start = time.time()\n",
    "for s in support_threshold:\n",
    "    candidates = []\n",
    "    for pair in itertools.combinations(abstract_sample, 2):\n",
    "        js = jaccard_similarity_score(get_shingles(pair[0], k),get_shingles(pair[1], k))\n",
    "        \n",
    "        if js > s:\n",
    "            candidates.append(pair)\n",
    "    print('Time elapsed after the function: {}s'.format(round(time.time()-start),2))\n",
    "    print('Number of similar items for k=3: {} with threshold s: {}'.format(len(candidates), s))"
   ]
  },
  {
   "cell_type": "markdown",
   "metadata": {},
   "source": [
    "#### Find the similar items using pairwise Jaccard similarities with k_shingles=5"
   ]
  },
  {
   "cell_type": "code",
   "execution_count": 320,
   "metadata": {},
   "outputs": [
    {
     "name": "stdout",
     "output_type": "stream",
     "text": [
      "Time elapsed after the function: 262s\n",
      "Number of similar items for k=5: 3866 with threshold s:0.1\n",
      "Time elapsed after the function: 486s\n",
      "Number of similar items for k=5: 4 with threshold s:0.2\n"
     ]
    }
   ],
   "source": [
    "support_threshold = [0.1, 0.2]\n",
    "k = 5\n",
    "\n",
    "start = time.time()\n",
    "for s in support_threshold:\n",
    "    candidates = []\n",
    "    for pair in itertools.combinations(abstract_sample, 2):\n",
    "        js = jaccard_similarity_score(get_shingles(pair[0], k),get_shingles(pair[1], k))\n",
    "        \n",
    "        if js > s:\n",
    "            candidates.append(pair)\n",
    "    print('Time elapsed after the function: {}s'.format(round(time.time()-start),2))\n",
    "    print('Number of similar items for k=5: {} with threshold s:{}'.format(len(candidates), s))"
   ]
  },
  {
   "cell_type": "markdown",
   "metadata": {},
   "source": [
    "#### Find the similar items using pairwise Jaccard similarities with k_shingles=10"
   ]
  },
  {
   "cell_type": "code",
   "execution_count": 707,
   "metadata": {},
   "outputs": [
    {
     "name": "stdout",
     "output_type": "stream",
     "text": [
      "Time elapsed after the function: 230 s\n",
      "Number of similar items for k=10: 2 with threshold s: 0.1\n",
      "Time elapsed after the function: 459 s\n",
      "Number of similar items for k=10: 1 with threshold s: 0.2\n"
     ]
    }
   ],
   "source": [
    "support_threshold = [0.1, 0.2]\n",
    "k = 10\n",
    "\n",
    "start = time.time()\n",
    "for s in support_threshold:\n",
    "    candidates = []\n",
    "    for pair in itertools.combinations(abstract_sample, 2):\n",
    "        js = jaccard_similarity_score(get_shingles(pair[0], k),get_shingles(pair[1], k))\n",
    "        \n",
    "        if js > s:\n",
    "            candidates.append(pair)\n",
    "    print('Time elapsed after the function: {} s'.format(round(time.time()-start),2))\n",
    "    print('Number of similar items for k=10: {} with threshold s: {}'.format(len(candidates), s))"
   ]
  },
  {
   "cell_type": "markdown",
   "metadata": {},
   "source": [
    "### Finding similar abstracts using minhashing approach (for 50 hashing functions)"
   ]
  },
  {
   "cell_type": "markdown",
   "metadata": {},
   "source": [
    "#### Setting factors of 50 hashing functions for minhashing function"
   ]
  },
  {
   "cell_type": "code",
   "execution_count": 331,
   "metadata": {},
   "outputs": [],
   "source": [
    "#bands = 10\n",
    "#rows = 5\n",
    "nsig_50 = 50 # number of random hashing functions\n",
    "\n",
    "maxShingleID = 2**32-1  # record the maximum shingle ID that we assigned\n",
    "nextPrime = 4294967311  # next prime number after maxShingleID\n",
    "\n",
    "A_50 = numpy.random.randint(0, nextPrime, size=(nsig_50,),dtype=numpy.int64)\n",
    "B_50 = numpy.random.randint(0, nextPrime, size=(nsig_50,),dtype=numpy.int64)"
   ]
  },
  {
   "cell_type": "markdown",
   "metadata": {},
   "source": [
    "#### Define function to get vectorized minhashing signature"
   ]
  },
  {
   "cell_type": "code",
   "execution_count": 332,
   "metadata": {},
   "outputs": [],
   "source": [
    "def minhash_vectorized(shingles, A, B, nextPrime, maxShingleID, nsig):\n",
    "    signature = numpy.ones((nsig,)) * (maxShingleID + 1)\n",
    "\n",
    "    for ShingleID in shingles:\n",
    "        hashCodes = ((A*ShingleID + B) % nextPrime) % maxShingleID\n",
    "        numpy.minimum(signature, hashCodes, out=signature)\n",
    "\n",
    "    return signature"
   ]
  },
  {
   "cell_type": "markdown",
   "metadata": {},
   "source": [
    "#### Define the function to get the candidates of similar pairs"
   ]
  },
  {
   "cell_type": "code",
   "execution_count": 711,
   "metadata": {},
   "outputs": [],
   "source": [
    "def minhashing_get_candidate(k, A, B, nsig, s):\n",
    "    signatures = []  # signatures for all files\n",
    "    for text in abstract_sample:\n",
    "        shingles = get_shingles(text, k)\n",
    "        signature = minhash_vectorized(shingles, A, B, nextPrime, maxShingleID, nsig)\n",
    "        signatures.append(signature)\n",
    "        \n",
    "    Nfiles = len(signatures)\n",
    "    t = time.time()\n",
    "    candidates = []\n",
    "    for i in range(Nfiles):\n",
    "        for j in range(i+1, Nfiles):\n",
    "            Jsim = numpy.mean(signatures[i] == signatures[j])  \n",
    "            # average number of similar items in \n",
    "            # two vectors, equivalente to Jaccard     \n",
    "            if Jsim >= s:\n",
    "                candidates.append((i,j))\n",
    "    print(\"finding candidates took {} seconds\".format(time.time() - t))\n",
    "    print(\"found {} candidates using MH for k={}, s={}\".format(len(candidates), k, s))\n",
    "    return candidates                "
   ]
  },
  {
   "cell_type": "markdown",
   "metadata": {},
   "source": [
    "#### Find the similar items using MinHash of 50 hashing functions with k_shingles=3, s_threshold=[0.1, 0.2]"
   ]
  },
  {
   "cell_type": "code",
   "execution_count": 712,
   "metadata": {},
   "outputs": [
    {
     "name": "stdout",
     "output_type": "stream",
     "text": [
      "finding candidates took 3.10728120803833 seconds\n",
      "found 477081 candidates using MH for k=3, s=0.1\n"
     ]
    }
   ],
   "source": [
    "candidate_50_3_s1 = minhashing_get_candidate(3, A_50, B_50, nsig_50, 0.1)"
   ]
  },
  {
   "cell_type": "code",
   "execution_count": 713,
   "metadata": {},
   "outputs": [
    {
     "name": "stdout",
     "output_type": "stream",
     "text": [
      "finding candidates took 2.8670191764831543 seconds\n",
      "found 259628 candidates using MH for k=3, s=0.2\n"
     ]
    }
   ],
   "source": [
    "candidate_50_3_s2 = minhashing_get_candidate(3, A_50, B_50, nsig_50, 0.2)"
   ]
  },
  {
   "cell_type": "markdown",
   "metadata": {},
   "source": [
    "#### Find the similar items using MinHash of 50 hashing functions with k_shingles=5, s_threshold=[0.1, 0.2]"
   ]
  },
  {
   "cell_type": "code",
   "execution_count": 714,
   "metadata": {},
   "outputs": [
    {
     "name": "stdout",
     "output_type": "stream",
     "text": [
      "finding candidates took 2.873148202896118 seconds\n",
      "found 80488 candidates using MH for k=5, s=0.1\n"
     ]
    }
   ],
   "source": [
    "candidate_50_5_s1 = minhashing_get_candidate(5, A_50, B_50, nsig_50, 0.1)"
   ]
  },
  {
   "cell_type": "code",
   "execution_count": 715,
   "metadata": {
    "scrolled": true
   },
   "outputs": [
    {
     "name": "stdout",
     "output_type": "stream",
     "text": [
      "finding candidates took 2.8205204010009766 seconds\n",
      "found 695 candidates using MH for k=5, s=0.2\n"
     ]
    }
   ],
   "source": [
    "candidate_50_5_s2 = minhashing_get_candidate(5, A_50, B_50, nsig_50, 0.2)"
   ]
  },
  {
   "cell_type": "markdown",
   "metadata": {},
   "source": [
    "#### Find the similar items using MinHash of 50 hashing functions with k_shingles=10, s_threshold=[0.1, 0.2]"
   ]
  },
  {
   "cell_type": "code",
   "execution_count": 716,
   "metadata": {},
   "outputs": [
    {
     "name": "stdout",
     "output_type": "stream",
     "text": [
      "finding candidates took 2.8836007118225098 seconds\n",
      "found 137 candidates using MH for k=10, s=0.1\n"
     ]
    }
   ],
   "source": [
    "candidate_50_10_s1 = minhashing_get_candidate(10, A_50, B_50, nsig_50, 0.1)"
   ]
  },
  {
   "cell_type": "code",
   "execution_count": 717,
   "metadata": {},
   "outputs": [
    {
     "name": "stdout",
     "output_type": "stream",
     "text": [
      "finding candidates took 2.8603157997131348 seconds\n",
      "found 1 candidates using MH for k=10, s=0.2\n"
     ]
    }
   ],
   "source": [
    "candidate_50_10_s2 = minhashing_get_candidate(10, A_50, B_50, nsig_50, 0.2)"
   ]
  },
  {
   "cell_type": "markdown",
   "metadata": {},
   "source": [
    "### Finding similar items using Local Sensitive Hashing approach (for 50 hashing functions)"
   ]
  },
  {
   "cell_type": "markdown",
   "metadata": {},
   "source": [
    "#### Define the function for local sensitive hashing"
   ]
  },
  {
   "cell_type": "code",
   "execution_count": 358,
   "metadata": {},
   "outputs": [],
   "source": [
    "def LSH(signatures, bands, rows, Ab, Bb, nextPrime, maxShingleID):\n",
    "    \"\"\"Locality Sensitive Hashing\n",
    "    \"\"\"\n",
    "    numItems = signatures.shape[1]\n",
    "    signBands = numpy.array_split(signatures, bands, axis=0)\n",
    "    candidates = set()\n",
    "    for nb in range(bands):\n",
    "        hashTable = {}\n",
    "        for ni in range(numItems):\n",
    "            item = signBands[nb][:,ni]\n",
    "            hash = (numpy.dot(Ab[nb,:], item) + Bb[nb]) % nextPrime % maxShingleID\n",
    "            if hash not in hashTable:\n",
    "                hashTable[hash] = [ni]\n",
    "            else:\n",
    "                hashTable[hash].append(ni)\n",
    "        for _,items in hashTable.items():\n",
    "            if len(items) > 1:\n",
    "                L = len(items)\n",
    "                for i in range(L-1):\n",
    "                    for j in range(i+1, L):\n",
    "                        cand = [items[i], items[j]]\n",
    "                        numpy.sort(cand)\n",
    "                        candidates.add(tuple(cand))\n",
    "    return candidates"
   ]
  },
  {
   "cell_type": "markdown",
   "metadata": {},
   "source": [
    "#### Define the function to get the candidates of similar pairs using local sensitive hashing"
   ]
  },
  {
   "cell_type": "code",
   "execution_count": 718,
   "metadata": {},
   "outputs": [],
   "source": [
    "def LSH_get_candidate(k, A, B, nsig, bands, rows):\n",
    "    signatures = []  # signatures for all files\n",
    "    for text in abstract_sample:\n",
    "        shingles = get_shingles(text, k)\n",
    "        signature = minhash_vectorized(shingles, A, B, nextPrime, maxShingleID, nsig)\n",
    "        signatures.append(signature)\n",
    "    \n",
    "    # prepare data for LSH\n",
    "    A2 = numpy.random.randint(0, nextPrime/2, size=(bands, rows))  \n",
    "    B2 = numpy.random.randint(0, nextPrime/2, size=(bands, ))\n",
    "    signatures = numpy.array(signatures).T \n",
    "    \n",
    "    Nfiles = signatures.shape[1]  \n",
    "    t = time.time()\n",
    "    candidates = LSH(signatures, bands, rows, A2, B2, nextPrime, maxShingleID)\n",
    "    t2 = time.time() - t\n",
    "    print(\"finding candidates took {} seconds\".format(t2))\n",
    "    print(\"Using LSH with k={}, found {} candidates\".format(k,len(candidates)))\n",
    "    return candidates"
   ]
  },
  {
   "cell_type": "markdown",
   "metadata": {},
   "source": [
    "#### Find the similar items using LSH of 50 hashing functions with k=3"
   ]
  },
  {
   "cell_type": "code",
   "execution_count": 719,
   "metadata": {},
   "outputs": [
    {
     "name": "stdout",
     "output_type": "stream",
     "text": [
      "finding candidates took 0.027782678604125977 seconds\n",
      "Using LSH with k=3, found 1507 candidates\n"
     ]
    }
   ],
   "source": [
    "candidates_LSH_50_3 = LSH_get_candidate(3, A_50, B_50, nsig_50, 10, 5)"
   ]
  },
  {
   "cell_type": "markdown",
   "metadata": {},
   "source": [
    "#### Find the similar items using LSH of 50 hashing functions with k=5"
   ]
  },
  {
   "cell_type": "code",
   "execution_count": 720,
   "metadata": {},
   "outputs": [
    {
     "name": "stdout",
     "output_type": "stream",
     "text": [
      "finding candidates took 0.02080821990966797 seconds\n",
      "Using LSH with k=5, found 3 candidates\n"
     ]
    }
   ],
   "source": [
    "candidates_LSH_50_5 = LSH_get_candidate(5, A_50, B_50, nsig_50, 10, 5)"
   ]
  },
  {
   "cell_type": "markdown",
   "metadata": {},
   "source": [
    "#### Examine a bit the candidates get by the local sensitve hashing"
   ]
  },
  {
   "cell_type": "code",
   "execution_count": 382,
   "metadata": {},
   "outputs": [
    {
     "data": {
      "text/plain": [
       "{(151, 153), (224, 621), (509, 792)}"
      ]
     },
     "execution_count": 382,
     "metadata": {},
     "output_type": "execute_result"
    }
   ],
   "source": [
    "candidates_LSH_50_5"
   ]
  },
  {
   "cell_type": "markdown",
   "metadata": {},
   "source": [
    "#### For the threshold 0.1 to 0.2, there are some similar words such as 'language' or '19'"
   ]
  },
  {
   "cell_type": "code",
   "execution_count": 384,
   "metadata": {},
   "outputs": [
    {
     "data": {
      "text/plain": [
       "('Language domains that require very careful use of terminology are abundant and reflect a significant part of the translation industry. In this work we introduce a benchmark for evaluating the quality and consistency of terminology translation, focusing on the medical (and COVID-19 specifically) domain for five language pairs: English to French, Chinese, Russian, and Korean, as well as Czech to German. We report the descriptions and results of the participating systems, commenting on the need for further research efforts towards both more adequate handling of terminologies as well as towards a proper formulation and evaluation of the task.',\n",
       " 'We report the results of the WMT 2021 shared task on Quality Estimation, where the challenge is to predict the quality of the output of neural machine translation systems at the word and sentence levels. This edition focused on two main novel additions: (i) prediction for unseen languages, i.e. zero-shot settings, and (ii) prediction of sentences with catastrophic errors. In addition, new data was released for a number of languages, especially post-edited data. Participating teams from 19 institutions submitted altogether 1263 systems to different task variants and language pairs.')"
      ]
     },
     "execution_count": 384,
     "metadata": {},
     "output_type": "execute_result"
    }
   ],
   "source": [
    "abstract.loc[151], abstract.loc[153]"
   ]
  },
  {
   "cell_type": "markdown",
   "metadata": {},
   "source": [
    "#### Find the similar items using LSH of 50 hashing functions with k=10"
   ]
  },
  {
   "cell_type": "code",
   "execution_count": 721,
   "metadata": {},
   "outputs": [
    {
     "name": "stdout",
     "output_type": "stream",
     "text": [
      "finding candidates took 0.020075082778930664 seconds\n",
      "Using LSH with k=10, found 0 candidates\n"
     ]
    }
   ],
   "source": [
    "candidates_LSH_50_10 = LSH_get_candidate(10, A_50, B_50, nsig_50, 10, 5)"
   ]
  },
  {
   "cell_type": "markdown",
   "metadata": {},
   "source": [
    "### Summary"
   ]
  },
  {
   "cell_type": "code",
   "execution_count": 2,
   "metadata": {},
   "outputs": [
    {
     "name": "stdout",
     "output_type": "stream",
     "text": [
      "Collecting tabulate\n",
      "  Downloading tabulate-0.8.9-py3-none-any.whl (25 kB)\n",
      "Installing collected packages: tabulate\n",
      "Successfully installed tabulate-0.8.9\n"
     ]
    }
   ],
   "source": [
    "#! pip install tabulate"
   ]
  },
  {
   "cell_type": "code",
   "execution_count": 3,
   "metadata": {},
   "outputs": [
    {
     "name": "stdout",
     "output_type": "stream",
     "text": [
      "method                     k_shingles  threshold      no. of similar pairs    time-seconds\n",
      "-----------------------  ------------  -----------  ----------------------  --------------\n",
      "jaccard similarity                  3  0.1                          495420          238\n",
      "minhashing_50                       3  0.1                          477081            3.01\n",
      "jaccard similarity                  5  0.1                            3866          262\n",
      "minhashing_50                       5  0.1                           80488            2.98\n",
      "jaccard similarity                 10  0.1                               2          230\n",
      "minhashing_50                      10  0.1                             137            2.96\n",
      "jaccard similarity                  3  0.2                          300548          499\n",
      "minhashing_50                       3  0.2                          259628            2.97\n",
      "jaccard similarity                  5  0.2                               4          486\n",
      "minhashing_50                       5  0.2                             695            2.88\n",
      "jaccard similarity                 10  0.2                               1          459\n",
      "minhashing_50                      10  0.2                               1            2.96\n",
      "local sensitive hashing             3  na                             1507            0.02\n",
      "local sensitive hashing             5  na                                3            0.02\n",
      "local sensitive hashing            10  na                                0            0.02\n"
     ]
    }
   ],
   "source": [
    "from tabulate import tabulate\n",
    "\n",
    "summary_part1 = [\n",
    "    ['jaccard similarity', 3, 0.1, 495420, 238],\n",
    "    ['minhashing_50', 3, 0.1, 477081, 3.01],\n",
    "    ['jaccard similarity', 5, 0.1, 3866, 262],\n",
    "    ['minhashing_50', 5, 0.1, 80488, 2.98],\n",
    "    ['jaccard similarity', 10, 0.1, 2, 230],\n",
    "    ['minhashing_50', 10, 0.1, 137, 2.96],\n",
    "    ['jaccard similarity', 3, 0.2, 300548, 499],\n",
    "    ['minhashing_50', 3, 0.2, 259628, 2.97],\n",
    "    ['jaccard similarity', 5, 0.2, 4, 486],\n",
    "    ['minhashing_50', 5, 0.2, 695, 2.88],\n",
    "    ['jaccard similarity', 10, 0.2, 1, 459],\n",
    "    ['minhashing_50', 10, 0.2, 1, 2.96],\n",
    "    ['local sensitive hashing', 3, 'na', 1507, 0.02],\n",
    "    ['local sensitive hashing', 5, 'na', 3, 0.02],\n",
    "    ['local sensitive hashing', 10, 'na', 0, 0.02]\n",
    "]\n",
    "\n",
    "col_names = ['method', 'k_shingles', 'threshold', 'no. of similar pairs', 'time-seconds']\n",
    "\n",
    "print(tabulate(summary_part1, headers=col_names))"
   ]
  },
  {
   "cell_type": "markdown",
   "metadata": {},
   "source": [
    " - Jaccard similarity approach took the longest time for running.\n",
    " - As k_shingles and threshold increases, the number of similar items found decrease.\n",
    " - For small k_shingles and low threshold, jaccard similarty approach found more similar pairs than the other approach.\n",
    " - Local sensitive hashing approach found the least similar pairs even though operation time for this approach is the most efficient, which shows the trade-off between efficiency and precision."
   ]
  },
  {
   "cell_type": "markdown",
   "metadata": {},
   "source": [
    "### Minhashing approach with 100 hashing functions"
   ]
  },
  {
   "cell_type": "code",
   "execution_count": 385,
   "metadata": {},
   "outputs": [],
   "source": [
    "bands = 10\n",
    "rows = 10\n",
    "nsig_100 = 100 # number of random hashing functions\n",
    "\n",
    "A_100 = numpy.random.randint(0, nextPrime, size=(nsig_100,),dtype=numpy.int64)\n",
    "B_100 = numpy.random.randint(0, nextPrime, size=(nsig_100,),dtype=numpy.int64)"
   ]
  },
  {
   "cell_type": "markdown",
   "metadata": {},
   "source": [
    "#### For k=3 and s=[0.1, 0.2, 0.25]"
   ]
  },
  {
   "cell_type": "code",
   "execution_count": 386,
   "metadata": {},
   "outputs": [
    {
     "name": "stdout",
     "output_type": "stream",
     "text": [
      "finding candidates took 3.074214220046997 seconds\n",
      "found 493210 candidates using MH for k=3, s=0.1\n"
     ]
    }
   ],
   "source": [
    "candidate_100_3_s1 = minhashing_get_candidate(3, A_100, B_100, nsig_100, 0.1)"
   ]
  },
  {
   "cell_type": "code",
   "execution_count": 387,
   "metadata": {},
   "outputs": [
    {
     "name": "stdout",
     "output_type": "stream",
     "text": [
      "finding candidates took 3.1266071796417236 seconds\n",
      "found 390658 candidates using MH for k=3, s=0.2\n"
     ]
    }
   ],
   "source": [
    "candidate_100_3_s2 = minhashing_get_candidate(3, A_100, B_100, nsig_100, 0.2)"
   ]
  },
  {
   "cell_type": "code",
   "execution_count": 392,
   "metadata": {},
   "outputs": [
    {
     "name": "stdout",
     "output_type": "stream",
     "text": [
      "finding candidates took 3.0444161891937256 seconds\n",
      "found 253839 candidates using MH for k=3, s=0.25\n"
     ]
    }
   ],
   "source": [
    "candidate_100_3_s3 = minhashing_get_candidate(3, A_100, B_100, nsig_100, 0.25)"
   ]
  },
  {
   "cell_type": "markdown",
   "metadata": {},
   "source": [
    "#### For k=5 and s=[0.1, 0.2, 0.25]"
   ]
  },
  {
   "cell_type": "code",
   "execution_count": 388,
   "metadata": {},
   "outputs": [
    {
     "name": "stdout",
     "output_type": "stream",
     "text": [
      "finding candidates took 3.071849822998047 seconds\n",
      "found 62949 candidates using MH for k=5, s=0.1\n"
     ]
    }
   ],
   "source": [
    "candidate_100_5_s1 = minhashing_get_candidate(5, A_100, B_100, nsig_100, 0.1)"
   ]
  },
  {
   "cell_type": "code",
   "execution_count": 389,
   "metadata": {},
   "outputs": [
    {
     "name": "stdout",
     "output_type": "stream",
     "text": [
      "finding candidates took 2.9927611351013184 seconds\n",
      "found 75 candidates using MH for k=5, s=0.2\n"
     ]
    }
   ],
   "source": [
    "candidate_100_5_s2 = minhashing_get_candidate(5, A_100, B_100, nsig_100, 0.2)"
   ]
  },
  {
   "cell_type": "code",
   "execution_count": 393,
   "metadata": {},
   "outputs": [
    {
     "name": "stdout",
     "output_type": "stream",
     "text": [
      "finding candidates took 3.0406181812286377 seconds\n",
      "found 2 candidates using MH for k=5, s=0.25\n"
     ]
    }
   ],
   "source": [
    "candidate_100_5_s3 = minhashing_get_candidate(5, A_100, B_100, nsig_100, 0.25)"
   ]
  },
  {
   "cell_type": "markdown",
   "metadata": {},
   "source": [
    "#### For k=10 and s=[0.1, 0.2, 0.25]"
   ]
  },
  {
   "cell_type": "code",
   "execution_count": 390,
   "metadata": {},
   "outputs": [
    {
     "name": "stdout",
     "output_type": "stream",
     "text": [
      "finding candidates took 3.004925489425659 seconds\n",
      "found 5 candidates using MH for k=10, s=0.1\n"
     ]
    }
   ],
   "source": [
    "candidate_100_10_s1 = minhashing_get_candidate(10, A_100, B_100, nsig_100, 0.1)"
   ]
  },
  {
   "cell_type": "code",
   "execution_count": 394,
   "metadata": {},
   "outputs": [
    {
     "name": "stdout",
     "output_type": "stream",
     "text": [
      "finding candidates took 3.0142905712127686 seconds\n",
      "found 1 candidates using MH for k=10, s=0.2\n"
     ]
    }
   ],
   "source": [
    "candidate_100_10_s2 = minhashing_get_candidate(10, A_100, B_100, nsig_100, 0.2)"
   ]
  },
  {
   "cell_type": "code",
   "execution_count": 395,
   "metadata": {},
   "outputs": [
    {
     "name": "stdout",
     "output_type": "stream",
     "text": [
      "finding candidates took 2.9273664951324463 seconds\n",
      "found 1 candidates using MH for k=10, s=0.25\n"
     ]
    }
   ],
   "source": [
    "candidate_100_10_s3 = minhashing_get_candidate(10, A_100, B_100, nsig_100, 0.25)"
   ]
  },
  {
   "cell_type": "markdown",
   "metadata": {},
   "source": [
    "### Local sensitive hashing with 100 hashing functions"
   ]
  },
  {
   "cell_type": "code",
   "execution_count": 396,
   "metadata": {},
   "outputs": [
    {
     "name": "stdout",
     "output_type": "stream",
     "text": [
      "finding candidates took 0.01987910270690918 seconds\n",
      "Using LSH with k=3, found 8 candidates\n"
     ]
    }
   ],
   "source": [
    "candidates_LSH_100_3 = LSH_get_candidate(3, A_100, B_100, nsig_100, 10, 10)"
   ]
  },
  {
   "cell_type": "code",
   "execution_count": 397,
   "metadata": {},
   "outputs": [
    {
     "name": "stdout",
     "output_type": "stream",
     "text": [
      "finding candidates took 0.019651412963867188 seconds\n",
      "Using LSH with k=5, found 0 candidates\n"
     ]
    }
   ],
   "source": [
    "candidates_LSH_100_5 = LSH_get_candidate(5, A_100, B_100, nsig_100, 10, 10)"
   ]
  },
  {
   "cell_type": "code",
   "execution_count": 398,
   "metadata": {},
   "outputs": [
    {
     "name": "stdout",
     "output_type": "stream",
     "text": [
      "finding candidates took 0.019991636276245117 seconds\n",
      "Using LSH with k=10, found 0 candidates\n"
     ]
    }
   ],
   "source": [
    "candidates_LSH_100_10 = LSH_get_candidate(10, A_100, B_100, nsig_100, 10, 10)"
   ]
  },
  {
   "cell_type": "markdown",
   "metadata": {},
   "source": [
    "### Minhashing approach with 200 hashing functions"
   ]
  },
  {
   "cell_type": "code",
   "execution_count": 399,
   "metadata": {},
   "outputs": [],
   "source": [
    "bands = 20\n",
    "rows = 10\n",
    "nsig_200 = 200 # number of random hashing functions\n",
    "\n",
    "A_200 = numpy.random.randint(0, nextPrime, size=(nsig_200,),dtype=numpy.int64)\n",
    "B_200 = numpy.random.randint(0, nextPrime, size=(nsig_200,),dtype=numpy.int64)"
   ]
  },
  {
   "cell_type": "markdown",
   "metadata": {},
   "source": [
    "#### For k=3 and s=[0.1, 0.2, 0.25]"
   ]
  },
  {
   "cell_type": "code",
   "execution_count": 400,
   "metadata": {},
   "outputs": [
    {
     "name": "stdout",
     "output_type": "stream",
     "text": [
      "finding candidates took 3.2767326831817627 seconds\n",
      "found 496340 candidates using MH for k=3, s=0.1\n"
     ]
    }
   ],
   "source": [
    "candidate_200_3_s1 = minhashing_get_candidate(3, A_200, B_200, nsig_200, 0.1)"
   ]
  },
  {
   "cell_type": "code",
   "execution_count": 401,
   "metadata": {},
   "outputs": [
    {
     "name": "stdout",
     "output_type": "stream",
     "text": [
      "finding candidates took 3.181777238845825 seconds\n",
      "found 352415 candidates using MH for k=3, s=0.2\n"
     ]
    }
   ],
   "source": [
    "candidate_200_3_s2 = minhashing_get_candidate(3, A_200, B_200, nsig_200, 0.2)"
   ]
  },
  {
   "cell_type": "code",
   "execution_count": 402,
   "metadata": {},
   "outputs": [
    {
     "name": "stdout",
     "output_type": "stream",
     "text": [
      "finding candidates took 3.2455759048461914 seconds\n",
      "found 171650 candidates using MH for k=3, s=0.25\n"
     ]
    }
   ],
   "source": [
    "candidate_200_3_s3 = minhashing_get_candidate(3, A_200, B_200, nsig_200, 0.25)"
   ]
  },
  {
   "cell_type": "markdown",
   "metadata": {},
   "source": [
    "#### For k=5 and s=[0.1, 0.2, 0.25]"
   ]
  },
  {
   "cell_type": "code",
   "execution_count": 403,
   "metadata": {},
   "outputs": [
    {
     "name": "stdout",
     "output_type": "stream",
     "text": [
      "finding candidates took 3.1560351848602295 seconds\n",
      "found 8949 candidates using MH for k=5, s=0.1\n"
     ]
    }
   ],
   "source": [
    "candidate_200_5_s1 = minhashing_get_candidate(5, A_200, B_200, nsig_200, 0.1)"
   ]
  },
  {
   "cell_type": "code",
   "execution_count": 404,
   "metadata": {},
   "outputs": [
    {
     "name": "stdout",
     "output_type": "stream",
     "text": [
      "finding candidates took 3.1558499336242676 seconds\n",
      "found 4 candidates using MH for k=5, s=0.2\n"
     ]
    }
   ],
   "source": [
    "candidate_200_5_s2 = minhashing_get_candidate(5, A_200, B_200, nsig_200, 0.2)"
   ]
  },
  {
   "cell_type": "code",
   "execution_count": 405,
   "metadata": {},
   "outputs": [
    {
     "name": "stdout",
     "output_type": "stream",
     "text": [
      "finding candidates took 3.2064948081970215 seconds\n",
      "found 1 candidates using MH for k=5, s=0.25\n"
     ]
    }
   ],
   "source": [
    "candidate_200_5_s3 = minhashing_get_candidate(5, A_200, B_200, nsig_200, 0.25)"
   ]
  },
  {
   "cell_type": "markdown",
   "metadata": {},
   "source": [
    "#### For k=10 and s=[0.1, 0.2, 0.25]"
   ]
  },
  {
   "cell_type": "code",
   "execution_count": 406,
   "metadata": {},
   "outputs": [
    {
     "name": "stdout",
     "output_type": "stream",
     "text": [
      "finding candidates took 3.117715358734131 seconds\n",
      "found 4 candidates using MH for k=10, s=0.1\n"
     ]
    }
   ],
   "source": [
    "candidate_200_10_s1 = minhashing_get_candidate(10, A_200, B_200, nsig_200, 0.1)"
   ]
  },
  {
   "cell_type": "code",
   "execution_count": 407,
   "metadata": {},
   "outputs": [
    {
     "name": "stdout",
     "output_type": "stream",
     "text": [
      "finding candidates took 3.140965461730957 seconds\n",
      "found 1 candidates using MH for k=10, s=0.2\n"
     ]
    }
   ],
   "source": [
    "candidate_200_10_s2 = minhashing_get_candidate(10, A_200, B_200, nsig_200, 0.2)"
   ]
  },
  {
   "cell_type": "code",
   "execution_count": 408,
   "metadata": {},
   "outputs": [
    {
     "name": "stdout",
     "output_type": "stream",
     "text": [
      "finding candidates took 3.1392266750335693 seconds\n",
      "found 1 candidates using MH for k=10, s=0.25\n"
     ]
    }
   ],
   "source": [
    "candidate_200_10_s3 = minhashing_get_candidate(10, A_200, B_200, nsig_200, 0.25)"
   ]
  },
  {
   "cell_type": "markdown",
   "metadata": {},
   "source": [
    "### Local sensitive hashing with 200 hashing functions"
   ]
  },
  {
   "cell_type": "code",
   "execution_count": 409,
   "metadata": {},
   "outputs": [
    {
     "name": "stdout",
     "output_type": "stream",
     "text": [
      "finding candidates took 0.03911876678466797 seconds\n",
      "Using LSH with k=3, found 5 candidates\n"
     ]
    }
   ],
   "source": [
    "candidates_LSH_200_3 = LSH_get_candidate(3, A_200, B_200, nsig_200, 20, 10)"
   ]
  },
  {
   "cell_type": "code",
   "execution_count": 410,
   "metadata": {},
   "outputs": [
    {
     "name": "stdout",
     "output_type": "stream",
     "text": [
      "finding candidates took 0.03941845893859863 seconds\n",
      "Using LSH with k=5, found 0 candidates\n"
     ]
    }
   ],
   "source": [
    "candidates_LSH_200_5 = LSH_get_candidate(5, A_200, B_200, nsig_200, 20, 10)"
   ]
  },
  {
   "cell_type": "code",
   "execution_count": 411,
   "metadata": {},
   "outputs": [
    {
     "name": "stdout",
     "output_type": "stream",
     "text": [
      "finding candidates took 0.039392948150634766 seconds\n",
      "Using LSH with k=10, found 0 candidates\n"
     ]
    }
   ],
   "source": [
    "candidates_LSH_200_10 = LSH_get_candidate(10, A_200, B_200, nsig_200, 20, 10)"
   ]
  },
  {
   "cell_type": "markdown",
   "metadata": {},
   "source": [
    "### Summary"
   ]
  },
  {
   "cell_type": "code",
   "execution_count": 4,
   "metadata": {},
   "outputs": [
    {
     "name": "stdout",
     "output_type": "stream",
     "text": [
      "method                     k_shingles  threshold      similar pairs    time-seconds    hashing functions\n",
      "-----------------------  ------------  -----------  ---------------  --------------  -------------------\n",
      "minhashing_100                      3  0.1                   493210            3.07                  100\n",
      "minhashing_100                      5  0.1                    62949            3.07                  100\n",
      "minhashing_100                     10  0.1                        5            3.01                  100\n",
      "minhashing_100                      3  0.2                   390658            3.13                  100\n",
      "minhashing_100                      5  0.2                       75            2.99                  100\n",
      "minhashing_100                     10  0.2                        1            3.01                  100\n",
      "minhashing_100                      3  0.25                  253839            3.04                  100\n",
      "minhashing_100                      5  0.25                       2            3.04                  100\n",
      "minhashing_100                     10  0.25                       1            2.93                  100\n",
      "local sensitive hashing             3  na                         8            0.02                  100\n",
      "local sensitive hashing             5  na                         0            0.02                  100\n",
      "local sensitive hashing            10  na                         0            0.02                  100\n",
      "minhashing_200                      3  0.1                   496340            3.28                  200\n",
      "minhashing_200                      5  0.1                     8949            3.16                  200\n",
      "minhashing_200                     10  0.1                        4            3.12                  200\n",
      "minhashing_200                      3  0.2                   352415            3.18                  200\n",
      "minhashing_200                      5  0.2                        4            3.16                  200\n",
      "minhashing_200                     10  0.2                        1            3.14                  200\n",
      "minhashing_200                      3  0.25                  171650            3.25                  200\n",
      "minhashing_200                      5  0.25                       1            3.21                  200\n",
      "minhashing_200                     10  0.25                       1            3.14                  200\n",
      "local sensitive hashing             3  na                         5            0.04                  200\n",
      "local sensitive hashing             5  na                         0            0.04                  200\n",
      "local sensitive hashing            10  na                         0            0.04                  200\n"
     ]
    }
   ],
   "source": [
    "summary_part2 = [\n",
    "    ['minhashing_100', 3, 0.1, 493210, 3.07, 100],\n",
    "    ['minhashing_100', 5, 0.1, 62949, 3.07, 100],\n",
    "    ['minhashing_100', 10, 0.1, 5, 3.01, 100],\n",
    "    ['minhashing_100', 3, 0.2, 390658, 3.13, 100],\n",
    "    ['minhashing_100', 5, 0.2, 75, 2.99, 100],\n",
    "    ['minhashing_100', 10, 0.2, 1, 3.01, 100],\n",
    "    ['minhashing_100', 3, 0.25, 253839, 3.04, 100],\n",
    "    ['minhashing_100', 5, 0.25, 2, 3.04, 100],\n",
    "    ['minhashing_100', 10, 0.25, 1, 2.93, 100],\n",
    "    ['local sensitive hashing', 3, 'na', 8, 0.02, 100],\n",
    "    ['local sensitive hashing', 5, 'na', 0, 0.02, 100],\n",
    "    ['local sensitive hashing', 10, 'na', 0, 0.02, 100],\n",
    "    ['minhashing_200', 3, 0.1, 496340, 3.28, 200],\n",
    "    ['minhashing_200', 5, 0.1, 8949, 3.16, 200],\n",
    "    ['minhashing_200', 10, 0.1, 4, 3.12, 200],\n",
    "    ['minhashing_200', 3, 0.2, 352415, 3.18, 200],\n",
    "    ['minhashing_200', 5, 0.2, 4, 3.16, 200],\n",
    "    ['minhashing_200', 10, 0.2, 1, 3.14, 200],\n",
    "    ['minhashing_200', 3, 0.25, 171650, 3.25, 200],\n",
    "    ['minhashing_200', 5, 0.25, 1, 3.21, 200],\n",
    "    ['minhashing_200', 10, 0.25, 1, 3.14, 200],\n",
    "    ['local sensitive hashing', 3, 'na', 5, 0.04, 200],\n",
    "    ['local sensitive hashing', 5, 'na', 0, 0.04, 200],\n",
    "    ['local sensitive hashing', 10, 'na', 0, 0.04, 200],\n",
    "]\n",
    "\n",
    "col_names = ['method', 'k_shingles', 'threshold', 'similar pairs', 'time-seconds', 'hashing functions']\n",
    "\n",
    "print(tabulate(summary_part2, headers=col_names))"
   ]
  },
  {
   "cell_type": "markdown",
   "metadata": {},
   "source": [
    "- For 100 and 200 hashing functions, minhashing approach found more similar pairs compare to 50 hahsing functions\n",
    "- Similar to part 1, for increasing thresholds, the number of similar pairs decreases\n",
    "- With large hashing functions, local sensitive hashing found very few to no pairs of similar abstracts"
   ]
  },
  {
   "cell_type": "markdown",
   "metadata": {},
   "source": [
    "### Jaccard distance among all pairs of minhashing of 100 hashing functions"
   ]
  },
  {
   "cell_type": "markdown",
   "metadata": {},
   "source": [
    "#### Define the function to calculate the jaccard distance between items in a pair"
   ]
  },
  {
   "cell_type": "code",
   "execution_count": 430,
   "metadata": {},
   "outputs": [],
   "source": [
    "def get_jaccrad_distance(k, A, B, nsig, s):\n",
    "    \n",
    "    signatures = []  # signatures for all files\n",
    "    for text in abstract_sample:\n",
    "        shingles = get_shingles(text, k)\n",
    "        signature = minhash_vectorized(shingles, A, B, nextPrime, maxShingleID, nsig)\n",
    "        signatures.append(signature)\n",
    "        \n",
    "    t = time.time()\n",
    "    jd_list = [] # put all jaccard distances into a list\n",
    "    candidates = []\n",
    "    Nfiles = len(signatures)\n",
    "    for i in range(Nfiles):\n",
    "        for j in range(i+1, Nfiles):\n",
    "            Jsim = numpy.mean(signatures[i] == signatures[j])      \n",
    "            if Jsim >= s:\n",
    "                jaccard_distance = 1 - Jsim\n",
    "                candidates.append((i,j))\n",
    "                jd_list.append(jaccard_distance)\n",
    "  \n",
    "    print('Time elapsed after the function: {}s'.format(round(time.time()-t),2))\n",
    "    print('Number of jaccard distance between pair: {}'.format(len(jd_list)))\n",
    "    return jd_list, candidates"
   ]
  },
  {
   "cell_type": "markdown",
   "metadata": {},
   "source": [
    "#### For k=3"
   ]
  },
  {
   "cell_type": "code",
   "execution_count": 431,
   "metadata": {},
   "outputs": [
    {
     "name": "stdout",
     "output_type": "stream",
     "text": [
      "Time elapsed after the function: 3s\n",
      "Number of jaccard distance between pair: 493210\n"
     ]
    }
   ],
   "source": [
    "jd_3_s1, candidate_jd_3_s1 = get_jaccrad_distance(3, A_100, B_100, nsig_100, 0.1)"
   ]
  },
  {
   "cell_type": "code",
   "execution_count": 432,
   "metadata": {},
   "outputs": [
    {
     "name": "stdout",
     "output_type": "stream",
     "text": [
      "Time elapsed after the function: 3s\n",
      "Number of jaccard distance between pair: 390658\n"
     ]
    }
   ],
   "source": [
    "jd_3_s2, candidate_jd_3_s2 = get_jaccrad_distance(3, A_100, B_100, nsig_100, 0.2)"
   ]
  },
  {
   "cell_type": "markdown",
   "metadata": {},
   "source": [
    "#### For k=5"
   ]
  },
  {
   "cell_type": "code",
   "execution_count": 433,
   "metadata": {},
   "outputs": [
    {
     "name": "stdout",
     "output_type": "stream",
     "text": [
      "Time elapsed after the function: 3s\n",
      "Number of jaccard distance between pair: 62949\n"
     ]
    }
   ],
   "source": [
    "jd_5_s1, candidate_jd_5_s1 = get_jaccrad_distance(5, A_100, B_100, nsig_100, 0.1)"
   ]
  },
  {
   "cell_type": "code",
   "execution_count": 434,
   "metadata": {},
   "outputs": [
    {
     "name": "stdout",
     "output_type": "stream",
     "text": [
      "Time elapsed after the function: 3s\n",
      "Number of jaccard distance between pair: 75\n"
     ]
    }
   ],
   "source": [
    "jd_5_s2, candidate_jd_5_s2 = get_jaccrad_distance(5, A_100, B_100, nsig_100, 0.2)"
   ]
  },
  {
   "cell_type": "markdown",
   "metadata": {},
   "source": [
    "#### For k=10"
   ]
  },
  {
   "cell_type": "code",
   "execution_count": 435,
   "metadata": {},
   "outputs": [
    {
     "name": "stdout",
     "output_type": "stream",
     "text": [
      "Time elapsed after the function: 3s\n",
      "Number of jaccard distance between pair: 5\n"
     ]
    }
   ],
   "source": [
    "jd_10_s1, candidate_jd_10_s1 = get_jaccrad_distance(10, A_100, B_100, nsig_100, 0.1)"
   ]
  },
  {
   "cell_type": "code",
   "execution_count": 441,
   "metadata": {},
   "outputs": [
    {
     "data": {
      "text/plain": [
       "[0.9, 0.9, 0.9, 0.88, 0.63]"
      ]
     },
     "execution_count": 441,
     "metadata": {},
     "output_type": "execute_result"
    }
   ],
   "source": [
    "jd_10_s1 # jaccard distance of all pairs for k=10, s=0.1"
   ]
  },
  {
   "cell_type": "code",
   "execution_count": 436,
   "metadata": {},
   "outputs": [
    {
     "name": "stdout",
     "output_type": "stream",
     "text": [
      "Time elapsed after the function: 3s\n",
      "Number of jaccard distance between pair: 1\n"
     ]
    }
   ],
   "source": [
    "jd_10_s2, candidate_jd_10_s2 = get_jaccrad_distance(10, A_100, B_100, nsig_100, 0.2)"
   ]
  },
  {
   "cell_type": "markdown",
   "metadata": {},
   "source": [
    "## Finding frequent items"
   ]
  },
  {
   "cell_type": "markdown",
   "metadata": {},
   "source": [
    "Using the whole anthologies abstract dataset. Extract a list of the authors and editors per publication and create baskets and perform a search of similar items, for example:\n",
    "\n",
    "- basket 1: Mostafazadeh Davani Aida,Kiela Douwe,Lambert Mathias,Vidgen, Bertie Prabhakaran Vinodkumar, Waseem, Zeerak\n",
    "- basket 2: Singh Sumer, Li Sheng"
   ]
  },
  {
   "cell_type": "markdown",
   "metadata": {},
   "source": [
    "1. Find the frequent pair of items (2-tuples) using the naïve, A-priori and PCY algorithms. For each of these compare the time of execution and results for supports s=10, 50, 100\n",
    "\n",
    "2. For the PCY algorithm, create up to 5 compact hash tables. What is  the difference in results and time of execution for 1,2,3,4 and 5 tables? \n",
    "\n",
    "3. Find the final list of k-frequent items (k-tuples) for k=3 and 4. Experiment a bit and describe the best value for the support in each case. \n",
    "\n",
    "4. Using one of the results of the previous items, for one k (k=2 or 3) find the possible clusters using the 1-NN criteria.\n",
    "\n",
    "> 1-NN means that if you have a tuple {A,B,C} and {C,E,F} then because they share one element {C}, then they belong to the same cluster  {A,B,C,E,F}."
   ]
  },
  {
   "cell_type": "markdown",
   "metadata": {},
   "source": [
    "### Extract authors and editors into a list"
   ]
  },
  {
   "cell_type": "code",
   "execution_count": 134,
   "metadata": {},
   "outputs": [
    {
     "name": "stdout",
     "output_type": "stream",
     "text": [
      "baskets: 70420\n"
     ]
    },
    {
     "data": {
      "text/plain": [
       "['Mostafazadeh Davani, Aida; Kiela, Douwe; Lambert, Mathias; Vidgen, Bertie; Prabhakaran, Vinodkumar; Waseem, Zeerak',\n",
       " 'Singh, Sumer; Li, Sheng',\n",
       " 'Hahn, Vanessa; Ruiter, Dana; Kleinbauer, Thomas; Klakow, Dietrich',\n",
       " \"Caselli, Tommaso; Basile, Valerio; Mitrovi{\\\\'c}, Jelena; Granitzer, Michael\",\n",
       " 'Kirk, Hannah; Jun, Yennie; Rauba, Paulius; Wachtel, Gal; Li, Ruining; Bai, Xingjian; Broestl, Noah; Doff-Sotta, Martin; Shtedritski, Aleksandar; Asano, Yuki M']"
      ]
     },
     "metadata": {},
     "output_type": "display_data"
    }
   ],
   "source": [
    "authors = []\n",
    "copy = False\n",
    "\n",
    "with open('anthology.bib', encoding='utf8') as bibtex_file:\n",
    "    for line_ in bibtex_file:\n",
    "        line = line_.strip()\n",
    "        if copy or\\\n",
    "           line.startswith('author = \"')or\\\n",
    "           line.startswith('editor = \"'):\n",
    "            copy = True\n",
    "            _authors += line.replace('  and', '; ')\n",
    "            if line.endswith ('\",'):\n",
    "                copy = False\n",
    "                authors.append(_authors[_authors.index('\"')+1:_authors.rindex('\"')])\n",
    "                _authors = ''\n",
    "                           \n",
    "print(f\"baskets: {len(authors)}\")\n",
    "display(authors[:5])      "
   ]
  },
  {
   "cell_type": "code",
   "execution_count": 730,
   "metadata": {},
   "outputs": [],
   "source": [
    "author_final = []\n",
    "for author in authors:\n",
    "    aSplit = author.split('; ')\n",
    "    author_final.append(aSplit)"
   ]
  },
  {
   "cell_type": "code",
   "execution_count": 731,
   "metadata": {},
   "outputs": [
    {
     "data": {
      "text/plain": [
       "[['Mostafazadeh Davani, Aida',\n",
       "  'Kiela, Douwe',\n",
       "  'Lambert, Mathias',\n",
       "  'Vidgen, Bertie',\n",
       "  'Prabhakaran, Vinodkumar',\n",
       "  'Waseem, Zeerak'],\n",
       " ['Singh, Sumer', 'Li, Sheng'],\n",
       " ['Hahn, Vanessa', 'Ruiter, Dana', 'Kleinbauer, Thomas', 'Klakow, Dietrich'],\n",
       " ['Caselli, Tommaso',\n",
       "  'Basile, Valerio',\n",
       "  \"Mitrovi{\\\\'c}, Jelena\",\n",
       "  'Granitzer, Michael'],\n",
       " ['Kirk, Hannah',\n",
       "  'Jun, Yennie',\n",
       "  'Rauba, Paulius',\n",
       "  'Wachtel, Gal',\n",
       "  'Li, Ruining',\n",
       "  'Bai, Xingjian',\n",
       "  'Broestl, Noah',\n",
       "  'Doff-Sotta, Martin',\n",
       "  'Shtedritski, Aleksandar',\n",
       "  'Asano, Yuki M']]"
      ]
     },
     "execution_count": 731,
     "metadata": {},
     "output_type": "execute_result"
    }
   ],
   "source": [
    "author_final[:5]"
   ]
  },
  {
   "cell_type": "markdown",
   "metadata": {},
   "source": [
    "#### Define a function to get the frozenset of k_tuples"
   ]
  },
  {
   "cell_type": "code",
   "execution_count": 732,
   "metadata": {},
   "outputs": [],
   "source": [
    "def get_frozenset(k, data = author_final, report=False):\n",
    "    C_k = []\n",
    "    b = 0\n",
    "\n",
    "    for item in author_final:\n",
    "        for itemset in itertools.combinations(item, k):\n",
    "            yield frozenset(itemset)\n",
    "        C_k = []\n",
    "        \n",
    "        if report:\n",
    "            print(\"\")\n",
    "        if report:\n",
    "            if b % 1000 == 0:\n",
    "                print('processing bin ', b)\n",
    "            b += 1\n",
    "\n",
    "    # last basket\n",
    "    if len(C_k) > 0:\n",
    "        for itemset in itertools.combinations(C_k, k):\n",
    "            yield frozenset(itemset)"
   ]
  },
  {
   "cell_type": "code",
   "execution_count": 733,
   "metadata": {},
   "outputs": [
    {
     "name": "stdout",
     "output_type": "stream",
     "text": [
      "frozenset({'Mostafazadeh Davani, Aida', 'Kiela, Douwe'})\n",
      "frozenset({'Mostafazadeh Davani, Aida', 'Lambert, Mathias'})\n",
      "frozenset({'Mostafazadeh Davani, Aida', 'Vidgen, Bertie'})\n",
      "frozenset({'Mostafazadeh Davani, Aida', 'Prabhakaran, Vinodkumar'})\n",
      "frozenset({'Mostafazadeh Davani, Aida', 'Waseem, Zeerak'})\n",
      "frozenset({'Kiela, Douwe', 'Lambert, Mathias'})\n",
      "frozenset({'Kiela, Douwe', 'Vidgen, Bertie'})\n",
      "frozenset({'Kiela, Douwe', 'Prabhakaran, Vinodkumar'})\n",
      "frozenset({'Kiela, Douwe', 'Waseem, Zeerak'})\n",
      "frozenset({'Lambert, Mathias', 'Vidgen, Bertie'})\n",
      "frozenset({'Prabhakaran, Vinodkumar', 'Lambert, Mathias'})\n",
      "frozenset({'Waseem, Zeerak', 'Lambert, Mathias'})\n",
      "frozenset({'Prabhakaran, Vinodkumar', 'Vidgen, Bertie'})\n",
      "frozenset({'Waseem, Zeerak', 'Vidgen, Bertie'})\n",
      "frozenset({'Prabhakaran, Vinodkumar', 'Waseem, Zeerak'})\n",
      "\n",
      "processing bin  0\n",
      "frozenset({'Li, Sheng', 'Singh, Sumer'})\n",
      "\n",
      "frozenset({'Hahn, Vanessa', 'Ruiter, Dana'})\n",
      "frozenset({'Hahn, Vanessa', 'Kleinbauer, Thomas'})\n",
      "frozenset({'Hahn, Vanessa', 'Klakow, Dietrich'})\n",
      "frozenset({'Kleinbauer, Thomas', 'Ruiter, Dana'})\n",
      "frozenset({'Klakow, Dietrich', 'Ruiter, Dana'})\n",
      "frozenset({'Kleinbauer, Thomas', 'Klakow, Dietrich'})\n",
      "\n",
      "frozenset({'Basile, Valerio', 'Caselli, Tommaso'})\n",
      "frozenset({\"Mitrovi{\\\\'c}, Jelena\", 'Caselli, Tommaso'})\n",
      "frozenset({'Granitzer, Michael', 'Caselli, Tommaso'})\n",
      "frozenset({'Basile, Valerio', \"Mitrovi{\\\\'c}, Jelena\"})\n",
      "frozenset({'Basile, Valerio', 'Granitzer, Michael'})\n",
      "frozenset({'Granitzer, Michael', \"Mitrovi{\\\\'c}, Jelena\"})\n",
      "\n",
      "frozenset({'Jun, Yennie', 'Kirk, Hannah'})\n",
      "frozenset({'Rauba, Paulius', 'Kirk, Hannah'})\n",
      "frozenset({'Wachtel, Gal', 'Kirk, Hannah'})\n",
      "frozenset({'Li, Ruining', 'Kirk, Hannah'})\n",
      "frozenset({'Bai, Xingjian', 'Kirk, Hannah'})\n",
      "frozenset({'Broestl, Noah', 'Kirk, Hannah'})\n",
      "frozenset({'Doff-Sotta, Martin', 'Kirk, Hannah'})\n",
      "frozenset({'Kirk, Hannah', 'Shtedritski, Aleksandar'})\n",
      "frozenset({'Asano, Yuki M', 'Kirk, Hannah'})\n",
      "frozenset({'Jun, Yennie', 'Rauba, Paulius'})\n",
      "frozenset({'Jun, Yennie', 'Wachtel, Gal'})\n",
      "frozenset({'Jun, Yennie', 'Li, Ruining'})\n",
      "frozenset({'Jun, Yennie', 'Bai, Xingjian'})\n",
      "frozenset({'Jun, Yennie', 'Broestl, Noah'})\n",
      "frozenset({'Jun, Yennie', 'Doff-Sotta, Martin'})\n",
      "frozenset({'Jun, Yennie', 'Shtedritski, Aleksandar'})\n",
      "frozenset({'Jun, Yennie', 'Asano, Yuki M'})\n",
      "frozenset({'Wachtel, Gal', 'Rauba, Paulius'})\n",
      "frozenset({'Li, Ruining', 'Rauba, Paulius'})\n",
      "frozenset({'Rauba, Paulius', 'Bai, Xingjian'})\n",
      "frozenset({'Broestl, Noah', 'Rauba, Paulius'})\n",
      "frozenset({'Doff-Sotta, Martin', 'Rauba, Paulius'})\n",
      "frozenset({'Rauba, Paulius', 'Shtedritski, Aleksandar'})\n",
      "frozenset({'Asano, Yuki M', 'Rauba, Paulius'})\n",
      "frozenset({'Wachtel, Gal', 'Li, Ruining'})\n",
      "frozenset({'Wachtel, Gal', 'Bai, Xingjian'})\n",
      "frozenset({'Broestl, Noah', 'Wachtel, Gal'})\n",
      "frozenset({'Doff-Sotta, Martin', 'Wachtel, Gal'})\n",
      "frozenset({'Wachtel, Gal', 'Shtedritski, Aleksandar'})\n",
      "frozenset({'Asano, Yuki M', 'Wachtel, Gal'})\n",
      "frozenset({'Li, Ruining', 'Bai, Xingjian'})\n",
      "frozenset({'Broestl, Noah', 'Li, Ruining'})\n",
      "frozenset({'Doff-Sotta, Martin', 'Li, Ruining'})\n",
      "frozenset({'Li, Ruining', 'Shtedritski, Aleksandar'})\n",
      "frozenset({'Asano, Yuki M', 'Li, Ruining'})\n",
      "frozenset({'Broestl, Noah', 'Bai, Xingjian'})\n",
      "frozenset({'Doff-Sotta, Martin', 'Bai, Xingjian'})\n",
      "frozenset({'Bai, Xingjian', 'Shtedritski, Aleksandar'})\n",
      "frozenset({'Asano, Yuki M', 'Bai, Xingjian'})\n",
      "frozenset({'Doff-Sotta, Martin', 'Broestl, Noah'})\n",
      "frozenset({'Broestl, Noah', 'Shtedritski, Aleksandar'})\n",
      "frozenset({'Asano, Yuki M', 'Broestl, Noah'})\n",
      "frozenset({'Doff-Sotta, Martin', 'Shtedritski, Aleksandar'})\n",
      "frozenset({'Doff-Sotta, Martin', 'Asano, Yuki M'})\n",
      "frozenset({'Asano, Yuki M', 'Shtedritski, Aleksandar'})\n",
      "\n",
      "frozenset({'Kivlichan, Ian', 'Lin, Zi'})\n",
      "frozenset({'Kivlichan, Ian', 'Liu, Jeremiah'})\n",
      "frozenset({'Kivlichan, Ian', 'Vasserman, Lucy'})\n",
      "frozenset({'Lin, Zi', 'Liu, Jeremiah'})\n",
      "frozenset({'Lin, Zi', 'Vasserman, Lucy'})\n",
      "frozenset({'Liu, Jeremiah', 'Vasserman, Lucy'})\n",
      "\n",
      "frozenset({'Schelhaas, Arjan', 'Caselli, Tommaso'})\n",
      "frozenset({'Weultjes, Marieke', 'Caselli, Tommaso'})\n",
      "frozenset({'Leistra, Folkert', 'Caselli, Tommaso'})\n",
      "frozenset({'van der Veen, Hylke', 'Caselli, Tommaso'})\n",
      "frozenset({'Timmerman, Gerben', 'Caselli, Tommaso'})\n",
      "frozenset({'Nissim, Malvina', 'Caselli, Tommaso'})\n",
      "frozenset({'Weultjes, Marieke', 'Schelhaas, Arjan'})\n",
      "frozenset({'Leistra, Folkert', 'Schelhaas, Arjan'})\n",
      "frozenset({'Schelhaas, Arjan', 'van der Veen, Hylke'})\n",
      "frozenset({'Schelhaas, Arjan', 'Timmerman, Gerben'})\n",
      "frozenset({'Schelhaas, Arjan', 'Nissim, Malvina'})\n",
      "frozenset({'Weultjes, Marieke', 'Leistra, Folkert'})\n",
      "frozenset({'Weultjes, Marieke', 'van der Veen, Hylke'})\n",
      "frozenset({'Weultjes, Marieke', 'Timmerman, Gerben'})\n",
      "frozenset({'Weultjes, Marieke', 'Nissim, Malvina'})\n",
      "frozenset({'Leistra, Folkert', 'van der Veen, Hylke'})\n",
      "frozenset({'Leistra, Folkert', 'Timmerman, Gerben'})\n",
      "frozenset({'Leistra, Folkert', 'Nissim, Malvina'})\n",
      "frozenset({'van der Veen, Hylke', 'Timmerman, Gerben'})\n",
      "frozenset({'Nissim, Malvina', 'van der Veen, Hylke'})\n",
      "frozenset({'Nissim, Malvina', 'Timmerman, Gerben'})\n"
     ]
    }
   ],
   "source": [
    "nitems = 100\n",
    "for C_k in get_frozenset(2, report=True):\n",
    "    print(C_k)\n",
    "    nitems -= 1\n",
    "    \n",
    "    if nitems == 0:\n",
    "        break"
   ]
  },
  {
   "cell_type": "markdown",
   "metadata": {},
   "source": [
    "### Finding the similar items of 2-tuples using naive approach"
   ]
  },
  {
   "cell_type": "code",
   "execution_count": 734,
   "metadata": {},
   "outputs": [],
   "source": [
    "def get_C(k):\n",
    "\n",
    "    start = time.time()\n",
    "    C = {}\n",
    "    for key in get_frozenset(k):  # False report\n",
    "        if key not in C:\n",
    "            C[key] = 1\n",
    "        else:\n",
    "            C[key] += 1\n",
    "    print(\"Took {}s for k={}\".format((time.time() - start), k))\n",
    "    print(len(C))\n",
    "    return C"
   ]
  },
  {
   "cell_type": "code",
   "execution_count": 735,
   "metadata": {},
   "outputs": [
    {
     "name": "stdout",
     "output_type": "stream",
     "text": [
      "Took 1.3285229206085205s for k=2\n",
      "248010\n"
     ]
    }
   ],
   "source": [
    "C2 = get_C(2)"
   ]
  },
  {
   "cell_type": "code",
   "execution_count": 736,
   "metadata": {},
   "outputs": [
    {
     "name": "stdout",
     "output_type": "stream",
     "text": [
      "Using naive approach, found 1703 items with >10 occurances\n",
      "Took 0.021716833114624023s for s=10\n",
      "Using naive approach, found 12 items with >50 occurances\n",
      "Took 0.0418086051940918s for s=50\n",
      "Using naive approach, found 0 items with >100 occurances\n",
      "Took 0.061516523361206055s for s=100\n"
     ]
    }
   ],
   "source": [
    "start = time.time()\n",
    "\n",
    "supports = [10, 50, 100] # support threshold\n",
    "for s in supports:\n",
    "    L2 = {}\n",
    "    for key, n in C2.items():\n",
    "        if n >= s:\n",
    "            L2[key] = n\n",
    "    print('Using naive approach, found {} items with >{} occurances'.format(len(L2), s))\n",
    "    print('Took {}s for s={}'.format(time.time() - start, s))"
   ]
  },
  {
   "cell_type": "markdown",
   "metadata": {},
   "source": [
    "### Finding the similar items of 2-tuples using A priori approach"
   ]
  },
  {
   "cell_type": "code",
   "execution_count": 737,
   "metadata": {},
   "outputs": [
    {
     "name": "stdout",
     "output_type": "stream",
     "text": [
      "61413 items\n"
     ]
    }
   ],
   "source": [
    "# find frequent 1-tuple (individual item)\n",
    "C1 = {}\n",
    "for key in get_frozenset(k=1, report=False):\n",
    "    if key not in C1:\n",
    "        C1[key] = 1\n",
    "    else:\n",
    "        C1[key] += 1    \n",
    "        \n",
    "print(\"{} items\".format(len(C1)))"
   ]
  },
  {
   "cell_type": "code",
   "execution_count": 738,
   "metadata": {},
   "outputs": [],
   "source": [
    "def get_L1(s):\n",
    "    start = time.time()\n",
    "    L1 = {}\n",
    "    for key, count in C1.items():\n",
    "        if count >= s:\n",
    "            L1[key] = count\n",
    "    print('With k = 1, {} items with >{} occurances'.format(len(L1), s))\n",
    "    print('Took {}s for s={}'.format(time.time() - start, s))\n",
    "    return L1"
   ]
  },
  {
   "cell_type": "code",
   "execution_count": 739,
   "metadata": {},
   "outputs": [],
   "source": [
    "def get_A_priori(k, L1, s):\n",
    "    start = time.time()\n",
    "    C2_items = set([a.union(b) for a in L1.keys() for b in L1.keys()])\n",
    "    print('C2_items: {} items'.format(len(C2_items)))\n",
    "    \n",
    "    C2 = {}\n",
    "    for key in get_frozenset(k):\n",
    "        # filter out non-frequent tuples\n",
    "        if key not in C2_items:\n",
    "            continue\n",
    "        # record frequent tuples\n",
    "        if key not in C2:\n",
    "            C2[key] = 1\n",
    "        else:\n",
    "            C2[key] += 1\n",
    "    print('C2: {} items'.format(len(C2)))\n",
    "    \n",
    "    L2 = {}\n",
    "    for key, count in C2.items():\n",
    "        if count >= s:\n",
    "            L2[key] = count\n",
    "    print('A-priori of 2-tuples: {} items with >{} occurances'.format(len(L2), s))\n",
    "    print('Took {}s for s={}'.format(time.time() - start, s))\n",
    "    return L2"
   ]
  },
  {
   "cell_type": "code",
   "execution_count": 740,
   "metadata": {},
   "outputs": [
    {
     "name": "stdout",
     "output_type": "stream",
     "text": [
      "With k = 1, 4156 items with >10 occurances\n",
      "Took 0.006640911102294922s for s=10\n",
      "C2_items: 8638246 items\n",
      "C2: 37484 items\n",
      "A-priori of 2-tuples: 1703 items with >10 occurances\n",
      "Took 30.901325702667236s for s=10\n"
     ]
    }
   ],
   "source": [
    "L1_10 = get_L1(10)\n",
    "L2_10 = get_A_priori(2, L1_10, 10)"
   ]
  },
  {
   "cell_type": "code",
   "execution_count": 741,
   "metadata": {},
   "outputs": [
    {
     "name": "stdout",
     "output_type": "stream",
     "text": [
      "With k = 1, 450 items with >50 occurances\n",
      "Took 0.0054242610931396484s for s=50\n",
      "C2_items: 101475 items\n",
      "C2: 3507 items\n",
      "A-priori of 2-tuples: 12 items with >50 occurances\n",
      "Took 0.2117922306060791s for s=50\n"
     ]
    }
   ],
   "source": [
    "L1_50 = get_L1(50)\n",
    "L2_50 = get_A_priori(2, L1_50, 50)"
   ]
  },
  {
   "cell_type": "code",
   "execution_count": 742,
   "metadata": {},
   "outputs": [
    {
     "name": "stdout",
     "output_type": "stream",
     "text": [
      "With k = 1, 94 items with >100 occurances\n",
      "Took 0.0051991939544677734s for s=100\n",
      "C2_items: 4465 items\n",
      "C2: 426 items\n",
      "A-priori of 2-tuples: 0 items with >100 occurances\n",
      "Took 0.08116936683654785s for s=100\n"
     ]
    }
   ],
   "source": [
    "L1_100 = get_L1(100)\n",
    "L2_100 = get_A_priori(2, L1_100, 100)"
   ]
  },
  {
   "cell_type": "markdown",
   "metadata": {},
   "source": [
    "### Finding frequent items using PCY approach"
   ]
  },
  {
   "cell_type": "code",
   "execution_count": 743,
   "metadata": {},
   "outputs": [
    {
     "name": "stderr",
     "output_type": "stream",
     "text": [
      "/tmp/ipykernel_154532/1347370033.py:3: DeprecationWarning: `np.int` is a deprecated alias for the builtin `int`. To silence this warning, use `int` by itself. Doing this will not modify any behavior and is safe. When replacing `np.int`, you may wish to use e.g. `np.int64` or `np.int32` to specify the precision. If you wish to review your current use, check the release note link for additional information.\n",
      "Deprecated in NumPy 1.20; for more details and guidance: https://numpy.org/devdocs/release/1.20.0-notes.html#deprecations\n",
      "  H1 = np.zeros((max_hash1, ), dtype=np.int)\n"
     ]
    }
   ],
   "source": [
    "# hash table\n",
    "max_hash1 = 10 * 1000000\n",
    "H1 = np.zeros((max_hash1, ), dtype=np.int)\n",
    "\n",
    "for key in get_frozenset(2, author_final, report=False):\n",
    "    hash_cell_1 = hash(key) % max_hash1\n",
    "    H1[hash_cell_1] += 1"
   ]
  },
  {
   "cell_type": "markdown",
   "metadata": {},
   "source": [
    "#### Using hash table"
   ]
  },
  {
   "cell_type": "code",
   "execution_count": 744,
   "metadata": {},
   "outputs": [],
   "source": [
    "def get_L2_PCY(L1, k, s):\n",
    "    start = time.time()\n",
    "    C2_items = set([a.union(b) for a in L1.keys() for b in L1.keys()])\n",
    "    C2 = {}\n",
    "    for key in get_frozenset(k):\n",
    "        # hash-based filtering stage from PCY\n",
    "        hash_cell_1 = hash(key) % max_hash1\n",
    "        if H1[hash_cell_1] < s:\n",
    "            continue\n",
    "        \n",
    "        # filter out non-frequent tuples\n",
    "        if key not in C2_items:\n",
    "            continue\n",
    "        \n",
    "        # record frequent tuples\n",
    "        if key not in C2:\n",
    "            C2[key] = 1\n",
    "        else:\n",
    "            C2[key] += 1\n",
    "        \n",
    "    L2_PCY = {}\n",
    "    for key, count in C2.items():\n",
    "        if count >= s:\n",
    "            L2_PCY[key] = count\n",
    "    print('Using hash table, {} items with >{} occurances'.format(len(L2_PCY), s))\n",
    "    print('Took {}s for s={}'.format(time.time() - start, s))\n",
    "    return L2_PCY"
   ]
  },
  {
   "cell_type": "code",
   "execution_count": 745,
   "metadata": {},
   "outputs": [
    {
     "name": "stdout",
     "output_type": "stream",
     "text": [
      "Using hash table, 1703 items with >10 occurances\n",
      "Took 21.911607265472412s for s=10\n"
     ]
    }
   ],
   "source": [
    "L2_PCY_10 = get_L2_PCY(L1_10, 2, 10)"
   ]
  },
  {
   "cell_type": "code",
   "execution_count": 746,
   "metadata": {},
   "outputs": [
    {
     "name": "stdout",
     "output_type": "stream",
     "text": [
      "Using hash table, 12 items with >50 occurances\n",
      "Took 0.3100912570953369s for s=50\n"
     ]
    }
   ],
   "source": [
    "L2_PCY_50 = get_L2_PCY(L1_50, 2, 50)"
   ]
  },
  {
   "cell_type": "code",
   "execution_count": 747,
   "metadata": {},
   "outputs": [
    {
     "name": "stdout",
     "output_type": "stream",
     "text": [
      "Using hash table, 0 items with >100 occurances\n",
      "Took 0.21587038040161133s for s=100\n"
     ]
    }
   ],
   "source": [
    "L2_PCY_100 = get_L2_PCY(L1_100, 2, 100)"
   ]
  },
  {
   "cell_type": "markdown",
   "metadata": {},
   "source": [
    "#### Using compacted hash table (1 table)"
   ]
  },
  {
   "cell_type": "code",
   "execution_count": 748,
   "metadata": {},
   "outputs": [
    {
     "name": "stderr",
     "output_type": "stream",
     "text": [
      "/tmp/ipykernel_154532/3123620415.py:3: DeprecationWarning: `np.int` is a deprecated alias for the builtin `int`. To silence this warning, use `int` by itself. Doing this will not modify any behavior and is safe. When replacing `np.int`, you may wish to use e.g. `np.int64` or `np.int32` to specify the precision. If you wish to review your current use, check the release note link for additional information.\n",
      "Deprecated in NumPy 1.20; for more details and guidance: https://numpy.org/devdocs/release/1.20.0-notes.html#deprecations\n",
      "  H1 = np.zeros((max_hash1,), dtype=np.int)\n"
     ]
    }
   ],
   "source": [
    "# hash table\n",
    "max_hash1 = 10*1000000\n",
    "H1 = np.zeros((max_hash1,), dtype=np.int)\n",
    "for key in get_frozenset(2, author_final, report=False):\n",
    "    hash_cell_1 = hash(key) % max_hash1\n",
    "    H1[hash_cell_1] += 1"
   ]
  },
  {
   "cell_type": "code",
   "execution_count": 749,
   "metadata": {},
   "outputs": [],
   "source": [
    "# compact hash table\n",
    "def compact_hash_table(s):\n",
    "    max_hash1 = 10*1000000\n",
    "    H1 = np.zeros((max_hash1,), dtype=np.int)\n",
    "    for key in get_frozenset(2, author_final, report=False):\n",
    "        hash_cell_1 = hash(key) % max_hash1\n",
    "        H1[hash_cell_1] += 1\n",
    "        \n",
    "    H_good_1 = set(np.where(H1 >= s)[0])\n",
    "    del H1\n",
    "    return H_good_1"
   ]
  },
  {
   "cell_type": "code",
   "execution_count": 750,
   "metadata": {},
   "outputs": [],
   "source": [
    "def get_L2_compact(L1, H_good_1, k, s):\n",
    "    start = time.time()\n",
    "    C2 = {}\n",
    "    C2_items = set([a.union(b) for a in L1.keys() for b in L1.keys()])\n",
    "    for key in get_frozenset(k):\n",
    "        # hash-based filtering stage from PCY\n",
    "        hash_cell_1 = hash(key) % max_hash1\n",
    "        if hash_cell_1 not in H_good_1:\n",
    "            continue\n",
    "        # filter out non-frequent tuples\n",
    "        if key not in C2_items:\n",
    "            continue\n",
    "        \n",
    "        # record frequent tuples\n",
    "        if key not in C2:\n",
    "            C2[key] = 1\n",
    "        else:\n",
    "            C2[key] += 1\n",
    "    print(\"Count of C2 {} items\".format(len(C2)))\n",
    "    L2 = {}\n",
    "    for key, count in C2.items():\n",
    "        if count >= s:\n",
    "            L2[key] = count\n",
    "    print('{} items with >{} occurances'.format(len(L2), s))\n",
    "    print('Took {}s for s={}'.format(time.time() - start, s))\n",
    "    return L2"
   ]
  },
  {
   "cell_type": "code",
   "execution_count": 751,
   "metadata": {},
   "outputs": [
    {
     "name": "stderr",
     "output_type": "stream",
     "text": [
      "/tmp/ipykernel_154532/2045402931.py:4: DeprecationWarning: `np.int` is a deprecated alias for the builtin `int`. To silence this warning, use `int` by itself. Doing this will not modify any behavior and is safe. When replacing `np.int`, you may wish to use e.g. `np.int64` or `np.int32` to specify the precision. If you wish to review your current use, check the release note link for additional information.\n",
      "Deprecated in NumPy 1.20; for more details and guidance: https://numpy.org/devdocs/release/1.20.0-notes.html#deprecations\n",
      "  H1 = np.zeros((max_hash1,), dtype=np.int)\n"
     ]
    },
    {
     "name": "stdout",
     "output_type": "stream",
     "text": [
      "Count of C2 1728 items\n",
      "1703 items with >10 occurances\n",
      "Took 25.38925862312317s for s=10\n"
     ]
    }
   ],
   "source": [
    "H_good_1_10 = compact_hash_table(10)\n",
    "L2_compact_10 = get_L2_compact(L1_10, H_good_1_10, 2, 10)"
   ]
  },
  {
   "cell_type": "code",
   "execution_count": 752,
   "metadata": {},
   "outputs": [
    {
     "name": "stderr",
     "output_type": "stream",
     "text": [
      "/tmp/ipykernel_154532/2045402931.py:4: DeprecationWarning: `np.int` is a deprecated alias for the builtin `int`. To silence this warning, use `int` by itself. Doing this will not modify any behavior and is safe. When replacing `np.int`, you may wish to use e.g. `np.int64` or `np.int32` to specify the precision. If you wish to review your current use, check the release note link for additional information.\n",
      "Deprecated in NumPy 1.20; for more details and guidance: https://numpy.org/devdocs/release/1.20.0-notes.html#deprecations\n",
      "  H1 = np.zeros((max_hash1,), dtype=np.int)\n"
     ]
    },
    {
     "name": "stdout",
     "output_type": "stream",
     "text": [
      "Count of C2 12 items\n",
      "12 items with >50 occurances\n",
      "Took 0.20350980758666992s for s=50\n"
     ]
    }
   ],
   "source": [
    "H_good_1_50 = compact_hash_table(50)\n",
    "L2_compact_50 = get_L2_compact(L1_50, H_good_1_50, 2, 50)"
   ]
  },
  {
   "cell_type": "code",
   "execution_count": 753,
   "metadata": {},
   "outputs": [
    {
     "name": "stderr",
     "output_type": "stream",
     "text": [
      "/tmp/ipykernel_154532/2045402931.py:4: DeprecationWarning: `np.int` is a deprecated alias for the builtin `int`. To silence this warning, use `int` by itself. Doing this will not modify any behavior and is safe. When replacing `np.int`, you may wish to use e.g. `np.int64` or `np.int32` to specify the precision. If you wish to review your current use, check the release note link for additional information.\n",
      "Deprecated in NumPy 1.20; for more details and guidance: https://numpy.org/devdocs/release/1.20.0-notes.html#deprecations\n",
      "  H1 = np.zeros((max_hash1,), dtype=np.int)\n"
     ]
    },
    {
     "name": "stdout",
     "output_type": "stream",
     "text": [
      "Count of C2 0 items\n",
      "0 items with >100 occurances\n",
      "Took 0.12009716033935547s for s=100\n"
     ]
    }
   ],
   "source": [
    "H_good_1_100 = compact_hash_table(100)\n",
    "L2_compact_100 = get_L2_compact(L1_100, H_good_1_100, 2, 100)"
   ]
  },
  {
   "cell_type": "markdown",
   "metadata": {},
   "source": [
    "### Summary"
   ]
  },
  {
   "cell_type": "code",
   "execution_count": 780,
   "metadata": {},
   "outputs": [
    {
     "name": "stdout",
     "output_type": "stream",
     "text": [
      "method                threshold    no. of items    time-seconds\n",
      "------------------  -----------  --------------  --------------\n",
      "naive approach               10            1703            0.02\n",
      "naive approach               50              12            0.04\n",
      "naive approach              100               0            0.06\n",
      "A priori                     10            1703           30.9\n",
      "A priori                     50              12            0.21\n",
      "A priori                    100               0            0.08\n",
      "hash table                   10            1703           21.91\n",
      "hash table                   50              12            0.31\n",
      "hash table                  100               0            0.22\n",
      "multihash table(1)           10            1703           25.39\n",
      "multihash table(1)           50              12            0.2\n",
      "multihash table(1)          100               0            0.12\n"
     ]
    }
   ],
   "source": [
    "summary_task2p1 = [\n",
    "    ['naive approach', 10, 1703, 0.02],\n",
    "    ['naive approach', 50, 12, 0.04],\n",
    "    ['naive approach', 100, 0, 0.06],\n",
    "    ['A priori', 10, 1703, 30.90],\n",
    "    ['A priori', 50, 12, 0.21],\n",
    "    ['A priori', 100, 0, 0.08],\n",
    "    ['hash table', 10, 1703, 21.91],\n",
    "    ['hash table', 50, 12, 0.31],\n",
    "    ['hash table', 100, 0, 0.22],\n",
    "    ['multihash table(1)', 10, 1703, 25.39],\n",
    "    ['multihash table(1)', 50, 12, 0.20],\n",
    "    ['multihash table(1)', 100, 0, 0.12],\n",
    "]\n",
    "\n",
    "col_names = ['method', 'threshold', 'no. of items', 'time-seconds']\n",
    "\n",
    "print(tabulate(summary_task2p1, headers=col_names))"
   ]
  },
  {
   "cell_type": "markdown",
   "metadata": {},
   "source": [
    "- Number of frequent items decreases with the increase of support threshold\n",
    "- All approaches produces the same result\n",
    "- For naive approach, time for operation increases with the increase of threshold, which is in contrast with the other methods\n",
    "- For low threshold, A priori and hash table took longer time than higher threshold"
   ]
  },
  {
   "cell_type": "markdown",
   "metadata": {},
   "source": [
    "#### Using multihash (2 tables)"
   ]
  },
  {
   "cell_type": "code",
   "execution_count": 754,
   "metadata": {},
   "outputs": [
    {
     "name": "stderr",
     "output_type": "stream",
     "text": [
      "/tmp/ipykernel_154532/1924693081.py:5: DeprecationWarning: `np.int` is a deprecated alias for the builtin `int`. To silence this warning, use `int` by itself. Doing this will not modify any behavior and is safe. When replacing `np.int`, you may wish to use e.g. `np.int64` or `np.int32` to specify the precision. If you wish to review your current use, check the release note link for additional information.\n",
      "Deprecated in NumPy 1.20; for more details and guidance: https://numpy.org/devdocs/release/1.20.0-notes.html#deprecations\n",
      "  H1 = np.zeros((max_hash1,), dtype=np.int)\n",
      "/tmp/ipykernel_154532/1924693081.py:6: DeprecationWarning: `np.int` is a deprecated alias for the builtin `int`. To silence this warning, use `int` by itself. Doing this will not modify any behavior and is safe. When replacing `np.int`, you may wish to use e.g. `np.int64` or `np.int32` to specify the precision. If you wish to review your current use, check the release note link for additional information.\n",
      "Deprecated in NumPy 1.20; for more details and guidance: https://numpy.org/devdocs/release/1.20.0-notes.html#deprecations\n",
      "  H2 = np.zeros((max_hash2,), dtype=np.int)\n"
     ]
    }
   ],
   "source": [
    "# hash table\n",
    "max_hash1 = 5*1000000-673\n",
    "max_hash2 = 5*1000000+673\n",
    "\n",
    "H1 = np.zeros((max_hash1,), dtype=np.int)\n",
    "H2 = np.zeros((max_hash2,), dtype=np.int)\n",
    "for key in get_frozenset(2, author_final, report=False):\n",
    "    hash_cell_1 = hash(key) % max_hash1\n",
    "    H1[hash_cell_1] += 1\n",
    "    hash_cell_2 = hash(key) % max_hash2\n",
    "    H2[hash_cell_2] += 1"
   ]
  },
  {
   "cell_type": "code",
   "execution_count": 755,
   "metadata": {},
   "outputs": [],
   "source": [
    "# compact hash table\n",
    "H_good_1_10 = set(np.where(H1 >= 10)[0])\n",
    "H_good_2_10 = set(np.where(H2 >= 10)[0])\n",
    "\n",
    "H_good_1_50 = set(np.where(H1 >= 50)[0])\n",
    "H_good_2_50 = set(np.where(H2 >= 50)[0])\n",
    "\n",
    "H_good_1_100 = set(np.where(H1 >= 100)[0])\n",
    "H_good_2_100 = set(np.where(H2 >= 100)[0])\n",
    "\n",
    "del H1\n",
    "del H2"
   ]
  },
  {
   "cell_type": "code",
   "execution_count": 756,
   "metadata": {},
   "outputs": [],
   "source": [
    "def get_L2_multihash(L1, H_good_1, H_good_2, k, s):\n",
    "    start = time.time()\n",
    "    C2 = {}\n",
    "    C2_items = set([a.union(b) for a in L1.keys() for b in L1.keys()])\n",
    "    for key in get_frozenset(k):\n",
    "        # hash-based filtering stage from PCY\n",
    "        hash_cell_1 = hash(key) % max_hash1\n",
    "        if hash_cell_1 not in H_good_1:\n",
    "            continue\n",
    "\n",
    "        hash_cell_2 = hash(key) % max_hash2\n",
    "        if hash_cell_2 not in H_good_2:\n",
    "            continue\n",
    "        \n",
    "        # filter out non-frequent tuples\n",
    "        if key not in C2_items:\n",
    "            continue\n",
    "        \n",
    "        # record frequent tuples\n",
    "        if key not in C2:\n",
    "            C2[key] = 1\n",
    "        else:\n",
    "            C2[key] += 1\n",
    "    print(\"Count of C2: {} items\".format(len(C2)))\n",
    "    \n",
    "    # filter stage\n",
    "    L2 = {}\n",
    "    for key, count in C2.items():\n",
    "        if count >= s:\n",
    "            L2[key] = count\n",
    "    print('Using multihash 2 - tables: {} items with >{} occurances'.format(len(L2), s))\n",
    "    print('Took {}s for s={}'.format(time.time() - start, s))\n",
    "    return L2"
   ]
  },
  {
   "cell_type": "code",
   "execution_count": 757,
   "metadata": {},
   "outputs": [
    {
     "name": "stdout",
     "output_type": "stream",
     "text": [
      "Count of C2: 1703 items\n",
      "Using multihash 2 - tables: 1703 items with >10 occurances\n",
      "Took 24.305322647094727s for s=10\n"
     ]
    }
   ],
   "source": [
    "L2_multihash_10 = get_L2_multihash(L1_10, H_good_1_10, H_good_2_10, 2, 10)"
   ]
  },
  {
   "cell_type": "code",
   "execution_count": 758,
   "metadata": {},
   "outputs": [
    {
     "name": "stdout",
     "output_type": "stream",
     "text": [
      "Count of C2: 12 items\n",
      "Using multihash 2 - tables: 12 items with >50 occurances\n",
      "Took 0.21583771705627441s for s=50\n"
     ]
    }
   ],
   "source": [
    "L2_multihash_50 = get_L2_multihash(L1_50, H_good_1_50, H_good_2_50, 2, 50)"
   ]
  },
  {
   "cell_type": "code",
   "execution_count": 759,
   "metadata": {},
   "outputs": [
    {
     "name": "stdout",
     "output_type": "stream",
     "text": [
      "Count of C2: 0 items\n",
      "Using multihash 2 - tables: 0 items with >100 occurances\n",
      "Took 0.12916946411132812s for s=100\n"
     ]
    }
   ],
   "source": [
    "L2_multihash_100 = get_L2_multihash(L1_100, H_good_1_100, H_good_2_100, 2, 100)"
   ]
  },
  {
   "cell_type": "markdown",
   "metadata": {},
   "source": [
    "### Multihash - 3 tables"
   ]
  },
  {
   "cell_type": "code",
   "execution_count": 760,
   "metadata": {},
   "outputs": [
    {
     "name": "stderr",
     "output_type": "stream",
     "text": [
      "/tmp/ipykernel_154532/193907114.py:6: DeprecationWarning: `np.int` is a deprecated alias for the builtin `int`. To silence this warning, use `int` by itself. Doing this will not modify any behavior and is safe. When replacing `np.int`, you may wish to use e.g. `np.int64` or `np.int32` to specify the precision. If you wish to review your current use, check the release note link for additional information.\n",
      "Deprecated in NumPy 1.20; for more details and guidance: https://numpy.org/devdocs/release/1.20.0-notes.html#deprecations\n",
      "  H1 = np.zeros((max_hash1,), dtype=np.int)\n",
      "/tmp/ipykernel_154532/193907114.py:7: DeprecationWarning: `np.int` is a deprecated alias for the builtin `int`. To silence this warning, use `int` by itself. Doing this will not modify any behavior and is safe. When replacing `np.int`, you may wish to use e.g. `np.int64` or `np.int32` to specify the precision. If you wish to review your current use, check the release note link for additional information.\n",
      "Deprecated in NumPy 1.20; for more details and guidance: https://numpy.org/devdocs/release/1.20.0-notes.html#deprecations\n",
      "  H2 = np.zeros((max_hash2,), dtype=np.int)\n",
      "/tmp/ipykernel_154532/193907114.py:8: DeprecationWarning: `np.int` is a deprecated alias for the builtin `int`. To silence this warning, use `int` by itself. Doing this will not modify any behavior and is safe. When replacing `np.int`, you may wish to use e.g. `np.int64` or `np.int32` to specify the precision. If you wish to review your current use, check the release note link for additional information.\n",
      "Deprecated in NumPy 1.20; for more details and guidance: https://numpy.org/devdocs/release/1.20.0-notes.html#deprecations\n",
      "  H3 = np.zeros((max_hash3,), dtype=np.int)\n"
     ]
    }
   ],
   "source": [
    "# hash table\n",
    "max_hash1 = 4*1000000-673\n",
    "max_hash2 = 4*1000000+673\n",
    "max_hash3 = 4*1000000+763\n",
    "\n",
    "H1 = np.zeros((max_hash1,), dtype=np.int)\n",
    "H2 = np.zeros((max_hash2,), dtype=np.int)\n",
    "H3 = np.zeros((max_hash3,), dtype=np.int)\n",
    "for key in get_frozenset(2, author_final, report=False):\n",
    "    hash_cell_1 = hash(key) % max_hash1\n",
    "    H1[hash_cell_1] += 1\n",
    "    hash_cell_2 = hash(key) % max_hash2\n",
    "    H2[hash_cell_2] += 1\n",
    "    hash_cell_3 = hash(key) % max_hash3\n",
    "    H3[hash_cell_3] += 1"
   ]
  },
  {
   "cell_type": "code",
   "execution_count": 761,
   "metadata": {},
   "outputs": [],
   "source": [
    "H_good_1_10 = set(np.where(H1 >= 10)[0])\n",
    "H_good_2_10 = set(np.where(H2 >= 10)[0])\n",
    "H_good_3_10 = set(np.where(H3 >= 10)[0])\n",
    "\n",
    "H_good_1_50 = set(np.where(H1 >= 50)[0])\n",
    "H_good_2_50 = set(np.where(H2 >= 50)[0])\n",
    "H_good_3_50 = set(np.where(H3 >= 50)[0])\n",
    "\n",
    "H_good_1_100 = set(np.where(H1 >= 100)[0])\n",
    "H_good_2_100 = set(np.where(H2 >= 100)[0])\n",
    "H_good_3_100 = set(np.where(H3 >= 100)[0])\n",
    "\n",
    "del H1\n",
    "del H2\n",
    "del H3"
   ]
  },
  {
   "cell_type": "code",
   "execution_count": 762,
   "metadata": {},
   "outputs": [],
   "source": [
    "def get_L2_3table(L1, H_good_1, H_good_2, H_good_3, k, s):\n",
    "    start = time.time()\n",
    "    C2 = {}\n",
    "    C2_items = set([a.union(b) for a in L1.keys() for b in L1.keys()])\n",
    "    for key in get_frozenset(k):\n",
    "        # hash-based filtering stage from PCY\n",
    "        hash_cell_1 = hash(key) % max_hash1\n",
    "        if hash_cell_1 not in H_good_1:\n",
    "            continue\n",
    "\n",
    "        hash_cell_2 = hash(key) % max_hash2\n",
    "        if hash_cell_2 not in H_good_2:\n",
    "            continue\n",
    "        \n",
    "        hash_cell_3 = hash(key) % max_hash3\n",
    "        if hash_cell_3 not in H_good_3:\n",
    "            continue\n",
    "        \n",
    "        # filter out non-frequent tuples\n",
    "        if key not in C2_items:\n",
    "            continue\n",
    "        \n",
    "        # record frequent tuples\n",
    "        if key not in C2:\n",
    "            C2[key] = 1\n",
    "        else:\n",
    "            C2[key] += 1\n",
    "    print(\"Count of C2: {} items\".format(len(C2)))\n",
    "    \n",
    "    # filter stage\n",
    "    L2 = {}\n",
    "    for key, count in C2.items():\n",
    "        if count >= s:\n",
    "            L2[key] = count\n",
    "    print('Using multihash - 3 tables: {} items with >{} occurances'.format(len(L2), s))\n",
    "    print('Took {}s for s={}'.format(time.time() - start, s))\n",
    "    return L2"
   ]
  },
  {
   "cell_type": "code",
   "execution_count": 763,
   "metadata": {},
   "outputs": [
    {
     "name": "stdout",
     "output_type": "stream",
     "text": [
      "Count of C2: 1703 items\n",
      "Using multihash - 3 tables: 1703 items with >10 occurances\n",
      "Took 26.034777402877808s for s=10\n"
     ]
    }
   ],
   "source": [
    "L2_3table_10 = get_L2_3table(L1_10, H_good_1_10, H_good_2_10, H_good_3_10, 2, 10)"
   ]
  },
  {
   "cell_type": "code",
   "execution_count": 764,
   "metadata": {},
   "outputs": [
    {
     "name": "stdout",
     "output_type": "stream",
     "text": [
      "Count of C2: 12 items\n",
      "Using multihash - 3 tables: 12 items with >50 occurances\n",
      "Took 0.223679780960083s for s=50\n"
     ]
    }
   ],
   "source": [
    "L2_3table_50 = get_L2_3table(L1_50, H_good_1_50, H_good_2_50, H_good_3_50, 2, 50)"
   ]
  },
  {
   "cell_type": "code",
   "execution_count": 765,
   "metadata": {},
   "outputs": [
    {
     "name": "stdout",
     "output_type": "stream",
     "text": [
      "Count of C2: 0 items\n",
      "Using multihash - 3 tables: 0 items with >100 occurances\n",
      "Took 0.12596416473388672s for s=100\n"
     ]
    }
   ],
   "source": [
    "L2_3table_100 = get_L2_3table(L1_100, H_good_1_100, H_good_2_100, H_good_3_100, 2, 100)"
   ]
  },
  {
   "cell_type": "markdown",
   "metadata": {},
   "source": [
    "### Multihash - 4 tables"
   ]
  },
  {
   "cell_type": "code",
   "execution_count": 766,
   "metadata": {},
   "outputs": [
    {
     "name": "stderr",
     "output_type": "stream",
     "text": [
      "/tmp/ipykernel_154532/1006941941.py:7: DeprecationWarning: `np.int` is a deprecated alias for the builtin `int`. To silence this warning, use `int` by itself. Doing this will not modify any behavior and is safe. When replacing `np.int`, you may wish to use e.g. `np.int64` or `np.int32` to specify the precision. If you wish to review your current use, check the release note link for additional information.\n",
      "Deprecated in NumPy 1.20; for more details and guidance: https://numpy.org/devdocs/release/1.20.0-notes.html#deprecations\n",
      "  H1 = np.zeros((max_hash1,), dtype=np.int)\n",
      "/tmp/ipykernel_154532/1006941941.py:8: DeprecationWarning: `np.int` is a deprecated alias for the builtin `int`. To silence this warning, use `int` by itself. Doing this will not modify any behavior and is safe. When replacing `np.int`, you may wish to use e.g. `np.int64` or `np.int32` to specify the precision. If you wish to review your current use, check the release note link for additional information.\n",
      "Deprecated in NumPy 1.20; for more details and guidance: https://numpy.org/devdocs/release/1.20.0-notes.html#deprecations\n",
      "  H2 = np.zeros((max_hash2,), dtype=np.int)\n",
      "/tmp/ipykernel_154532/1006941941.py:9: DeprecationWarning: `np.int` is a deprecated alias for the builtin `int`. To silence this warning, use `int` by itself. Doing this will not modify any behavior and is safe. When replacing `np.int`, you may wish to use e.g. `np.int64` or `np.int32` to specify the precision. If you wish to review your current use, check the release note link for additional information.\n",
      "Deprecated in NumPy 1.20; for more details and guidance: https://numpy.org/devdocs/release/1.20.0-notes.html#deprecations\n",
      "  H3 = np.zeros((max_hash3,), dtype=np.int)\n",
      "/tmp/ipykernel_154532/1006941941.py:10: DeprecationWarning: `np.int` is a deprecated alias for the builtin `int`. To silence this warning, use `int` by itself. Doing this will not modify any behavior and is safe. When replacing `np.int`, you may wish to use e.g. `np.int64` or `np.int32` to specify the precision. If you wish to review your current use, check the release note link for additional information.\n",
      "Deprecated in NumPy 1.20; for more details and guidance: https://numpy.org/devdocs/release/1.20.0-notes.html#deprecations\n",
      "  H4 = np.zeros((max_hash4,), dtype=np.int)\n"
     ]
    }
   ],
   "source": [
    "# hash table\n",
    "max_hash1 = 3*1000000-673\n",
    "max_hash2 = 3*1000000+673\n",
    "max_hash3 = 3*1000000+763\n",
    "max_hash4 = 3*1000000-763\n",
    "\n",
    "H1 = np.zeros((max_hash1,), dtype=np.int)\n",
    "H2 = np.zeros((max_hash2,), dtype=np.int)\n",
    "H3 = np.zeros((max_hash3,), dtype=np.int)\n",
    "H4 = np.zeros((max_hash4,), dtype=np.int)\n",
    "for key in get_frozenset(2, author_final, report=False):\n",
    "    hash_cell_1 = hash(key) % max_hash1\n",
    "    H1[hash_cell_1] += 1\n",
    "    hash_cell_2 = hash(key) % max_hash2\n",
    "    H2[hash_cell_2] += 1\n",
    "    hash_cell_3 = hash(key) % max_hash3\n",
    "    H3[hash_cell_3] += 1\n",
    "    hash_cell_4 = hash(key) % max_hash4\n",
    "    H4[hash_cell_4] += 1"
   ]
  },
  {
   "cell_type": "code",
   "execution_count": 767,
   "metadata": {},
   "outputs": [],
   "source": [
    "H_good_1_10 = set(np.where(H1 >= 10)[0])\n",
    "H_good_2_10 = set(np.where(H2 >= 10)[0])\n",
    "H_good_3_10 = set(np.where(H3 >= 10)[0])\n",
    "H_good_4_10 = set(np.where(H4 >= 10)[0])\n",
    "\n",
    "H_good_1_50 = set(np.where(H1 >= 50)[0])\n",
    "H_good_2_50 = set(np.where(H2 >= 50)[0])\n",
    "H_good_3_50 = set(np.where(H3 >= 50)[0])\n",
    "H_good_4_50 = set(np.where(H4 >= 50)[0])\n",
    "\n",
    "H_good_1_100 = set(np.where(H1 >= 100)[0])\n",
    "H_good_2_100 = set(np.where(H2 >= 100)[0])\n",
    "H_good_3_100 = set(np.where(H3 >= 100)[0])\n",
    "H_good_4_100 = set(np.where(H4 >= 100)[0])\n",
    "\n",
    "del H1\n",
    "del H2\n",
    "del H3\n",
    "del H4"
   ]
  },
  {
   "cell_type": "code",
   "execution_count": 768,
   "metadata": {},
   "outputs": [],
   "source": [
    "def get_L2_4table(L1, H_good_1, H_good_2, H_good_3, H_good_4, k, s):\n",
    "    start = time.time()\n",
    "    C2 = {}\n",
    "    C2_items = set([a.union(b) for a in L1.keys() for b in L1.keys()])\n",
    "    for key in get_frozenset(k):\n",
    "        # hash-based filtering stage from PCY\n",
    "        hash_cell_1 = hash(key) % max_hash1\n",
    "        if hash_cell_1 not in H_good_1:\n",
    "            continue\n",
    "\n",
    "        hash_cell_2 = hash(key) % max_hash2\n",
    "        if hash_cell_2 not in H_good_2:\n",
    "            continue\n",
    "        \n",
    "        hash_cell_3 = hash(key) % max_hash3\n",
    "        if hash_cell_3 not in H_good_3:\n",
    "            continue\n",
    "            \n",
    "        hash_cell_4 = hash(key) % max_hash4\n",
    "        if hash_cell_4 not in H_good_4:\n",
    "            continue\n",
    "        \n",
    "        # filter out non-frequent tuples\n",
    "        if key not in C2_items:\n",
    "            continue\n",
    "        \n",
    "        # record frequent tuples\n",
    "        if key not in C2:\n",
    "            C2[key] = 1\n",
    "        else:\n",
    "            C2[key] += 1\n",
    "    print(\"Count of C2: {} items\".format(len(C2)))\n",
    "    \n",
    "    # filter stage\n",
    "    L2 = {}\n",
    "    for key, count in C2.items():\n",
    "        if count >= s:\n",
    "            L2[key] = count\n",
    "    print('Using multihash - 4 tables: {} items with >{} occurances'.format(len(L2), s))\n",
    "    print('Took {}s for s={}'.format(time.time() - start, s))\n",
    "    return L2"
   ]
  },
  {
   "cell_type": "code",
   "execution_count": 769,
   "metadata": {},
   "outputs": [
    {
     "name": "stdout",
     "output_type": "stream",
     "text": [
      "Count of C2: 1703 items\n",
      "Using multihash - 4 tables: 1703 items with >10 occurances\n",
      "Took 22.832707405090332s for s=10\n"
     ]
    }
   ],
   "source": [
    "L2_4table_10 = get_L2_4table(L1_10, H_good_1_10, H_good_2_10, H_good_3_10, H_good_4_10, 2, 10)"
   ]
  },
  {
   "cell_type": "code",
   "execution_count": 770,
   "metadata": {},
   "outputs": [
    {
     "name": "stdout",
     "output_type": "stream",
     "text": [
      "Count of C2: 12 items\n",
      "Using multihash - 4 tables: 12 items with >50 occurances\n",
      "Took 0.22551846504211426s for s=50\n"
     ]
    }
   ],
   "source": [
    "L2_4table_50 = get_L2_4table(L1_50, H_good_1_50, H_good_2_50, H_good_3_50, H_good_4_50, 2, 50)"
   ]
  },
  {
   "cell_type": "code",
   "execution_count": 771,
   "metadata": {},
   "outputs": [
    {
     "name": "stdout",
     "output_type": "stream",
     "text": [
      "Count of C2: 0 items\n",
      "Using multihash - 4 tables: 0 items with >100 occurances\n",
      "Took 0.1276998519897461s for s=100\n"
     ]
    }
   ],
   "source": [
    "L2_4table_100 = get_L2_4table(L1_100, H_good_1_100, H_good_2_100, H_good_3_100, H_good_4_100, 2, 100)"
   ]
  },
  {
   "cell_type": "markdown",
   "metadata": {},
   "source": [
    "### Multihash - 5 tables"
   ]
  },
  {
   "cell_type": "code",
   "execution_count": 772,
   "metadata": {},
   "outputs": [
    {
     "name": "stderr",
     "output_type": "stream",
     "text": [
      "/tmp/ipykernel_154532/945814010.py:8: DeprecationWarning: `np.int` is a deprecated alias for the builtin `int`. To silence this warning, use `int` by itself. Doing this will not modify any behavior and is safe. When replacing `np.int`, you may wish to use e.g. `np.int64` or `np.int32` to specify the precision. If you wish to review your current use, check the release note link for additional information.\n",
      "Deprecated in NumPy 1.20; for more details and guidance: https://numpy.org/devdocs/release/1.20.0-notes.html#deprecations\n",
      "  H1 = np.zeros((max_hash1,), dtype=np.int)\n",
      "/tmp/ipykernel_154532/945814010.py:9: DeprecationWarning: `np.int` is a deprecated alias for the builtin `int`. To silence this warning, use `int` by itself. Doing this will not modify any behavior and is safe. When replacing `np.int`, you may wish to use e.g. `np.int64` or `np.int32` to specify the precision. If you wish to review your current use, check the release note link for additional information.\n",
      "Deprecated in NumPy 1.20; for more details and guidance: https://numpy.org/devdocs/release/1.20.0-notes.html#deprecations\n",
      "  H2 = np.zeros((max_hash2,), dtype=np.int)\n",
      "/tmp/ipykernel_154532/945814010.py:10: DeprecationWarning: `np.int` is a deprecated alias for the builtin `int`. To silence this warning, use `int` by itself. Doing this will not modify any behavior and is safe. When replacing `np.int`, you may wish to use e.g. `np.int64` or `np.int32` to specify the precision. If you wish to review your current use, check the release note link for additional information.\n",
      "Deprecated in NumPy 1.20; for more details and guidance: https://numpy.org/devdocs/release/1.20.0-notes.html#deprecations\n",
      "  H3 = np.zeros((max_hash3,), dtype=np.int)\n",
      "/tmp/ipykernel_154532/945814010.py:11: DeprecationWarning: `np.int` is a deprecated alias for the builtin `int`. To silence this warning, use `int` by itself. Doing this will not modify any behavior and is safe. When replacing `np.int`, you may wish to use e.g. `np.int64` or `np.int32` to specify the precision. If you wish to review your current use, check the release note link for additional information.\n",
      "Deprecated in NumPy 1.20; for more details and guidance: https://numpy.org/devdocs/release/1.20.0-notes.html#deprecations\n",
      "  H4 = np.zeros((max_hash4,), dtype=np.int)\n",
      "/tmp/ipykernel_154532/945814010.py:12: DeprecationWarning: `np.int` is a deprecated alias for the builtin `int`. To silence this warning, use `int` by itself. Doing this will not modify any behavior and is safe. When replacing `np.int`, you may wish to use e.g. `np.int64` or `np.int32` to specify the precision. If you wish to review your current use, check the release note link for additional information.\n",
      "Deprecated in NumPy 1.20; for more details and guidance: https://numpy.org/devdocs/release/1.20.0-notes.html#deprecations\n",
      "  H5 = np.zeros((max_hash5,), dtype=np.int)\n"
     ]
    }
   ],
   "source": [
    "# hash table\n",
    "max_hash1 = 3*1000000-673\n",
    "max_hash2 = 3*1000000+673\n",
    "max_hash3 = 3*1000000+763\n",
    "max_hash4 = 3*1000000-763\n",
    "max_hash5 = 3*1000000+873\n",
    "\n",
    "H1 = np.zeros((max_hash1,), dtype=np.int)\n",
    "H2 = np.zeros((max_hash2,), dtype=np.int)\n",
    "H3 = np.zeros((max_hash3,), dtype=np.int)\n",
    "H4 = np.zeros((max_hash4,), dtype=np.int)\n",
    "H5 = np.zeros((max_hash5,), dtype=np.int)\n",
    "\n",
    "for key in get_frozenset(2, author_final, report=False):\n",
    "    hash_cell_1 = hash(key) % max_hash1\n",
    "    H1[hash_cell_1] += 1\n",
    "    hash_cell_2 = hash(key) % max_hash2\n",
    "    H2[hash_cell_2] += 1\n",
    "    hash_cell_3 = hash(key) % max_hash3\n",
    "    H3[hash_cell_3] += 1\n",
    "    hash_cell_4 = hash(key) % max_hash4\n",
    "    H4[hash_cell_4] += 1\n",
    "    hash_cell_5 = hash(key) % max_hash5\n",
    "    H5[hash_cell_5] += 1"
   ]
  },
  {
   "cell_type": "code",
   "execution_count": 773,
   "metadata": {},
   "outputs": [],
   "source": [
    "H_good_1_10 = set(np.where(H1 >= 10)[0])\n",
    "H_good_2_10 = set(np.where(H2 >= 10)[0])\n",
    "H_good_3_10 = set(np.where(H3 >= 10)[0])\n",
    "H_good_4_10 = set(np.where(H4 >= 10)[0])\n",
    "H_good_5_10 = set(np.where(H5 >= 10)[0])\n",
    "\n",
    "H_good_1_50 = set(np.where(H1 >= 50)[0])\n",
    "H_good_2_50 = set(np.where(H2 >= 50)[0])\n",
    "H_good_3_50 = set(np.where(H3 >= 50)[0])\n",
    "H_good_4_50 = set(np.where(H4 >= 50)[0])\n",
    "H_good_5_50 = set(np.where(H5 >= 50)[0])\n",
    "\n",
    "H_good_1_100 = set(np.where(H1 >= 100)[0])\n",
    "H_good_2_100 = set(np.where(H2 >= 100)[0])\n",
    "H_good_3_100 = set(np.where(H3 >= 100)[0])\n",
    "H_good_4_100 = set(np.where(H4 >= 100)[0])\n",
    "H_good_5_100 = set(np.where(H5 >= 100)[0])\n",
    "\n",
    "del H1\n",
    "del H2\n",
    "del H3\n",
    "del H4\n",
    "del H5"
   ]
  },
  {
   "cell_type": "code",
   "execution_count": 774,
   "metadata": {},
   "outputs": [],
   "source": [
    "def get_L2_5table(L1, H_good_1, H_good_2, H_good_3, H_good_4, H_good_5, k, s):\n",
    "    start = time.time()\n",
    "    C2 = {}\n",
    "    C2_items = set([a.union(b) for a in L1.keys() for b in L1.keys()])\n",
    "    for key in get_frozenset(k):\n",
    "        # hash-based filtering stage from PCY\n",
    "        hash_cell_1 = hash(key) % max_hash1\n",
    "        if hash_cell_1 not in H_good_1:\n",
    "            continue\n",
    "\n",
    "        hash_cell_2 = hash(key) % max_hash2\n",
    "        if hash_cell_2 not in H_good_2:\n",
    "            continue\n",
    "        \n",
    "        hash_cell_3 = hash(key) % max_hash3\n",
    "        if hash_cell_3 not in H_good_3:\n",
    "            continue\n",
    "            \n",
    "        hash_cell_4 = hash(key) % max_hash4\n",
    "        if hash_cell_4 not in H_good_4:\n",
    "            continue\n",
    "        \n",
    "        hash_cell_5 = hash(key) % max_hash5\n",
    "        if hash_cell_5 not in H_good_5:\n",
    "            continue\n",
    "        \n",
    "        # filter out non-frequent tuples\n",
    "        if key not in C2_items:\n",
    "            continue\n",
    "        \n",
    "        # record frequent tuples\n",
    "        if key not in C2:\n",
    "            C2[key] = 1\n",
    "        else:\n",
    "            C2[key] += 1\n",
    "    print(\"Count of C2: {} items\".format(len(C2)))\n",
    "    \n",
    "    # filter stage\n",
    "    L2 = {}\n",
    "    for key, count in C2.items():\n",
    "        if count >= s:\n",
    "            L2[key] = count\n",
    "    print('Using multihash - 5 tables: {} items with >{} occurances'.format(len(L2), s))\n",
    "    print('Took {}s for s={}'.format(time.time() - start, s))\n",
    "    return L2"
   ]
  },
  {
   "cell_type": "code",
   "execution_count": 775,
   "metadata": {},
   "outputs": [
    {
     "name": "stdout",
     "output_type": "stream",
     "text": [
      "Count of C2: 1703 items\n",
      "Using multihash - 5 tables: 1703 items with >10 occurances\n",
      "Took 27.557464361190796s for s=10\n"
     ]
    }
   ],
   "source": [
    "L2_5table_10 = get_L2_5table(L1_10, H_good_1_10, H_good_2_10, H_good_3_10, H_good_4_10, H_good_5_10, 2, 10)"
   ]
  },
  {
   "cell_type": "code",
   "execution_count": 776,
   "metadata": {},
   "outputs": [
    {
     "name": "stdout",
     "output_type": "stream",
     "text": [
      "Count of C2: 12 items\n",
      "Using multihash - 5 tables: 12 items with >50 occurances\n",
      "Took 0.22035884857177734s for s=50\n"
     ]
    }
   ],
   "source": [
    "L2_5table_50 = get_L2_5table(L1_50, H_good_1_50, H_good_2_50, H_good_3_50, H_good_4_50, H_good_5_50, 2, 50)"
   ]
  },
  {
   "cell_type": "code",
   "execution_count": 777,
   "metadata": {},
   "outputs": [
    {
     "name": "stdout",
     "output_type": "stream",
     "text": [
      "Count of C2: 0 items\n",
      "Using multihash - 5 tables: 0 items with >100 occurances\n",
      "Took 0.11989426612854004s for s=100\n"
     ]
    }
   ],
   "source": [
    "L2_5table_100 = get_L2_5table(L1_100, H_good_1_100, H_good_2_100, H_good_3_100, H_good_4_100, H_good_5_100, 2, 100)"
   ]
  },
  {
   "cell_type": "markdown",
   "metadata": {},
   "source": [
    "### Summary"
   ]
  },
  {
   "cell_type": "code",
   "execution_count": 788,
   "metadata": {},
   "outputs": [
    {
     "name": "stdout",
     "output_type": "stream",
     "text": [
      "  no. hashing tables    threshold    no. of items    time-seconds\n",
      "--------------------  -----------  --------------  --------------\n",
      "                   1           10            1703           25.39\n",
      "                   1           50              12            0.2\n",
      "                   1          100               0            0.12\n",
      "                   2           10            1703           24.31\n",
      "                   2           50              12            0.22\n",
      "                   2          100               0            0.13\n",
      "                   3           10            1703           26.03\n",
      "                   3           50              12            0.22\n",
      "                   3          100               0            0.13\n",
      "                   4           10            1703           22.83\n",
      "                   4           50              12            0.23\n",
      "                   4          100              12            0.13\n",
      "                   5           10            1703           27.56\n",
      "                   5           50              12            0.22\n",
      "                   5          100               0            0.12\n"
     ]
    }
   ],
   "source": [
    "summary_task2p2 = [\n",
    "    [1, 10, 1703, 25.39],\n",
    "    [1, 50, 12, 0.20],\n",
    "    [1, 100, 0, 0.12],\n",
    "    [2, 10, 1703, 24.31],\n",
    "    [2, 50, 12, 0.22],\n",
    "    [2, 100, 0, 0.13],\n",
    "    [3, 10, 1703, 26.03],\n",
    "    [3, 50, 12, 0.22],\n",
    "    [3, 100, 0, 0.13],\n",
    "    [4, 10, 1703, 22.83],\n",
    "    [4, 50, 12, 0.23],\n",
    "    [4, 100, 12, 0.13],\n",
    "    [5, 10, 1703, 27.56],\n",
    "    [5, 50, 12, 0.22],\n",
    "    [5, 100, 0, 0.12]\n",
    "]\n",
    "\n",
    "col_names = ['no. hashing tables', 'threshold', 'no. of items', 'time-seconds']\n",
    "\n",
    "print(tabulate(summary_task2p2, headers=col_names))"
   ]
  },
  {
   "cell_type": "markdown",
   "metadata": {},
   "source": [
    "- Results of items found are the same in different numbers of hashing tables\n",
    "- However, generally, with an increase on the numbers of hashing tables, time for operation also increases. This can be understood as more tables take up more memories."
   ]
  },
  {
   "cell_type": "markdown",
   "metadata": {},
   "source": [
    "### Finding frequent items for k = 3 using A priori approach, support threshold = [10, 20, 50, 100] "
   ]
  },
  {
   "cell_type": "code",
   "execution_count": 789,
   "metadata": {},
   "outputs": [],
   "source": [
    "def get_L3(L1, s):\n",
    "    start = time.time()\n",
    "    L2 = get_A_priori(2, L1, s)\n",
    "    C3_items = set([a.union(b) for a in L2.keys() for b in L2.keys()])\n",
    "    print('C3_items: {} items'.format(len(C3_items)))\n",
    "    \n",
    "    C3 = {}\n",
    "    for key in get_frozenset(k=3):\n",
    "        # filter out non-frequent tuples\n",
    "        if key not in C3_items:\n",
    "            continue\n",
    "        # record frequent tuples\n",
    "        if key not in C3:\n",
    "            C3[key] = 1\n",
    "        else:\n",
    "            C3[key] += 1\n",
    "    print(\"C3: {} items\".format(len(C3)))\n",
    "    \n",
    "    L3 = {}\n",
    "    for key, count in C3.items():\n",
    "        if count >= s:\n",
    "            L3[key] = count\n",
    "    print('A-priori of 3 tuples: {} items with >{} occurances'.format(len(L3), s))\n",
    "    print('Took {}s for s={}'.format(time.time() - start, s))\n",
    "    return L3"
   ]
  },
  {
   "cell_type": "code",
   "execution_count": 790,
   "metadata": {},
   "outputs": [
    {
     "name": "stdout",
     "output_type": "stream",
     "text": [
      "C2_items: 8638246 items\n",
      "C2: 37484 items\n",
      "A-priori of 2-tuples: 1703 items with >10 occurances\n",
      "Took 30.849539279937744s for s=10\n",
      "C3_items: 1449417 items\n",
      "C3: 2359 items\n",
      "A-priori of 3 tuples: 342 items with >10 occurances\n",
      "Took 34.89772987365723s for s=10\n"
     ]
    }
   ],
   "source": [
    "L3_10 = get_L3(L1_10, 10)"
   ]
  },
  {
   "cell_type": "code",
   "execution_count": 782,
   "metadata": {},
   "outputs": [
    {
     "name": "stdout",
     "output_type": "stream",
     "text": [
      "C2_items: 101475 items\n",
      "C2: 3507 items\n",
      "A-priori of 2-tuples: 12 items with >50 occurances\n",
      "Took 0.2250230312347412s for s=50\n",
      "C3_items: 78 items\n",
      "C3: 0 items\n",
      "A-priori of 3 tuples: 0 items with >50 occurances\n",
      "Took 0.3615837097167969s for s=50\n"
     ]
    }
   ],
   "source": [
    "L3_50 = get_L3(L1_50, 50)"
   ]
  },
  {
   "cell_type": "code",
   "execution_count": 783,
   "metadata": {},
   "outputs": [
    {
     "name": "stdout",
     "output_type": "stream",
     "text": [
      "C2_items: 4465 items\n",
      "C2: 426 items\n",
      "A-priori of 2-tuples: 0 items with >100 occurances\n",
      "Took 0.08365535736083984s for s=100\n",
      "C3_items: 0 items\n",
      "C3: 0 items\n",
      "A-priori of 3 tuples: 0 items with >100 occurances\n",
      "Took 0.2070019245147705s for s=100\n"
     ]
    }
   ],
   "source": [
    "L3_100 = get_L3(L1_100, 100)"
   ]
  },
  {
   "cell_type": "code",
   "execution_count": 784,
   "metadata": {},
   "outputs": [
    {
     "name": "stdout",
     "output_type": "stream",
     "text": [
      "With k = 1, 1748 items with >20 occurances\n",
      "Took 0.005209207534790039s for s=20\n",
      "C2_items: 1528626 items\n",
      "C2: 16739 items\n",
      "A-priori of 2-tuples: 234 items with >20 occurances\n",
      "Took 6.771228790283203s for s=20\n",
      "C3_items: 27459 items\n",
      "C3: 153 items\n",
      "A-priori of 3 tuples: 8 items with >20 occurances\n",
      "Took 7.629830360412598s for s=20\n"
     ]
    }
   ],
   "source": [
    "L1_20 = get_L1(20)\n",
    "L3_20 = get_L3(L1_20, 20)"
   ]
  },
  {
   "cell_type": "code",
   "execution_count": 785,
   "metadata": {},
   "outputs": [
    {
     "data": {
      "text/plain": [
       "{frozenset({'Chatterjee, Rajen', 'Negri, Matteo', 'Turchi, Marco'}): 21,\n",
       " frozenset({'Chen, Yubo', 'Liu, Kang', 'Zhao, Jun'}): 30,\n",
       " frozenset({'Huang, Yongfeng', 'Wu, Chuhan', 'Wu, Fangzhao'}): 25,\n",
       " frozenset({'Sumita, Eiichiro', 'Utiyama, Masao', 'Wang, Rui'}): 25,\n",
       " frozenset({'Han, Xu', 'Liu, Zhiyuan', 'Sun, Maosong'}): 22,\n",
       " frozenset({'Herrmann, Teresa', 'Niehues, Jan', 'Waibel, Alex'}): 21,\n",
       " frozenset({'Nakamura, Satoshi', 'Neubig, Graham', 'Sakti, Sakriani'}): 20,\n",
       " frozenset({'Freitag, Markus', 'Ney, Hermann', 'Peitz, Stephan'}): 20}"
      ]
     },
     "execution_count": 785,
     "metadata": {},
     "output_type": "execute_result"
    }
   ],
   "source": [
    "L3_20"
   ]
  },
  {
   "cell_type": "code",
   "execution_count": 235,
   "metadata": {},
   "outputs": [],
   "source": [
    "def get_L4(L1, s):\n",
    "    start = time.time()\n",
    "    L3 = get_L3(L1, s)\n",
    "    C4_items = set([a.union(b) for a in L3.keys() for b in L3.keys()])\n",
    "    print('C4_items: {} items'.format(len(C4_items)))\n",
    "    \n",
    "    C4 = {}\n",
    "    for key in get_frozenset(k=4):\n",
    "        # filter out non-frequent tuples\n",
    "        if key not in C4_items:\n",
    "            continue\n",
    "        # record frequent tuples\n",
    "        if key not in C4:\n",
    "            C4[key] = 1\n",
    "        else:\n",
    "            C4[key] += 1\n",
    "    print(\"C4: {} items\".format(len(C4)))\n",
    "    \n",
    "    L4 = {}\n",
    "    for key, count in C4.items():\n",
    "        if count >= s:\n",
    "            L4[key] = count\n",
    "    print('A-priori of 4 tuples: {} items with >{} occurances'.format(len(L4), s))\n",
    "    print('Took {}s for s={}'.format(time.time() - start, s))\n",
    "    return L4"
   ]
  },
  {
   "cell_type": "code",
   "execution_count": 236,
   "metadata": {},
   "outputs": [
    {
     "name": "stdout",
     "output_type": "stream",
     "text": [
      "C2_items: 6442255 items\n",
      "C2: 26477 items\n",
      "A-priori of 2-tuples: 822 items with >10 occurances\n",
      "Took 19.82148313522339s for s=10\n",
      "C3_items: 337610 items\n",
      "C3: 852 items\n",
      "A-priori of 3 tuples: 139 items with >10 occurances\n",
      "Took 22.505972623825073s for s=10\n",
      "C4_items: 8628 items\n",
      "C4: 144 items\n",
      "A-priori of 4 tuples: 52 items with >10 occurances\n",
      "Took 23.15139389038086s for s=10\n"
     ]
    }
   ],
   "source": [
    "L4_10 = get_L4(L1_10, 10)"
   ]
  },
  {
   "cell_type": "code",
   "execution_count": 237,
   "metadata": {},
   "outputs": [
    {
     "name": "stdout",
     "output_type": "stream",
     "text": [
      "C2_items: 43071 items\n",
      "C2: 1649 items\n",
      "A-priori of 2-tuples: 9 items with >50 occurances\n",
      "Took 0.1504969596862793s for s=50\n",
      "C3_items: 45 items\n",
      "C3: 0 items\n",
      "A-priori of 3 tuples: 0 items with >50 occurances\n",
      "Took 0.28118205070495605s for s=50\n",
      "C4_items: 0 items\n",
      "C4: 0 items\n",
      "A-priori of 4 tuples: 0 items with >50 occurances\n",
      "Took 0.7488162517547607s for s=50\n"
     ]
    }
   ],
   "source": [
    "L4_50 = get_L4(L1_50, 50)"
   ]
  },
  {
   "cell_type": "code",
   "execution_count": 238,
   "metadata": {},
   "outputs": [
    {
     "name": "stdout",
     "output_type": "stream",
     "text": [
      "C2_items: 2211 items\n",
      "C2: 226 items\n",
      "A-priori of 2-tuples: 0 items with >100 occurances\n",
      "Took 0.08713388442993164s for s=100\n",
      "C3_items: 0 items\n",
      "C3: 0 items\n",
      "A-priori of 3 tuples: 0 items with >100 occurances\n",
      "Took 0.20464277267456055s for s=100\n",
      "C4_items: 0 items\n",
      "C4: 0 items\n",
      "A-priori of 4 tuples: 0 items with >100 occurances\n",
      "Took 0.6807210445404053s for s=100\n"
     ]
    }
   ],
   "source": [
    "L4_100 = get_L4(L1_100, 100)"
   ]
  },
  {
   "cell_type": "code",
   "execution_count": 240,
   "metadata": {},
   "outputs": [
    {
     "name": "stdout",
     "output_type": "stream",
     "text": [
      "C2_items: 805815 items\n",
      "C2: 9286 items\n",
      "A-priori of 2-tuples: 100 items with >20 occurances\n",
      "Took 2.7514564990997314s for s=20\n",
      "C3_items: 5046 items\n",
      "C3: 43 items\n",
      "A-priori of 3 tuples: 2 items with >20 occurances\n",
      "Took 3.012972831726074s for s=20\n",
      "C4_items: 3 items\n",
      "C4: 0 items\n",
      "A-priori of 4 tuples: 0 items with >20 occurances\n",
      "Took 3.5282809734344482s for s=20\n"
     ]
    }
   ],
   "source": [
    "L4_20 = get_L4(L1_20, 20)"
   ]
  },
  {
   "cell_type": "markdown",
   "metadata": {},
   "source": [
    "### Summary"
   ]
  },
  {
   "cell_type": "code",
   "execution_count": 793,
   "metadata": {},
   "outputs": [
    {
     "name": "stdout",
     "output_type": "stream",
     "text": [
      "  k-tuples    threshold    no. of items    time-seconds\n",
      "----------  -----------  --------------  --------------\n",
      "         3           10             342           25.39\n",
      "         3           20               8            7.63\n",
      "         3           50               0            0.36\n",
      "         3          100               0            0.21\n",
      "         4           10              52           23.15\n",
      "         4           20               0            3.53\n",
      "         4           50               0            0.75\n",
      "         4          100               0            0.68\n"
     ]
    }
   ],
   "source": [
    "summary_task2p3 = [\n",
    "    [3, 10, 342, 25.39],\n",
    "    [3, 20, 8, 7.63],\n",
    "    [3, 50, 0, 0.36],\n",
    "    [3, 100, 0, 0.21],\n",
    "    [4, 10, 52, 23.15],\n",
    "    [4, 20, 0, 3.53],\n",
    "    [4, 50, 0, 0.75],\n",
    "    [4, 100, 0, 0.68],\n",
    "]\n",
    "\n",
    "col_names = ['k-tuples', 'threshold', 'no. of items', 'time-seconds']\n",
    "\n",
    "print(tabulate(summary_task2p3, headers=col_names))"
   ]
  },
  {
   "cell_type": "markdown",
   "metadata": {},
   "source": [
    "- With increasing k-tuples, little to no frequent items are to be found.\n",
    "- For 3- and 4-tuples, threshold at 10 or lower can help to find more frquent pairs. \n",
    "- However, at lower threshold, operation time is much longer."
   ]
  },
  {
   "cell_type": "markdown",
   "metadata": {},
   "source": [
    "#### Define a function to transform the results of frequent items found in a above tasks to array"
   ]
  },
  {
   "cell_type": "code",
   "execution_count": 872,
   "metadata": {},
   "outputs": [],
   "source": [
    "def frozenset_transform_array(data):\n",
    "    df = pd.DataFrame()\n",
    "    pair_list = []\n",
    "    for key in data:\n",
    "        pair_list.append(key)\n",
    "    array_list = np.array(pair_list)   \n",
    "    \n",
    "    return array_list"
   ]
  },
  {
   "cell_type": "markdown",
   "metadata": {},
   "source": [
    "#### Define a function to join keys of two frozensets into a list"
   ]
  },
  {
   "cell_type": "code",
   "execution_count": 941,
   "metadata": {},
   "outputs": [],
   "source": [
    "def join_keys(clust):\n",
    "    result = []\n",
    "    for fSet in clust:\n",
    "        for fSetEle in fSet:\n",
    "            result.append(fSetEle)\n",
    "    return result"
   ]
  },
  {
   "cell_type": "markdown",
   "metadata": {},
   "source": [
    "#### Define a function to collect cluster of authors and auditors based on 1-NN criteria"
   ]
  },
  {
   "cell_type": "code",
   "execution_count": 962,
   "metadata": {},
   "outputs": [],
   "source": [
    "def get_cluster(data):\n",
    "    \"\"\"\n",
    "    1-NN criteria: If tuple {A, B, C} and tuple {C, D, F} shares\n",
    "    the same element 'C' then both tuples belong to the cluster {A, B, C, D, F}\n",
    "    \"\"\"\n",
    "    # Examining all possible pairs of authors of k-tuples to find the sharing element, if any\n",
    "    # If there is a sharing element, the pair is consider a cluster and appended to a list\n",
    "    cluster = []\n",
    "    for pair in itertools.combinations(data, 2):\n",
    "        for i in list(pair[0]):\n",
    "            for j in list(pair[1]):\n",
    "                if i == j:\n",
    "                   cluster.append(list(pair))\n",
    "                \n",
    "    # Joining elements of all frozensets in a cluster into a list \n",
    "    # and removing duplicate elements from that cluster\n",
    "    cluster_s = []\n",
    "    cluster_f = []\n",
    "    for item in cluster:            \n",
    "        cluster_s = join_keys(item)\n",
    "        cluster_f.append(set(cluster_s))\n",
    "    \n",
    "    # Removing duplicate clusters\n",
    "    cluster_final = []\n",
    "    [cluster_final.append(x) for x in cluster_f if x not in cluster_final]\n",
    "    return cluster_final"
   ]
  },
  {
   "cell_type": "markdown",
   "metadata": {},
   "source": [
    "### Clustering results found using 2-tuples"
   ]
  },
  {
   "cell_type": "code",
   "execution_count": 901,
   "metadata": {},
   "outputs": [],
   "source": [
    "list_L2 = frozenset_transform_array(L2_10)"
   ]
  },
  {
   "cell_type": "code",
   "execution_count": 958,
   "metadata": {},
   "outputs": [],
   "source": [
    "cluster_L2 = get_cluster(list_L2) # list of cluster with 2-tuples"
   ]
  },
  {
   "cell_type": "code",
   "execution_count": 959,
   "metadata": {},
   "outputs": [
    {
     "name": "stdout",
     "output_type": "stream",
     "text": [
      "Number of clusters based on 1-NN found in 2-tuples: 4370\n",
      "Some examples of clusters found:\n",
      " \n",
      "{'Pavlopoulos, John', 'Androutsopoulos, Ion', 'Malakasiotis, Prodromos'}\n",
      "{'Utiyama, Masao', 'Watanabe, Taro', 'Sumita, Eiichiro'}\n",
      "{'Utiyama, Masao', 'Sumita, Eiichiro', 'Zhao, Hai'}\n",
      "{'Utiyama, Masao', 'Imamura, Kenji', 'Sumita, Eiichiro'}\n",
      "{'Utiyama, Masao', 'Sumita, Eiichiro', 'Wang, Rui'}\n"
     ]
    }
   ],
   "source": [
    "print('Number of clusters based on 1-NN found in 2-tuples: {}'.format(len(cluster_L2)))\n",
    "print('Some examples of clusters found:')\n",
    "print(' ')\n",
    "for item in cluster_L2[:5]:\n",
    "    print(item)"
   ]
  },
  {
   "cell_type": "markdown",
   "metadata": {},
   "source": [
    "### Clustering results found using 3-tuples"
   ]
  },
  {
   "cell_type": "code",
   "execution_count": 878,
   "metadata": {},
   "outputs": [],
   "source": [
    "list_L3 = frozenset_transform_array(L3_10)"
   ]
  },
  {
   "cell_type": "code",
   "execution_count": 960,
   "metadata": {},
   "outputs": [],
   "source": [
    "cluster_L3 = get_cluster(list_L3) # list of cluster with 3-tuples"
   ]
  },
  {
   "cell_type": "code",
   "execution_count": 961,
   "metadata": {},
   "outputs": [
    {
     "name": "stdout",
     "output_type": "stream",
     "text": [
      "Number of clusters based on 1-NN found in 3-tuples: 830\n",
      "Some examples of clusters found:\n",
      " \n",
      "{'Chatterjee, Rajen', 'Federmann, Christian', 'Haddow, Barry', 'Graham, Yvette'}\n",
      "{'Huck, Matthias', 'Chatterjee, Rajen', 'Federmann, Christian', 'Graham, Yvette'}\n",
      "{'Koehn, Philipp', 'Chatterjee, Rajen', 'Federmann, Christian', 'Graham, Yvette'}\n",
      "{'Monz, Christof', 'Chatterjee, Rajen', 'Federmann, Christian', 'Graham, Yvette'}\n",
      "{'Federmann, Christian', 'Graham, Yvette', 'Chatterjee, Rajen', 'Huck, Matthias', 'Haddow, Barry'}\n"
     ]
    }
   ],
   "source": [
    "print('Number of clusters based on 1-NN found in 3-tuples: {}'.format(len(cluster_L3)))\n",
    "print('Some examples of clusters found:')\n",
    "print(' ')\n",
    "for item in cluster_L3[:5]:\n",
    "    print(item)"
   ]
  },
  {
   "cell_type": "markdown",
   "metadata": {},
   "source": [
    "## Graphs and Social Networks"
   ]
  },
  {
   "cell_type": "markdown",
   "metadata": {},
   "source": [
    " Using the whole anthologies abstract dataset. \n",
    "\n",
    "1. From the abstracts part, using two different similarity thresholds (e.g. 0.05, 0.1), create an *unweighted network* from the obtained similar pairs (use MinHashing or LSH) for each threshold. \n",
    "\n",
    "2. From the basket list of authors/editors, using A-Priori or PCY, create a *weighted network*,  using the *support threshold* as weight.\n",
    "\n",
    "3. Find the communities for the networks obtained in 1. and 2. Comment about the results with respect to the different thresholds and methods. How does it compare with the same analysis using 1-NN done in previous tasks?"
   ]
  },
  {
   "cell_type": "code",
   "execution_count": 881,
   "metadata": {},
   "outputs": [],
   "source": [
    "import networkx as nx\n",
    "from networkx import edge_betweenness_centrality as betweenness\n",
    "from networkx.algorithms.community.centrality import girvan_newman\n",
    "\n",
    "import networkit as nk\n",
    "\n",
    "import matplotlib\n",
    "matplotlib.rcParams['figure.figsize'] = [12, 6]\n",
    "import matplotlib.pyplot as plt\n",
    "\n",
    "\n",
    "from operator import itemgetter\n",
    "from time import sleep"
   ]
  },
  {
   "cell_type": "markdown",
   "metadata": {},
   "source": [
    "#### Define a function to get all candidates of abtracts - whole sample to find similar pairs using minshashing"
   ]
  },
  {
   "cell_type": "code",
   "execution_count": 882,
   "metadata": {},
   "outputs": [],
   "source": [
    "def minhashing_get_all_candidate(k, A, B, nsig, s):\n",
    "    signatures = []  # signatures for all files\n",
    "    for text in abstract:\n",
    "        shingles = get_shingles(text, k)\n",
    "        signature = minhash_vectorized(shingles, A, B, nextPrime, maxShingleID, nsig)\n",
    "        signatures.append(signature)\n",
    "        \n",
    "    Nfiles = len(signatures)\n",
    "    t = time.time()\n",
    "    candidates = []\n",
    "    for i in range(Nfiles):\n",
    "        for j in range(i+1, Nfiles):\n",
    "            Jsim = numpy.mean(signatures[i] == signatures[j])  \n",
    "            # average number of similar items in \n",
    "            # two vectors, equivalente to Jaccard     \n",
    "            if Jsim >= s:\n",
    "                candidates.append((i,j))\n",
    "    print(\"finding candidates took {} seconds\".format(time.time() - t))\n",
    "    print(\"found {} candidates using MH for k={}, s={}\".format(len(candidates), k, s))\n",
    "    return candidates                "
   ]
  },
  {
   "cell_type": "markdown",
   "metadata": {},
   "source": [
    "#### Define a function to create unweighted network"
   ]
  },
  {
   "cell_type": "code",
   "execution_count": 883,
   "metadata": {},
   "outputs": [],
   "source": [
    "def unweighted_network(edge):\n",
    "    start = time.time()\n",
    "    G = nx.Graph()\n",
    "    G.add_edges_from(edge)\n",
    "    nx.draw_networkx(G, with_labels = False)\n",
    "    print('Took {}s for the function'.format(time.time() - start))\n",
    "    return G"
   ]
  },
  {
   "cell_type": "markdown",
   "metadata": {},
   "source": [
    "### Create unweighted network of similar pairs using minshashing of 100 hashing functions for k=10 and support threshold = [0.05, 0.1]"
   ]
  },
  {
   "cell_type": "markdown",
   "metadata": {},
   "source": [
    "#### For k=10 and s=0.05"
   ]
  },
  {
   "cell_type": "code",
   "execution_count": 884,
   "metadata": {},
   "outputs": [
    {
     "name": "stdout",
     "output_type": "stream",
     "text": [
      "finding candidates took 2652.3874044418335 seconds\n",
      "found 1187561 candidates using MH for k=10, s=0.05\n"
     ]
    }
   ],
   "source": [
    "abstract_k10_h100_s1 = minhashing_get_all_candidate(10, A_100, B_100, nsig_100, 0.05)"
   ]
  },
  {
   "cell_type": "code",
   "execution_count": 532,
   "metadata": {},
   "outputs": [
    {
     "data": {
      "image/png": "[encoded data removed]",
      "text/plain": [
       "<Figure size 864x432 with 1 Axes>"
      ]
     },
     "metadata": {},
     "output_type": "display_data"
    }
   ],
   "source": [
    "Ga_mh_s1 = unweighted_network(abstract_k10_h100_s1)"
   ]
  },
  {
   "cell_type": "markdown",
   "metadata": {},
   "source": [
    "#### For k=10 ans s=0.1"
   ]
  },
  {
   "cell_type": "code",
   "execution_count": 529,
   "metadata": {},
   "outputs": [
    {
     "name": "stdout",
     "output_type": "stream",
     "text": [
      "finding candidates took 2780.65438079834 seconds\n",
      "found 5014 candidates using MH for k=10, s=0.1\n"
     ]
    }
   ],
   "source": [
    "abstract_k10_h100_s2 = minhashing_get_all_candidate(10, A_100, B_100, nsig_100, 0.1)"
   ]
  },
  {
   "cell_type": "code",
   "execution_count": 534,
   "metadata": {},
   "outputs": [
    {
     "name": "stdout",
     "output_type": "stream",
     "text": [
      "Took 52.61404490470886s for the function\n"
     ]
    },
    {
     "data": {
      "image/png": "[encoded data removed]",
      "text/plain": [
       "<Figure size 864x432 with 1 Axes>"
      ]
     },
     "metadata": {},
     "output_type": "display_data"
    }
   ],
   "source": [
    "Ga_mh_s2 = unweighted_network(abstract_k10_h100_s2)"
   ]
  },
  {
   "cell_type": "markdown",
   "metadata": {},
   "source": [
    "### Create unweighted network of similar pairs using LSH of 100 hashing functions for k=10 "
   ]
  },
  {
   "cell_type": "markdown",
   "metadata": {},
   "source": [
    "#### Define a function to get all candidates of abtracts - whole sample to find similar pairs using local sensitive hashing"
   ]
  },
  {
   "cell_type": "code",
   "execution_count": 885,
   "metadata": {},
   "outputs": [],
   "source": [
    "def LSH_get_all_candidate(k, A, B, nsig, bands, rows):\n",
    "    signatures = []  # signatures for all files\n",
    "    for text in abstract:\n",
    "        shingles = get_shingles(text, k)\n",
    "        signature = minhash_vectorized(shingles, A, B, nextPrime, maxShingleID, nsig)\n",
    "        signatures.append(signature)\n",
    "    \n",
    "    # prepare data for LSH\n",
    "    A2 = numpy.random.randint(0, nextPrime/2, size=(bands, rows))\n",
    "    # now we need a vector of A parameters for each band\n",
    "    B2 = numpy.random.randint(0, nextPrime/2, size=(bands, ))\n",
    "    signatures = numpy.array(signatures).T # LSH needs a matrix of signatures, not a list of vectors\n",
    "    \n",
    "    Nfiles = signatures.shape[1]  # number of different files\n",
    "    t = time.time()\n",
    "    candidates = LSH(signatures, bands, rows, A2, B2, nextPrime, maxShingleID)\n",
    "    t2 = time.time() - t\n",
    "    print(\"finding candidates took {} seconds\".format(t2))\n",
    "    print(\"Using LSH with k={}, found {} candidates\".format(k,len(candidates)))\n",
    "    return candidates"
   ]
  },
  {
   "cell_type": "code",
   "execution_count": 509,
   "metadata": {},
   "outputs": [
    {
     "name": "stdout",
     "output_type": "stream",
     "text": [
      "finding candidates took 94.51766443252563 seconds\n",
      "Using LSH with k=10, found 29 candidates\n"
     ]
    }
   ],
   "source": [
    "abstract_k10_h100 = LSH_get_all_candidate(10, A_100, B_100, nsig_100, 10, 10)"
   ]
  },
  {
   "cell_type": "code",
   "execution_count": 608,
   "metadata": {},
   "outputs": [
    {
     "name": "stdout",
     "output_type": "stream",
     "text": [
      "Took 0.025668621063232422s for the function\n"
     ]
    },
    {
     "data": {
      "image/png": "[encoded data removed]",
      "text/plain": [
       "<Figure size 864x432 with 1 Axes>"
      ]
     },
     "metadata": {},
     "output_type": "display_data"
    }
   ],
   "source": [
    "Ga_lsh = unweighted_network(abstract_k10_h100)"
   ]
  },
  {
   "cell_type": "markdown",
   "metadata": {},
   "source": [
    "### Creating weighted network from basket of authors+editors, using A priori for support threshold of 10 as weight"
   ]
  },
  {
   "cell_type": "code",
   "execution_count": 887,
   "metadata": {},
   "outputs": [
    {
     "name": "stdout",
     "output_type": "stream",
     "text": [
      "There are 1703 nodes in the network\n"
     ]
    }
   ],
   "source": [
    "print('There are {} nodes in the network'.format(len(L2_10)))"
   ]
  },
  {
   "cell_type": "markdown",
   "metadata": {},
   "source": [
    "#### Define a function to transform frozenset to a list"
   ]
  },
  {
   "cell_type": "code",
   "execution_count": 965,
   "metadata": {},
   "outputs": [],
   "source": [
    "def frozenset_transform_list(data):\n",
    "    df = pd.DataFrame(list(data), columns=['pair_01', 'pair_02'])\n",
    "    values_extract = []\n",
    "    for key in data.keys():\n",
    "        values_extract.append(data[key])\n",
    "    values = np.array(values_extract)\n",
    "    df['count'] = values.tolist()\n",
    "    new_list = df.values.tolist()\n",
    "    \n",
    "    return new_list"
   ]
  },
  {
   "cell_type": "code",
   "execution_count": 966,
   "metadata": {},
   "outputs": [],
   "source": [
    "L2_10_data = frozenset_transform_list(L2_10)"
   ]
  },
  {
   "cell_type": "code",
   "execution_count": 967,
   "metadata": {},
   "outputs": [
    {
     "data": {
      "text/plain": [
       "[['Pavlopoulos, John', 'Androutsopoulos, Ion', 13],\n",
       " ['Ritter, Alan', 'Xu, Wei', 19],\n",
       " ['Utiyama, Masao', 'Sumita, Eiichiro', 90]]"
      ]
     },
     "execution_count": 967,
     "metadata": {},
     "output_type": "execute_result"
    }
   ],
   "source": [
    "L2_10_data[:3]"
   ]
  },
  {
   "cell_type": "markdown",
   "metadata": {},
   "source": [
    "#### Define a function to create weighted network"
   ]
  },
  {
   "cell_type": "code",
   "execution_count": 890,
   "metadata": {},
   "outputs": [],
   "source": [
    "def weighted_graph(data, N, w1):\n",
    "    G = nx.Graph()\n",
    "    for i in range(1, N):\n",
    "        G.add_node(i)\n",
    "    for n1, n2, w in data:\n",
    "        if w >= w1:\n",
    "            G.add_edge(n1, n2, weight=w)\n",
    "    return G"
   ]
  },
  {
   "cell_type": "code",
   "execution_count": 968,
   "metadata": {},
   "outputs": [],
   "source": [
    "# make the graph\n",
    "N = 1703    # nodes\n",
    "w1 = 10    # threshold's weight \n",
    "\n",
    "G_w = weighted_graph(L2_10_data, 1703, 10)"
   ]
  },
  {
   "cell_type": "code",
   "execution_count": 969,
   "metadata": {},
   "outputs": [
    {
     "data": {
      "image/png": "[encoded data removed]",
      "text/plain": [
       "<Figure size 864x432 with 1 Axes>"
      ]
     },
     "metadata": {},
     "output_type": "display_data"
    }
   ],
   "source": [
    "# show graph\n",
    "node_degrees_1 = nx.degree(G_w)\n",
    "node_degrees = list(dict(node_degrees_1).values())\n",
    "nx.draw_networkx(\n",
    "    G_w, node_size=20, edge_color=\"b\", cmap=plt.get_cmap('jet'), node_color = node_degrees, with_labels=False\n",
    ")\n",
    "plt.show()"
   ]
  },
  {
   "cell_type": "markdown",
   "metadata": {},
   "source": [
    "### Creating weighted network from basket of authors+editors, using A priori for support threshold of 50 as weight"
   ]
  },
  {
   "cell_type": "code",
   "execution_count": 970,
   "metadata": {},
   "outputs": [
    {
     "name": "stdout",
     "output_type": "stream",
     "text": [
      "There are 12 nodes in the network\n"
     ]
    }
   ],
   "source": [
    "print('There are {} nodes in the network'.format(len(L2_50)))"
   ]
  },
  {
   "cell_type": "code",
   "execution_count": 971,
   "metadata": {},
   "outputs": [],
   "source": [
    "L2_50_data = frozenset_transform_list(L2_50)"
   ]
  },
  {
   "cell_type": "code",
   "execution_count": 972,
   "metadata": {},
   "outputs": [],
   "source": [
    "# make the graph\n",
    "N = 12    # nodes\n",
    "w1 = 50    # threshold's weight \n",
    "\n",
    "G_w_1 = weighted_graph(L2_50_data, 12, 50)"
   ]
  },
  {
   "cell_type": "code",
   "execution_count": 973,
   "metadata": {},
   "outputs": [
    {
     "data": {
      "image/png": "[encoded data removed]",
      "text/plain": [
       "<Figure size 864x432 with 1 Axes>"
      ]
     },
     "metadata": {},
     "output_type": "display_data"
    }
   ],
   "source": [
    "# show graph\n",
    "node_degrees_11 = nx.degree(G_w_1)\n",
    "node_degrees_n = list(dict(node_degrees_11).values())\n",
    "nx.draw_networkx(\n",
    "    G_w_1, node_size=20, edge_color=\"b\", cmap=plt.get_cmap('jet'), node_color = node_degrees_n, with_labels=False\n",
    ")\n",
    "plt.show()"
   ]
  },
  {
   "cell_type": "code",
   "execution_count": 974,
   "metadata": {},
   "outputs": [],
   "source": [
    "def heaviest(G):\n",
    "    u, v, w = max(G.edges(data='weight'), key=itemgetter(2))\n",
    "    return (u, v)"
   ]
  },
  {
   "cell_type": "markdown",
   "metadata": {},
   "source": [
    "#### Define a function to find the communities in the network"
   ]
  },
  {
   "cell_type": "code",
   "execution_count": 897,
   "metadata": {},
   "outputs": [],
   "source": [
    "def find_communities(G, b, k):\n",
    "    start = time.time()\n",
    "    # getting the weights\n",
    "    comp_b = betweenness(G,normalized=False)\n",
    "    # New graph\n",
    "    Gw = nx.DiGraph()\n",
    "    \n",
    "    for a,b in zip(comp_b.keys(),comp_b.values()):\n",
    "        Gw.add_edge(a[0], a[1], weight=b)\n",
    "    \n",
    "    # print(list(Gw.nodes))\n",
    "    print(\"Clusters\")\n",
    "    comp_gn = girvan_newman(Gw, most_valuable_edge=heaviest)\n",
    "\n",
    "    for communities in itertools.islice(comp_gn, k):\n",
    "        sleep(2)\n",
    "        print(tuple(sorted(c) for c in communities))\n",
    "    print('Took {}s'.format(time.time()-start))\n",
    "    \n",
    "    return comp_gn"
   ]
  },
  {
   "cell_type": "markdown",
   "metadata": {},
   "source": [
    "#### Find the communities for the unweighted network of similar pairs using minshashing of 100 hashing functions for k=10 and support threshold = 0.1"
   ]
  },
  {
   "cell_type": "code",
   "execution_count": 975,
   "metadata": {},
   "outputs": [
    {
     "name": "stdout",
     "output_type": "stream",
     "text": [
      "Clusters\n",
      "([0, 27, 28, 29, 43, 52, 82, 84, 85, 87, 89, 93, 95, 99, 102, 103, 104, 105, 110, 117, 125, 128, 131, 132, 154, 155, 156, 162, 165, 167, 168, 169, 177, 179, 183, 206, 221, 230, 232, 234, 269, 284, 300, 318, 331, 338, 377, 415, 478, 557, 596, 599, 600, 601, 605, 606, 607, 609, 611, 617, 623, 628, 649, 659, 736, 737, 738, 748, 750, 752, 753, 755, 756, 787, 791, 793, 795, 799, 801, 807, 808, 817, 825, 826, 827, 829, 835, 836, 838, 840, 851, 853, 855, 856, 857, 887, 893, 897, 900, 914, 915, 921, 988, 1000, 1005, 1052, 1108, 1114, 1120, 1136, 1140, 1163, 1175, 1191, 1212, 1259, 1270, 1279, 1366, 1369, 1404, 1425, 1427, 1482, 1498, 1516, 1517, 1520, 1541, 1565, 1587, 1590, 1594, 1595, 1603, 1615, 1623, 1627, 1630, 1642, 1673, 1696, 1709, 1749, 1750, 1751, 1758, 1762, 1787, 1790, 1791, 1795, 1832, 1850, 1854, 1870, 1896, 1914, 1923, 1926, 1949, 1953, 1965, 1980, 2016, 2082, 2111, 2119, 2122, 2123, 2172, 2177, 2180, 2210, 2331, 2333, 2339, 2347, 2351, 2381, 2384, 2428, 2431, 2438, 2446, 2452, 2522, 2523, 2619, 2622, 2623, 2646, 2650, 2665, 2666, 2673, 2681, 2685, 2688, 2693, 2694, 2695, 2696, 2705, 2707, 2712, 2718, 2724, 2728, 2735, 2736, 2744, 2745, 2769, 2784, 2801, 2814, 2816, 2866, 2868, 2870, 2875, 2880, 2929, 2935, 2947, 2966, 2976, 3004, 3028, 3035, 3037, 3041, 3078, 3082, 3085, 3086, 3087, 3102, 3106, 3107, 3108, 3142, 3209, 3235, 3238, 3244, 3257, 3261, 3276, 3278, 3291, 3312, 3331, 3341, 3356, 3380, 3396, 3397, 3405, 3415, 3417, 3422, 3423, 3432, 3446, 3487, 3545, 3587, 3610, 3622, 3643, 3700, 3706, 3721, 3726, 3739, 3743, 3784, 3800, 3806, 3808, 3823, 3828, 3829, 3830, 3838, 3884, 3897, 3933, 3984, 3998, 4031, 4044, 4093, 4124, 4153, 4171, 4174, 4205, 4210, 4221, 4275, 4305, 4320, 4325, 4327, 4340, 4351, 4354, 4366, 4426, 4434, 4435, 4457, 4467, 4468, 4474, 4508, 4561, 4716, 4733, 4764, 4765, 4770, 4774, 4818, 4854, 4872, 5009, 5010, 5025, 5064, 5091, 5096, 5098, 5120, 5125, 5132, 5138, 5144, 5163, 5170, 5179, 5214, 5227, 5241, 5247, 5255, 5260, 5261, 5272, 5283, 5335, 5336, 5398, 5408, 5421, 5422, 5425, 5426, 5435, 5439, 5454, 5464, 5470, 5490, 5497, 5516, 5543, 5547, 5549, 5571, 5573, 5575, 5587, 5601, 5630, 5654, 5662, 5669, 5671, 5677, 5688, 5693, 5694, 5730, 5737, 5755, 5782, 5851, 5858, 5859, 5861, 5866, 5870, 5871, 5872, 5877, 5888, 5909, 5910, 5911, 5913, 5920, 5923, 5927, 5928, 5935, 5936, 5937, 5940, 5945, 5947, 5950, 5953, 5992, 5996, 5998, 6000, 6014, 6020, 6024, 6030, 6039, 6067, 6076, 6100, 6107, 6115, 6124, 6128, 6141, 6256, 6269, 6273, 6282, 6283, 6298, 6331, 6339, 6346, 6358, 6368, 6385, 6405, 6406, 6407, 6412, 6415, 6417, 6422, 6425, 6426, 6427, 6428, 6429, 6444, 6467, 6483, 6533, 6534, 6601, 6616, 6628, 6633, 6637, 6638, 6642, 6643, 6644, 6646, 6648, 6651, 6655, 6659, 6660, 6662, 6664, 6667, 6668, 6675, 6681, 6684, 6692, 6693, 6699, 6700, 6701, 6702, 6710, 6711, 6721, 6724, 6726, 6731, 6734, 6741, 6752, 6753, 6758, 6760, 6764, 6767, 6768, 6769, 6781, 6783, 6784, 6786, 6787, 6789, 6790, 6791, 6793, 6794, 6796, 6799, 6801, 6804, 6805, 6806, 6822, 6824, 6826, 6827, 6831, 6832, 6837, 6839, 6843, 6844, 6846, 6847, 6852, 6854, 6855, 6857, 6858, 6859, 6860, 6861, 6865, 6866, 6868, 6869, 6870, 6874, 6875, 6876, 6877, 6878, 6880, 6886, 6889, 6895, 6944, 6949, 6951, 6959, 6963, 7009, 7052, 7057, 7108, 7115, 7120, 7154, 7192, 7235, 7282, 7283, 7285, 7300, 7302, 7303, 7346, 7470, 7479, 7498, 7525, 7582, 7598, 7644, 7650, 7683, 7782, 7795, 7824, 7861, 7862, 7867, 7883, 7918, 7928, 8019, 8029, 8037, 8060, 8067, 8220, 8231, 8516, 8521, 8529, 8530, 8532, 8533, 8572, 8575, 8596, 8624, 8643, 8649, 8660, 8690, 8700, 8720, 8727, 8738, 8750, 8753, 8771, 8789, 8872, 8883, 8885, 8887, 8900, 8904, 8913, 8950, 8964, 8973, 8999, 9005, 9028, 9042, 9044, 9066, 9074, 9092, 9099, 9112, 9141, 9207, 9237, 9249, 9253, 9283, 9288, 9339, 9359, 9382, 9393, 9419, 9421, 9439, 9441, 9444, 9458, 9477, 9478, 9484, 9549, 9554, 9567, 9571, 9578, 9581, 9584, 9587, 9598, 9640, 9642, 9644, 9657, 9674, 9678, 9681, 9687, 9689, 9690, 9720, 9722, 9738, 9784, 9788, 9796, 9801, 9836, 9839, 9875, 9888, 9889, 9906, 9908, 9917, 9924, 9942, 9967, 9980, 9988, 9991, 9999, 10018, 10019, 10035, 10069, 10081, 10090, 10120, 10133, 10134, 10155, 10159, 10181, 10212, 10235, 10282, 10307, 10309, 10311, 10314, 10315, 10316, 10318, 10356, 10387, 10395, 10400, 10404, 10405, 10415, 10430, 10460, 10461, 10462, 10496, 10507, 10517, 10523, 10534, 10537, 10546, 10559, 10577, 10578, 10580, 10581, 10597, 10606, 10623, 10637, 10639, 10657, 10670, 10672, 10673, 10678, 10679, 10680, 10681, 10693, 10718, 10720, 10734, 10753, 10780, 10783, 10828, 10843, 10851, 10876, 10885, 10886, 10946, 10962, 10987, 10991, 11025, 11029, 11062, 11079, 11183, 11185, 11190, 11191, 11193, 11194, 11200, 11205, 11207, 11208, 11244, 11288, 11311, 11312, 11315, 11331, 11365, 11440, 11444, 11472, 11475, 11486, 11497, 11498, 11499, 11501, 11525, 11528, 11552, 11562, 11566, 11568, 11569, 11588, 11594, 11629, 11632, 11634, 11667, 11693, 11705, 11714, 11717, 11718, 11723, 11761, 11780, 11785, 11788, 11793, 11802, 11805, 11806, 11835, 11842, 11892, 11898, 11907, 11930, 11970, 11984, 11992, 11995, 11996, 11997, 12012, 12022, 12023, 12033, 12039, 12050, 12062, 12068, 12072, 12075, 12083, 12095, 12105, 12121, 12176, 12199, 12201, 12207, 12218, 12221, 12266, 12277, 12288, 12294, 12298, 12308, 12316, 12317, 12320, 12327, 12379, 12427, 12430, 12433, 12454, 12469, 12483, 12484, 12490, 12536, 12537, 12540, 12603, 12614, 12627, 12629, 12630, 12635, 12637, 12642, 12643, 12652, 12654, 12655, 12660, 12662, 12663, 12664, 12665, 12667, 12671, 12672, 12677, 12678, 12679, 12680, 12685, 12688, 12689, 12693, 12716, 12782, 12787, 12790, 12794, 12802, 12804, 12806, 12811, 12890, 12897, 12941, 13000, 13024, 13044, 13049, 13101, 13109, 13117, 13122, 13125, 13152, 13208, 13246, 13247, 13248, 13253, 13254, 13257, 13428, 13431, 13439, 13496, 13532, 13547, 13568, 13579, 13580, 13581, 13582, 13583, 13584, 13606, 13609, 13610, 13615, 13616, 13637, 13638, 13639, 13640, 13643, 13644, 13646, 13647, 13648, 13650, 13651, 13653, 13659, 13661, 13664, 13666, 13668, 13669, 13671, 13677, 13680, 13681, 13682, 13684, 13685, 13687, 13688, 13691, 13693, 13695, 13706, 13711, 13716, 13719, 13725, 13731, 13734, 13735, 13736, 13742, 13743, 13744, 13745, 13746, 13748, 13749, 13750, 13751, 13752, 13754, 13755, 13756, 13757, 13758, 13761, 13762, 13769, 13775, 13786, 13787, 13818, 13832, 13850, 13855, 13865, 13900, 13916, 13964, 13965, 13966, 13986, 13990, 14016, 14017, 14085, 14100, 14118, 14129, 14130, 14131, 14145, 14149, 14190, 14210, 14214, 14216, 14229, 14238, 14263, 14271, 14286, 14293, 14303, 14318, 14332, 14348, 14351, 14365, 14366, 14398, 14409, 14449, 14453, 14454, 14457, 14462, 14464, 14467, 14469, 14482, 14489, 14502, 14520, 14524, 14528, 14543, 14551, 14556, 14559, 14560, 14583, 14585, 14587, 14590, 14595, 14612, 14620, 14651, 14658, 14668, 14673, 14684, 14690, 14696, 14698, 14701, 14702, 14704, 14706, 14707, 14710, 14717, 14743, 14760, 14774, 14777, 14778, 14790, 14807, 14818, 14846, 14895, 14918, 14929, 14932, 14935, 14954, 14986, 14988, 14990, 14993, 15000, 15003, 15009, 15017, 15019, 15057, 15083, 15154, 15172, 15175, 15181, 15184, 15193, 15194, 15211, 15257, 15266, 15267, 15287, 15295, 15296, 15300, 15301, 15319, 15320, 15324, 15326, 15327, 15330, 15332, 15335, 15337, 15346, 15362, 15363, 15368, 15369, 15385, 15388, 15389, 15390, 15395, 15402, 15407, 15424, 15430, 15444, 15461, 15501, 15537, 15548, 15558, 15559, 15562, 15578, 15600, 15609, 15622, 15626, 15658, 15666, 15731, 15763, 15768, 15775, 15777, 15778, 15780, 15784, 15787, 15809, 15810, 15834, 15844, 15850, 15861, 15886, 15889, 15899, 15910, 15913, 15914, 15941, 15944, 15946, 15948, 15951, 15958, 15985, 15986, 15996, 15998, 16007, 16013, 16021, 16026, 16037, 16041, 16062, 16065, 16087, 16100, 16103, 16125, 16128, 16136, 16140, 16147, 16184, 16187, 16192, 16196, 16197, 16203, 16215, 16229, 16234, 16235, 16240, 16265, 16268, 16272, 16302, 16314, 16317, 16324, 16325, 16336, 16337, 16340, 16357, 16359, 16360, 16367, 16374, 16380, 16405, 16423, 16430, 16431, 16434, 16438, 16446, 16453, 16469, 16498, 16513, 16519, 16520, 16524, 16526, 16527, 16529, 16544, 16548, 16660, 16721, 16731, 16734, 16764, 16768, 16786, 16790, 16791, 16793, 16795, 16796, 16801, 16802, 16803, 16807, 16808, 16811, 16812, 16813, 16820, 16825, 16830, 16836, 16845, 16847, 16848, 16849, 16857, 16858, 16864, 16867, 16869, 16875, 16888, 16897, 16907, 16924, 16925, 16927, 16930, 16931, 16933, 16938, 16956, 16981, 17008, 17013, 17015, 17026, 17068, 17070, 17072, 17096, 17124, 17140, 17179, 17280, 17282, 17283, 17284, 17285, 17286, 17327, 17513, 17522, 17527, 17530, 17531, 17538, 17542, 17577, 17610, 17617, 17715, 17716, 17740, 17742, 17794, 17803, 17810, 17853, 17866, 17867, 17869, 17873, 17876, 17879, 17883, 17885, 17887, 17896, 17902, 17907, 17911, 17915, 17916, 17917, 17929, 17932, 17933, 17934, 17938, 17940, 17944, 17945, 17946, 17947, 17968, 17970, 17978, 18006, 18007, 18011, 18013, 18020, 18025, 18026, 18028, 18029, 18036, 18037, 18040, 18041, 18047, 18053, 18064, 18171, 18175, 18182, 18191, 18192, 18209, 18210, 18223, 18236, 18264, 18266, 18315, 18330, 18340, 18359, 18360, 18371, 18372, 18414, 18432, 18440, 18443, 18463, 18466, 18468, 18484, 18490, 18499, 18501, 18502, 18543, 18574, 18639, 18641, 18657, 18691, 18698, 18703, 18716, 18740, 18752, 18774, 18791, 18793, 18812, 18832, 18837, 18839, 18845, 18848, 18879, 18881, 18891, 18908, 18916, 18932, 18933, 18934, 18935, 18937, 18939, 18941, 18942, 18943, 18945, 18948, 18950, 18951, 18956, 18958, 18963, 18964, 18972, 18993, 19000, 19056, 19062, 19087, 19093, 19094, 19102, 19103, 19106, 19110, 19117, 19119, 19128, 19129, 19133, 19139, 19162, 19175, 19190, 19192, 19207, 19214, 19226, 19230, 19240, 19242, 19256, 19276, 19280, 19292, 19304, 19315, 19317, 19343, 19350, 19367, 19387, 19395, 19401, 19403, 19416, 19417, 19421, 19435, 19450, 19451, 19452, 19461, 19470, 19487, 19491, 19496, 19516, 19527, 19535, 19554, 19555, 19623, 19656, 19670, 19678, 19685, 19689, 19696, 19698, 19703, 19720, 19728, 19746, 19753, 19754, 19764, 19765, 19795, 19796, 19800, 19802, 19804, 19807, 19814, 19817, 19826, 19827, 19835, 19837, 19870, 19883, 19896, 19927, 19949, 19962, 19968, 19974, 19984, 20030, 20180, 20202, 20208, 20213, 20251, 20315, 20411, 20412, 20413, 20458, 20464, 20495, 20500, 20555, 20561, 20564, 20636, 20647, 20672, 20686, 20688, 20729, 20786, 20795, 20796, 20903, 20942, 20947, 20948, 20949, 20950, 20951, 20954, 20955, 20960, 20963, 20965, 20966, 20967, 20968, 20976, 20979, 20985, 20993, 20996, 20998, 20999, 21003, 21004, 21005, 21010, 21013, 21014, 21016, 21018, 21019, 21020, 21021, 21024, 21025, 21026, 21036, 21038, 21044, 21047, 21054, 21055, 21058, 21059, 21060, 21062, 21063, 21064, 21067, 21068, 21069, 21070, 21071, 21072, 21075, 21083, 21084, 21088, 21090, 21103, 21105, 21110, 21113, 21124, 21125, 21128, 21134, 21153, 21183, 21215, 21216, 21255, 21257, 21273, 21291, 21298, 21318, 21322, 21337, 21367, 21393, 21398, 21400, 21411, 21423, 21432, 21453, 21468, 21478, 21483, 21501, 21514, 21521, 21523, 21553, 21559, 21569, 21581, 21585, 21587, 21589, 21608, 21610, 21613, 21614, 21618, 21620, 21626, 21627, 21628, 21630, 21632, 21633, 21635, 21636, 21637, 21648, 21651, 21654, 21732, 21741, 21746, 21778, 21781, 21797, 21805, 21808, 21813, 21842, 21863, 21873, 21884, 21885, 21890, 21905, 21928, 21938, 21947, 22033, 22063, 22081, 22107, 22113, 22145, 22149, 22165, 22169, 22185, 22193, 22227, 22236, 22247, 22254, 22266, 22296, 22305, 22310, 22313, 22314, 22320, 22330, 22345, 22370, 22379, 22401, 22405, 22407, 22419, 22432, 22444, 22448, 22464, 22473, 22533, 22534, 22558, 22561, 22569, 22660, 22698, 22700, 22790, 22796, 22797, 22810, 22824, 22861, 22936, 22937, 22941, 22943, 23131, 23137, 23202, 23255, 23280, 23382, 23384, 23399, 23420, 23433, 23446, 23552, 23661, 23739, 23853, 23863, 23871, 23893, 23894, 23896, 23949, 23968, 23980, 23986, 23987, 23990, 24002, 24016, 24020, 24046, 24048, 24050, 24072, 24087, 24094, 24098, 24101, 24119, 24124, 24125, 24133, 24140, 24146, 24159, 24165, 24186, 24196, 24370, 24371, 24401, 24461, 24588, 24599, 24671, 24755, 24762, 24813, 24842, 24900, 24966, 25052, 25062, 25300, 25319, 25418, 25420, 25421, 25422, 25425, 25429, 25432, 25434, 25436, 25476, 25493, 25522, 25543, 25547, 25549, 25555, 25556, 25558, 25559, 25560, 25561, 25563, 25564, 25667, 25717, 25813, 25892, 25901, 25926, 25935, 25972, 25987, 26073, 26141, 26252, 26257, 26258, 26261, 26268, 26269, 26277, 26297, 26348, 26484, 26490, 26491, 26495, 26511, 26513, 26533, 26760, 26985, 27261, 27270, 27271, 27275, 27277, 27278, 27279, 27292, 27313, 27323, 27468, 27469, 27470, 27471, 27475, 27477, 27478, 27479, 27480, 27481, 27482, 27484, 27485, 27486, 27488, 27490, 27491, 27536, 27653, 27981, 27996, 28183, 28191, 28192, 28193, 28194, 28197, 28199, 28200, 28201, 28202, 28203, 28204, 28205, 28207, 28208, 28210, 28227, 28228, 28255, 28352, 28355, 28356, 28358, 28360, 28361, 28362, 28363, 28364, 28365, 28367, 28368, 28370, 28372, 28373, 28374, 28577, 28591, 28981, 28983, 29028, 29030, 29071, 29124, 29226, 29370, 29374, 29390, 29432, 29435, 29450, 29451, 29633, 29634, 29725, 29906, 29954, 29957, 29968, 30149, 30153, 30163], [1, 4029], [35, 1654, 3026, 4245, 10020], [60, 15722], [80, 5905, 12648, 12686, 16783, 22662, 29018, 29665], [81, 127], [319, 327, 333, 4789, 4795, 6179, 6199, 6204, 13120, 13121, 13470, 13471, 13475, 13481, 13486, 13488, 17374, 17380, 17387, 17397, 17400, 17761, 17852, 17963, 20840, 20842, 20869, 20880, 20885, 20891, 22745, 22758, 22764, 22765, 22767, 22771], [86, 5931, 12684], [94, 5929], [100, 115, 116, 134, 164, 2352, 5934, 5988, 6122, 12661, 16792], [106, 4959], [108, 5948, 18059], [109, 2084, 5951], [112, 2080, 5958], [114, 4362], [121, 161], [129, 5220], [133, 7304], [137, 189], [146, 353, 680, 1095, 1460, 3067, 3074, 3323, 3613, 3679, 3703, 3865, 4242, 4658, 4752, 5720, 6002, 6003, 6006, 6302, 6582, 7575, 8683, 9277, 9384, 9615, 10143, 10759, 10889, 10891, 11425, 11445, 11496, 11505, 11554, 11567, 11768, 11886, 12009, 12600, 12707, 13387, 13520, 14427, 14641, 14647, 15081, 15440, 15926, 15989, 16180, 16837, 17827, 19882, 20440, 21311, 21650, 22129, 22817, 23592, 25336, 26494, 27294, 29373, 29487], [149, 5979], [150, 5908, 5982, 12608, 12650, 16833, 19120], [151, 5983], [152, 5980, 12649, 16832], [153, 7284], [163, 10739], [170, 6017, 12612], [171, 6026], [181, 3068, 6004, 6022, 12613], [182, 184], [186, 5917, 6035, 12673], [187, 6032], [194, 5941], [256, 308, 5827], [280, 6205], [281, 13196], [293, 299, 6145, 12891], [298, 6160, 12904], [309, 797], [317, 805, 891, 6696, 6811, 7053], [328, 6201], [371, 16642], [391, 392, 6264], [393, 6267], [425, 6387, 9053, 9400, 27096], [426, 9175], [465, 4550], [485, 1861, 8180, 25094], [500, 3110, 3783, 9543, 9770, 9783], [507, 12016], [516, 3837], [538, 6304, 19329], [545, 21313], [550, 9765], [560, 1507], [595, 6403], [621, 6404], [629, 23014], [651, 6527], [655, 6544, 19384, 19662], [691, 12004], [726, 11056], [734, 745, 746, 800, 815, 816, 822, 823], [735, 1045, 9837], [749, 996, 12188], [768, 894, 901], [771, 4924, 8565, 21029], [796, 850], [813, 903], [875, 877], [876, 884, 4506, 16921], [878, 6748], [889, 19813], [932, 6936], [940, 5825], [941, 6896], [943, 17066], [969, 13299], [980, 984, 14097, 14829, 21761, 28236], [992, 7090, 7091, 7092, 7093, 7094, 7096, 7097, 7098, 7099, 12306, 16963, 17425, 17426, 17427, 17429, 17443, 17445, 17446, 17448, 21712, 21713, 21717, 21723, 22730, 22731, 22732], [1001, 14199], [1009, 3856], [1015, 5085], [1027, 1449], [1035, 1401], [1037, 7714], [1067, 8788], [1076, 9263, 14209, 19574, 21894], [1080, 4946, 5932, 13034, 13038, 15964, 21595], [1081, 27116], [1109, 7196], [1111, 15419], [1173, 13944], [1176, 2674], [1187, 6188], [1202, 6196], [1206, 18789, 27014], [1223, 1374], [1229, 13993], [1233, 11349, 11350], [1245, 15536], [1251, 2720], [1267, 16011], [1281, 4038, 6173], [1282, 22049], [1289, 13901], [1325, 11133], [1327, 5318], [1345, 4788, 6063, 13981, 13996], [1358, 15453, 15467, 15468, 17074, 17099], [1364, 14405], [1383, 5226], [1393, 19894], [1402, 4480, 6589], [1410, 10972, 24642], [1484, 19054], [1504, 1691, 18526], [1544, 3375, 12122], [1560, 8943], [1604, 11763], [1617, 10448, 20689], [1622, 11738], [1626, 5256, 10785, 11626], [1651, 9245], [1658, 10548, 14653], [1664, 4324], [1666, 4863, 7602, 17582], [1675, 16002], [1692, 11701, 14459], [1694, 4698, 19901], [1697, 16264], [1704, 1786, 14394], [1739, 3656], [1760, 4769], [1765, 9411], [1784, 11935], [1794, 4225], [1800, 10925, 15098], [1814, 9925], [1824, 21438], [1838, 3642], [1844, 3391], [1856, 3634, 3887, 5666, 8982, 9635, 9895, 10441, 11313, 11612, 14753], [1857, 10118], [1925, 10516], [1930, 4713, 15894], [1931, 3425], [2037, 10263, 29712], [2057, 19436], [2064, 4006], [2070, 7488], [2077, 8281, 10234], [2085, 15782], [2136, 11557], [2138, 3860], [2146, 9586], [2148, 10618], [2155, 4966], [2174, 2920], [2188, 4422, 4430, 4449], [2195, 4442], [2197, 4432, 4436], [2202, 4392], [2207, 4452], [2230, 12855], [2231, 9878, 11592], [2268, 4730], [2276, 2288, 2325, 2328, 2330, 8361, 8364, 8372, 8382, 8383, 8392, 8399, 8415, 8464, 8507, 8510, 8511, 8513, 8515, 16574, 16578, 16588, 16596, 16597, 16599, 16607, 16615, 19996, 20006, 20007, 20010, 20020, 20064, 22602, 22630, 22647, 24209, 24237, 24257, 24303, 24503, 24506, 24546, 24552, 24561, 24571, 24573, 26388, 26416, 26457, 26460, 26470, 27159, 27176, 27239, 27242, 27252, 27377, 27379, 27393, 27394, 27400, 28117, 28125, 28141, 28164, 28182, 28261, 28270, 28283, 28295, 28339, 28931, 28941, 28944, 28950, 29101, 29108, 29110, 29115, 29148, 29151, 29162, 29169, 29170, 29286, 29318, 29327, 29328, 29332, 29342, 29503, 29507, 29526, 29533, 29537, 29538, 29601, 29610, 29612, 29763, 29766, 29772, 29777, 29786, 29792], [2277, 8381], [2284, 26431], [2285, 2302, 24216, 24339, 24520, 27174, 27418, 27431, 27454, 28139, 28146, 28958, 29183, 29520, 29584, 29607], [2300, 2301, 2303, 2304, 2305, 8504, 17720], [2316, 20014], [2329, 8506], [2332, 3088], [2335, 2346, 4398, 8518, 10256], [2344, 2349, 4423], [2345, 28235], [2350, 8517], [2355, 14782], [2357, 24806], [2358, 25469], [2372, 16152], [2380, 8569], [2383, 5405], [2396, 4614, 11094], [2416, 8091], [2430, 23571], [2437, 25938], [2474, 2475], [2480, 5062], [2493, 6040, 10252], [2494, 22118], [2500, 2831], [2526, 13665], [2569, 19293], [2575, 2577, 2579, 2584, 2587, 2589], [2640, 9526], [2662, 18836], [2683, 7700, 13130, 13139, 15617, 17414, 19916, 20220, 20221, 26091], [2698, 2781, 3696, 15525], [2732, 9200, 14741], [2737, 14288, 25477], [2742, 3307, 9009], [2749, 3923], [2754, 14987, 18422], [2773, 9491], [2791, 16049], [2792, 18303], [2793, 14369], [2826, 3772], [2854, 4085, 12015, 17056, 18765], [2860, 7528, 11814, 13660, 16624], [2869, 12058], [2903, 5489, 10795, 13302], [2925, 4120, 11004], [2956, 3047, 14243, 14298, 15188], [2985, 11791], [2986, 12193, 15381], [3022, 3030], [3050, 14148], [3071, 5906, 8033], [3081, 9327, 14571], [3093, 4879, 6933], [3097, 11994], [3100, 10857], [3171, 16530], [3173, 7269], [3175, 18044], [3187, 9937], [3220, 14869], [3256, 3280, 19182], [3260, 9454, 9639, 12014, 14981], [3266, 5469, 11571], [3268, 9677, 16067, 18407], [3271, 11455, 19700], [3283, 5313], [3303, 9706], [3310, 10911], [3340, 24019], [3342, 5534, 10123], [3407, 16386, 18505], [3414, 13909], [3431, 4979, 5698, 6274, 18456, 18959], [3440, 16122], [3453, 4984, 17961], [3476, 14801], [3501, 16182], [3543, 9442], [3558, 5627, 11829], [3654, 4739], [3673, 4151], [3718, 15759], [3729, 5239, 11828], [3756, 8926, 14113], [3767, 11689], [3786, 5394], [3790, 8081], [3792, 13051], [3793, 10530], [3811, 28186], [3817, 10558], [3836, 5236], [3960, 5366], [3999, 6159, 6165, 12894, 15620, 21053], [4056, 19794], [4083, 23907], [4092, 12155], [4145, 14283], [4146, 14504], [4158, 6535], [4185, 8296, 19388], [4194, 9310], [4202, 17299], [4283, 12276], [4294, 11180], [4319, 10600, 12080, 14352, 16186], [4322, 7619, 12098], [4323, 10971], [4328, 7731, 10510, 12874, 12976, 16249], [4376, 12233], [4388, 9329, 9331, 14014, 17011, 17326, 17709, 17949, 17950], [4394, 19060], [4413, 4460, 4601, 4753, 4757, 6717, 6776, 10982, 11218, 17461, 22138, 24077], [4431, 4456], [4454, 6082, 6234], [4459, 13338], [4485, 23889], [4491, 4834], [4500, 12065], [4504, 10332], [4525, 5119], [4580, 4586], [4598, 11065], [4625, 19359], [4642, 17745], [4648, 20728], [4657, 14659], [4663, 18461], [4665, 11859], [4667, 13274], [4702, 11986], [4740, 11391], [4760, 9075], [4767, 11300], [4852, 4871], [4867, 8270], [4878, 4880], [4901, 11294], [4987, 11372, 13572, 17815], [4994, 15527], [4995, 18834], [5022, 15871], [5060, 13949], [5086, 9945], [5108, 19179], [5115, 12325], [5116, 9630], [5128, 12488], [5165, 16114], [5209, 6114], [5210, 9073, 14163, 14530], [5230, 15068], [5271, 10157], [5367, 11821], [5431, 12304], [5432, 11522], [5459, 18838], [5478, 9718], [5491, 6278], [5496, 18453], [5513, 10465], [5536, 23506], [5592, 18623], [5606, 11516], [5622, 5623, 7936, 9029, 11211, 11518, 11833, 12292, 14191, 14268, 15075, 16365, 16366, 16543, 19701], [5629, 10493], [5759, 14048], [5774, 14091, 17593], [5798, 8650, 16715, 18139], [5822, 5823], [5862, 15610, 18854, 19379], [5867, 19406], [5868, 5875, 5895, 5897], [5873, 5891], [5886, 5889, 6023, 6025, 10836], [5890, 13683], [5914, 12658], [5918, 12669], [5930, 5994, 6126, 6131, 7275, 8790], [5938, 12696], [5943, 12701], [5952, 12636], [5978, 12609, 16834], [5981, 12611, 16835], [5984, 6021], [5986, 12619, 16852], [6049, 7866, 23085], [6052, 11354], [6055, 7892], [6072, 12429], [6075, 16039], [6080, 19871], [6099, 20536], [6102, 18743], [6106, 7318, 17457], [6125, 8277, 15767], [6130, 15781], [6132, 12682, 16805], [6136, 8287], [6156, 14007], [6189, 22198], [6220, 16999, 22656], [6225, 7850, 13073, 13324, 21249, 22954, 23291, 23292, 23404, 24174, 24953, 25726, 25806, 26059], [6229, 6233, 6236, 6240, 6241, 17321, 17323], [6245, 17334, 17974, 21107], [6252, 13168], [6263, 8024], [6268, 13156], [6279, 18357], [6284, 13992], [6300, 18835, 21677], [6317, 14495], [6330, 9646], [6337, 7654], [6372, 10283], [6585, 14723], [6599, 6604, 6608, 6623, 6625], [6611, 6689, 14406], [6627, 11252], [6658, 6677, 13696], [6663, 6665], [6674, 17973, 17979, 17981, 19651, 21035, 21740], [6676, 13771], [6707, 6716], [6713, 6836], [6720, 6742, 13612], [6723, 6727], [6743, 13633, 17986, 21106], [6759, 8940, 17912, 21076], [6761, 14150], [6830, 17886, 17893], [6850, 13679], [6856, 13673], [6881, 9338, 13703], [6900, 7159], [6918, 18241], [6922, 6925], [6926, 6927], [6950, 12116], [6958, 10456], [6970, 7898], [6985, 7100, 7857, 13798, 13921, 20187, 24952], [6997, 8586], [7008, 11558], [7143, 19137], [7160, 9213], [7211, 11169], [7212, 9123], [7259, 15633, 17564], [7266, 16120, 16486], [7271, 7273], [7277, 7278], [7280, 7286], [7293, 17274, 17278], [7295, 9986], [7313, 15485, 17450], [7315, 7316], [7367, 10464], [7379, 12950], [7384, 9394], [7395, 16189], [7478, 15245], [7491, 13226, 17247], [7496, 14157, 16525], [7502, 17684], [7520, 20682], [7530, 8239], [7584, 21378], [7617, 26181], [7626, 8715, 10978, 14123, 17604, 17686, 18569], [7627, 17663], [7679, 14845], [7712, 16688], [7797, 16841], [7798, 10787], [7809, 11420], [7812, 22799, 23380], [7854, 7935], [7938, 23858], [7942, 14484, 26569], [7974, 8764], [8021, 17236], [8043, 17769], [8048, 8577, 8580, 25999], [8076, 14227], [8098, 10367], [8123, 8376], [8147, 26090], [8150, 26975], [8163, 9050], [8166, 25952], [8202, 18493, 21565], [8227, 23792], [8250, 8319], [8279, 20517], [8355, 16503], [8356, 24239, 24562, 27194, 27225, 27421, 27426, 27441, 28143, 28172, 28271, 28321, 28891, 28900, 28943, 29117, 29127, 29128, 29132, 29172, 29304, 29315, 29348, 29506, 29521, 29529, 29543, 29571, 29595, 29615, 29757, 29776, 29785, 29789], [8362, 16618], [8367, 16567, 16621, 26403], [8388, 29147], [8393, 16622, 24208, 24333, 27179], [8427, 8438, 8467], [8431, 24340], [8452, 8453], [8488, 27214], [8489, 20005, 28157, 28304], [8509, 16585, 16601, 16603, 16627, 20033, 20067, 24251, 24547, 26400, 27249], [8525, 12639, 12647, 12694], [8547, 11909], [8550, 18992], [8554, 10735, 22436], [8603, 13537], [8616, 10521], [8651, 14422], [8654, 12421], [8703, 13061], [8761, 9173], [8775, 8783, 8784], [8803, 10383, 29426], [8847, 8848], [8859, 15624], [8866, 8879], [8906, 22317], [8915, 14934], [8932, 16207], [8941, 14389], [8983, 18738], [9001, 10654], [9108, 11241], [9139, 14343], [9164, 12998, 29463], [9180, 14761], [9217, 16509], [9228, 12558], [9244, 17142, 19077], [9254, 10364, 14521], [9279, 15022], [9280, 14599, 28851], [9301, 17844, 19829], [9320, 11261], [9341, 9365], [9358, 9361, 17717], [9475, 16310], [9513, 19307], [9519, 11125], [9544, 11972, 18284, 20172, 22553, 23876], [9631, 16209], [9667, 11882], [9670, 23939], [9680, 19486], [9691, 11783], [9692, 14254], [9790, 19346], [9794, 15011], [9812, 10058], [9876, 10656], [9913, 18887], [9928, 10596, 17846], [9952, 9994], [9961, 10424, 19263, 19495], [9964, 10422], [9985, 15023], [9998, 21831], [10071, 11471], [10124, 19300], [10126, 11473], [10150, 19775, 20434, 20436], [10154, 11633, 15851, 19065], [10215, 10771], [10223, 16883], [10247, 22814], [10261, 10262, 15611, 17502, 17508, 17511, 20841, 21220], [10271, 20497], [10348, 15340, 21791], [10363, 14047], [10393, 16505], [10492, 12291, 16349, 16407, 23859], [10526, 21451], [10535, 15872], [10547, 11433], [10549, 15433, 18471], [10582, 14640], [10607, 12492], [10628, 11524], [10691, 18244], [10729, 18368], [10762, 16162], [10769, 21765], [10779, 19705], [10800, 17295], [10809, 12989], [10870, 18504, 19419, 22100], [10896, 17245], [10914, 29990], [10915, 12621], [10920, 11719], [10953, 15202, 19313], [10980, 16472], [11027, 12383], [11059, 17270, 22737, 22750], [11100, 14009], [11157, 15280, 19113], [11160, 12984, 12985], [11164, 21493, 21855], [11168, 19732], [11186, 13741], [11188, 19493], [11243, 15149], [11265, 19339], [11269, 12222], [11314, 18736], [11356, 11364], [11371, 20902], [11418, 23006], [11432, 16444], [11493, 13379], [11504, 14703, 14989, 22103], [11517, 18670], [11543, 16276], [11547, 20511, 22984], [11596, 12256], [11609, 14340], [11732, 19933], [11745, 16295], [11779, 14503, 16432], [11784, 19084], [11871, 17113], [11955, 18381], [11971, 23094, 25194], [12021, 15264, 19091], [12046, 18307], [12049, 14870], [12099, 14278, 15274], [12180, 12833, 18769, 19321, 19540, 22501, 25934, 26022], [12197, 29706], [12225, 16232], [12253, 27467], [12309, 22209], [12345, 19860], [12363, 14579, 21546], [12396, 12400], [12435, 12486], [12443, 15594], [12446, 21864], [12453, 19673], [12463, 18289], [12481, 14491, 19640, 23822], [12535, 17525], [12539, 17120], [12572, 13895], [12675, 16800], [12676, 15660, 15661], [12691, 12692, 16810], [12699, 29091], [12731, 13877], [12734, 14550], [12741, 17259], [12742, 17261], [12743, 24404], [12752, 13136], [12756, 25114], [12774, 15703], [12781, 13870, 17060], [12831, 13181], [12880, 20845], [12943, 14178], [12959, 14065], [12967, 16551], [12969, 17368], [12973, 13344, 21347], [12990, 15873, 18273, 18771, 19096], [13022, 15694], [13074, 15704], [13093, 13095], [13149, 14956], [13150, 15376], [13174, 15275], [13237, 15350], [13263, 15819], [13335, 23308, 23812, 25780, 27038, 27546, 28589], [13397, 14794], [13413, 17273, 17813], [13446, 17669], [13463, 17659], [13482, 17382, 20364, 20893, 22762], [13484, 13485], [13490, 13492, 17396], [13530, 17825], [13550, 16458], [13574, 21517], [13596, 13941], [13598, 13600, 13622], [13605, 17901], [13626, 13657, 13702], [13627, 18737], [13629, 15502], [13641, 18004], [13713, 16922], [13717, 17942], [13723, 17855], [13739, 13759], [13777, 17913, 20987], [13785, 13796, 13799], [13791, 17943], [13794, 17919], [13819, 14483], [13907, 22420], [13918, 25536], [13935, 23361], [13970, 18913], [13980, 23127], [14029, 18295, 18419, 19316], [14032, 15967], [14042, 14438], [14079, 18111], [14136, 15116, 17186, 19747], [14164, 15452, 21459], [14219, 16107], [14232, 16395, 19584], [14246, 21544], [14265, 15178], [14331, 25975], [14346, 19356], [14350, 18408], [14361, 20633], [14399, 14866], [14445, 15358], [14448, 14746], [14485, 18201, 21789], [14529, 17244], [14586, 18528], [14605, 18339, 19043], [14629, 18849], [14686, 19363], [14688, 27646, 28541, 28628], [14735, 16665], [14740, 16010], [14787, 18309, 18337], [14819, 18097], [14997, 21260], [15029, 19020], [15112, 18231], [15121, 18651], [15142, 16104], [15232, 19429], [15273, 18475], [15279, 21283], [15291, 16260], [15305, 15564], [15343, 18923], [15366, 24438], [15411, 19722], [15432, 19634, 19790], [15450, 21642], [15457, 15477], [15491, 17453], [15494, 16776, 17451], [15556, 17641], [15649, 26260], [15702, 22935], [15707, 20854], [15724, 16356], [15839, 22112], [15869, 18531], [15890, 18775, 19449], [15904, 19340], [15911, 21548], [15997, 20475, 22300], [16027, 22560], [16029, 16093], [16059, 21474], [16142, 22567], [16168, 20642], [16172, 18345], [16173, 19479], [16429, 20759], [16435, 22424], [16496, 18713], [16514, 18481, 22218, 24440, 24598], [16565, 16611], [16577, 24517], [16579, 28898], [16591, 29597], [16595, 29536, 29570], [16620, 27411, 29120], [16623, 22628], [16724, 20895], [16726, 20539], [16733, 17046], [16781, 21476], [16838, 18566], [16899, 18897], [16903, 22848], [16920, 19209], [17019, 19434], [17077, 17495], [17128, 19135, 22297], [17141, 17543], [17153, 19614], [17158, 20690], [17164, 17167], [17173, 19440], [17243, 18710], [17246, 18561, 18910], [17279, 20794], [17290, 23437, 24771, 26206], [17391, 17403, 20888, 20890], [17410, 17666], [17412, 20691], [17413, 24885], [17478, 18151, 18558], [17492, 23575], [17506, 17509], [17586, 19059], [17598, 18115], [17665, 18722], [17678, 20496], [17777, 17799, 17801], [17779, 17797], [17850, 17878, 17905, 20293, 21126], [17862, 17931], [17877, 17903, 20849, 20957], [17908, 17930], [17994, 20982], [18095, 21305, 23030, 24486], [18106, 20552], [18160, 22380], [18281, 19295], [18321, 21534], [18341, 19383, 23981], [18410, 22194], [18455, 18801], [18514, 19112], [18515, 20773], [18520, 22208], [18536, 19472], [18555, 19290], [18567, 19776], [18608, 20249, 20793, 21681, 21911], [18652, 21751], [18666, 19873], [18729, 19919], [18783, 23818], [18855, 19936], [18917, 21792], [18929, 21609], [18936, 21622], [18946, 19615], [18967, 22243], [19008, 21490, 21606, 22260, 24477], [19009, 22458], [19017, 20244], [19045, 19632], [19061, 19934], [19109, 21287], [19134, 19958], [19275, 19511], [19560, 19739], [19690, 22530, 23977], [19691, 22691], [19736, 20531], [19750, 24160], [19756, 20681], [19778, 21426], [19785, 19941], [19867, 21903], [19915, 21993], [19931, 21363], [19995, 24198, 24233, 24254, 26464, 27182], [20003, 27390], [20023, 24531], [20024, 20027], [20042, 24223], [20043, 28668], [20047, 24231, 24258, 29291, 29511], [20049, 24513, 26449], [20124, 20125], [20210, 22791], [20215, 22805], [20274, 22736, 28068, 28627, 29490], [20276, 24631], [20294, 23443], [20419, 21396], [20484, 20583, 22374], [20505, 22159], [20549, 24182], [20557, 21096], [20766, 20978], [20787, 23392], [20801, 29249], [20802, 24601], [20879, 22761], [20929, 26030], [21056, 21077], [21085, 21089], [21099, 21100, 21101, 21112], [21145, 23566], [21157, 22192], [21178, 22843], [21185, 21186], [21223, 29391], [21304, 21708], [21349, 22147], [21390, 24060], [21391, 30033], [21395, 22412], [21417, 22443], [21418, 24615], [21444, 23862], [21498, 22109], [21577, 21876], [21617, 23709], [21718, 21731], [21767, 28072], [21780, 22335], [21818, 25230], [21837, 25988], [21924, 22001], [21970, 26057], [22062, 26319], [22087, 25459], [22094, 23440], [22101, 23940], [22181, 22836], [22333, 23850], [22483, 24474], [22605, 26404, 27429, 28324, 28933], [22611, 27227], [22618, 22620, 27399], [22632, 24243], [22634, 28170], [22638, 27434], [22682, 22768], [22751, 22753], [22818, 25527], [22825, 22926], [22907, 23183], [22977, 23877], [23043, 23393, 25119], [23053, 23354], [23124, 25463], [23163, 23167], [23245, 23448], [23251, 24753], [23263, 24414], [23416, 26110], [23430, 24894], [23453, 25102], [23487, 23834], [23498, 24837], [23499, 25006], [23574, 24961], [23606, 25346], [23607, 26279], [23617, 24022], [23692, 25923], [23771, 25289], [24029, 24115], [24226, 24566], [24234, 27369], [24259, 27233], [24274, 24290], [24322, 29604], [24342, 28327], [24496, 26393], [24497, 28312, 29118], [24509, 24559, 29122], [24538, 26465], [24542, 29594], [24657, 26824], [24908, 25786], [25020, 25920], [25099, 26067], [25153, 25970, 27744], [25196, 28798], [25203, 25828, 26785], [25280, 25783], [25313, 25971], [25351, 25448], [25385, 25392], [25410, 25534], [25414, 26477], [25416, 25540, 26229, 26255, 26482], [25424, 25552, 26264], [25431, 25545, 26256], [25433, 25551], [25435, 25542, 25553], [25446, 25447], [25546, 26263, 26492], [25562, 26265], [25581, 25583], [25655, 25656], [25682, 27108], [25714, 27678], [25745, 26306], [25788, 26516], [25795, 26156], [25796, 28446, 28569], [25838, 28701], [25843, 27281], [25850, 28769], [25966, 27149], [25978, 26983], [26015, 27516], [26045, 29084], [26055, 26564], [26166, 27052, 27768], [26326, 27483], [26378, 27162], [26386, 27248], [26395, 27384], [26413, 29275], [26448, 27184], [26453, 27218, 27385], [26456, 27251], [26496, 26497, 26639], [26542, 27500], [26554, 27132], [26586, 28067], [26663, 28742], [26688, 28014], [26704, 26706], [26731, 27042], [26741, 27772], [26756, 28679], [26776, 27196], [26806, 27016], [26996, 27834], [27000, 27062], [27028, 27788], [27068, 27865], [27148, 28259], [27160, 29586], [27170, 29173], [27201, 28335], [27205, 28965, 29295], [27207, 27397], [27221, 27453, 28149], [27223, 29322], [27236, 27428], [27238, 29278], [27260, 28873], [27401, 28901, 29123], [27430, 28128], [27442, 28315], [27445, 28167], [27474, 28196, 28354], [27511, 28883], [27545, 28823], [27565, 28884], [27594, 28576], [27615, 27998, 28038, 28443], [27691, 28515], [27708, 28383], [27756, 28846], [27847, 28517], [27867, 28224], [27910, 28448], [27919, 28439], [27929, 28775], [27984, 29143], [28063, 29705], [28065, 29051], [28120, 28177, 29502, 29798], [28126, 29175], [28127, 28175], [28133, 28329], [28140, 28307], [28145, 29345], [28195, 28353], [28198, 28366], [28206, 28371], [28239, 29081], [28296, 29171], [28308, 29279, 29567], [28328, 29141], [28518, 29625, 29842], [28548, 28960, 28976], [28669, 29066], [28696, 28905], [28874, 28969], [28935, 29121], [28957, 29187], [29089, 29099], [29305, 29750], [29306, 29585], [29310, 29515], [29329, 29509], [29330, 29356, 29518], [29380, 29700], [29562, 29761], [29588, 29790], [29613, 29755], [29636, 29686], [29642, 29740], [29674, 30014], [29707, 29726, 29938], [29894, 30022], [29933, 29964], [30144, 30186])\n"
     ]
    },
    {
     "name": "stdout",
     "output_type": "stream",
     "text": [
      "([0, 27, 28, 29, 43, 52, 82, 84, 85, 87, 89, 93, 95, 99, 102, 103, 104, 105, 110, 117, 125, 128, 131, 132, 154, 155, 156, 162, 165, 167, 168, 169, 177, 179, 183, 206, 221, 230, 232, 234, 269, 284, 300, 318, 331, 338, 377, 415, 478, 557, 596, 599, 600, 601, 605, 606, 607, 609, 611, 617, 623, 628, 649, 659, 736, 737, 738, 748, 750, 752, 753, 755, 756, 787, 791, 793, 795, 799, 801, 807, 808, 817, 825, 826, 827, 829, 835, 836, 838, 840, 851, 853, 855, 856, 857, 887, 893, 897, 900, 914, 915, 921, 988, 1000, 1005, 1052, 1108, 1114, 1120, 1136, 1140, 1163, 1175, 1212, 1259, 1270, 1279, 1366, 1369, 1404, 1425, 1427, 1482, 1498, 1516, 1517, 1520, 1541, 1565, 1587, 1590, 1594, 1595, 1603, 1615, 1623, 1627, 1630, 1642, 1673, 1696, 1709, 1749, 1750, 1751, 1758, 1762, 1787, 1790, 1791, 1795, 1832, 1850, 1854, 1870, 1896, 1914, 1923, 1926, 1949, 1953, 1965, 1980, 2016, 2082, 2111, 2119, 2122, 2123, 2172, 2177, 2180, 2210, 2331, 2333, 2339, 2347, 2351, 2381, 2384, 2428, 2431, 2438, 2446, 2452, 2522, 2523, 2619, 2622, 2623, 2646, 2650, 2665, 2666, 2673, 2681, 2685, 2688, 2693, 2694, 2695, 2696, 2705, 2707, 2712, 2718, 2724, 2728, 2735, 2736, 2744, 2745, 2769, 2784, 2801, 2814, 2816, 2866, 2868, 2870, 2875, 2880, 2929, 2935, 2947, 2966, 2976, 3004, 3028, 3035, 3037, 3041, 3078, 3082, 3085, 3086, 3087, 3102, 3106, 3107, 3108, 3142, 3209, 3235, 3238, 3244, 3257, 3261, 3276, 3278, 3291, 3312, 3331, 3341, 3356, 3380, 3396, 3397, 3405, 3415, 3417, 3422, 3423, 3432, 3446, 3487, 3545, 3587, 3610, 3622, 3643, 3700, 3706, 3721, 3726, 3739, 3743, 3784, 3800, 3806, 3808, 3823, 3828, 3829, 3830, 3838, 3884, 3897, 3933, 3984, 3998, 4031, 4044, 4093, 4124, 4153, 4171, 4174, 4205, 4210, 4221, 4275, 4305, 4320, 4325, 4327, 4340, 4351, 4354, 4366, 4426, 4434, 4435, 4457, 4467, 4468, 4474, 4508, 4561, 4716, 4733, 4764, 4765, 4770, 4774, 4818, 4854, 4872, 5009, 5010, 5025, 5064, 5091, 5096, 5098, 5120, 5125, 5132, 5138, 5144, 5163, 5170, 5179, 5214, 5227, 5241, 5247, 5255, 5260, 5261, 5272, 5283, 5335, 5336, 5398, 5408, 5421, 5422, 5425, 5426, 5435, 5439, 5454, 5464, 5470, 5490, 5497, 5516, 5543, 5547, 5549, 5571, 5573, 5575, 5587, 5601, 5630, 5654, 5662, 5669, 5671, 5677, 5688, 5693, 5694, 5730, 5737, 5755, 5782, 5851, 5858, 5859, 5861, 5866, 5870, 5871, 5872, 5877, 5888, 5909, 5910, 5911, 5913, 5920, 5923, 5927, 5928, 5935, 5936, 5937, 5940, 5945, 5947, 5950, 5953, 5992, 5996, 5998, 6000, 6014, 6020, 6024, 6030, 6039, 6067, 6076, 6100, 6107, 6115, 6124, 6128, 6141, 6256, 6269, 6273, 6282, 6283, 6298, 6331, 6339, 6346, 6358, 6368, 6385, 6405, 6406, 6407, 6412, 6415, 6417, 6422, 6425, 6426, 6427, 6428, 6429, 6444, 6467, 6483, 6533, 6534, 6601, 6616, 6628, 6633, 6637, 6638, 6642, 6643, 6644, 6646, 6648, 6651, 6655, 6659, 6660, 6662, 6664, 6667, 6668, 6675, 6681, 6684, 6692, 6693, 6699, 6700, 6701, 6702, 6710, 6711, 6721, 6724, 6726, 6731, 6734, 6741, 6752, 6753, 6758, 6760, 6764, 6767, 6768, 6769, 6781, 6783, 6784, 6786, 6787, 6789, 6790, 6791, 6793, 6794, 6796, 6799, 6801, 6804, 6805, 6806, 6822, 6824, 6826, 6827, 6831, 6832, 6837, 6839, 6843, 6844, 6846, 6847, 6852, 6854, 6855, 6857, 6858, 6859, 6860, 6861, 6865, 6866, 6868, 6869, 6870, 6874, 6875, 6876, 6877, 6878, 6880, 6886, 6889, 6895, 6944, 6949, 6951, 6959, 6963, 7009, 7052, 7057, 7108, 7115, 7120, 7154, 7192, 7235, 7282, 7283, 7285, 7300, 7302, 7303, 7346, 7470, 7479, 7498, 7525, 7582, 7598, 7644, 7650, 7683, 7782, 7795, 7824, 7861, 7862, 7867, 7883, 7918, 7928, 8019, 8029, 8037, 8060, 8067, 8220, 8231, 8516, 8521, 8529, 8530, 8532, 8533, 8572, 8575, 8596, 8624, 8643, 8649, 8660, 8690, 8700, 8720, 8727, 8738, 8750, 8753, 8771, 8789, 8872, 8883, 8885, 8887, 8900, 8904, 8913, 8950, 8964, 8973, 8999, 9005, 9028, 9042, 9044, 9066, 9074, 9092, 9099, 9112, 9141, 9207, 9237, 9249, 9253, 9283, 9288, 9339, 9359, 9382, 9393, 9419, 9421, 9439, 9441, 9444, 9458, 9477, 9478, 9484, 9549, 9554, 9567, 9571, 9578, 9581, 9584, 9587, 9598, 9640, 9642, 9644, 9657, 9674, 9678, 9681, 9687, 9689, 9690, 9720, 9722, 9738, 9784, 9788, 9796, 9801, 9836, 9839, 9875, 9888, 9889, 9906, 9908, 9917, 9924, 9942, 9967, 9980, 9988, 9991, 9999, 10018, 10019, 10035, 10069, 10081, 10090, 10120, 10133, 10134, 10155, 10159, 10181, 10212, 10235, 10282, 10307, 10309, 10311, 10314, 10315, 10316, 10318, 10356, 10387, 10395, 10400, 10404, 10405, 10415, 10430, 10460, 10461, 10462, 10496, 10507, 10517, 10523, 10534, 10537, 10546, 10559, 10577, 10578, 10580, 10581, 10597, 10606, 10623, 10637, 10639, 10657, 10670, 10672, 10673, 10678, 10679, 10680, 10681, 10693, 10718, 10720, 10734, 10753, 10780, 10783, 10828, 10843, 10851, 10876, 10885, 10886, 10946, 10962, 10987, 10991, 11025, 11029, 11062, 11079, 11183, 11185, 11190, 11191, 11193, 11194, 11200, 11205, 11207, 11208, 11244, 11288, 11311, 11312, 11315, 11331, 11365, 11440, 11444, 11472, 11475, 11486, 11497, 11498, 11499, 11501, 11525, 11528, 11552, 11562, 11566, 11568, 11569, 11588, 11594, 11629, 11632, 11634, 11667, 11693, 11705, 11714, 11717, 11718, 11723, 11761, 11780, 11785, 11788, 11793, 11802, 11805, 11806, 11835, 11842, 11892, 11898, 11907, 11930, 11970, 11984, 11992, 11995, 11996, 11997, 12012, 12022, 12023, 12033, 12039, 12050, 12062, 12068, 12072, 12075, 12083, 12095, 12105, 12121, 12176, 12199, 12201, 12207, 12218, 12221, 12266, 12277, 12288, 12294, 12298, 12308, 12316, 12317, 12320, 12327, 12379, 12427, 12430, 12433, 12454, 12469, 12483, 12484, 12490, 12536, 12537, 12540, 12603, 12614, 12627, 12629, 12630, 12635, 12637, 12642, 12643, 12652, 12654, 12655, 12660, 12662, 12663, 12664, 12665, 12667, 12671, 12672, 12677, 12678, 12679, 12680, 12685, 12688, 12689, 12693, 12716, 12782, 12787, 12790, 12794, 12802, 12804, 12806, 12811, 12890, 12897, 12941, 13000, 13024, 13044, 13049, 13101, 13109, 13117, 13122, 13125, 13152, 13208, 13246, 13247, 13248, 13253, 13254, 13257, 13428, 13431, 13439, 13496, 13532, 13547, 13568, 13579, 13580, 13581, 13582, 13583, 13584, 13606, 13609, 13610, 13615, 13616, 13637, 13638, 13639, 13640, 13643, 13644, 13646, 13647, 13648, 13650, 13651, 13653, 13659, 13661, 13664, 13666, 13668, 13669, 13671, 13677, 13680, 13681, 13682, 13684, 13685, 13687, 13688, 13691, 13693, 13695, 13706, 13711, 13716, 13719, 13725, 13731, 13734, 13735, 13736, 13742, 13743, 13744, 13745, 13746, 13748, 13749, 13750, 13751, 13752, 13754, 13755, 13756, 13757, 13758, 13761, 13762, 13769, 13775, 13786, 13787, 13818, 13832, 13850, 13855, 13865, 13900, 13916, 13964, 13965, 13966, 13986, 13990, 14016, 14017, 14085, 14100, 14118, 14129, 14130, 14131, 14145, 14149, 14190, 14210, 14214, 14216, 14229, 14238, 14263, 14271, 14286, 14293, 14303, 14318, 14332, 14348, 14351, 14365, 14366, 14398, 14409, 14449, 14453, 14454, 14457, 14462, 14464, 14467, 14469, 14482, 14489, 14502, 14520, 14524, 14528, 14543, 14551, 14556, 14559, 14560, 14583, 14585, 14587, 14590, 14595, 14612, 14620, 14651, 14658, 14668, 14673, 14684, 14690, 14696, 14698, 14701, 14702, 14704, 14706, 14707, 14710, 14717, 14743, 14760, 14774, 14777, 14778, 14790, 14807, 14818, 14846, 14895, 14918, 14929, 14932, 14935, 14954, 14986, 14988, 14990, 14993, 15000, 15003, 15009, 15017, 15019, 15057, 15083, 15154, 15172, 15175, 15181, 15184, 15193, 15194, 15211, 15257, 15266, 15267, 15287, 15295, 15296, 15300, 15301, 15319, 15320, 15324, 15326, 15327, 15330, 15332, 15335, 15337, 15346, 15362, 15363, 15368, 15369, 15385, 15388, 15389, 15390, 15395, 15402, 15407, 15424, 15430, 15444, 15461, 15501, 15537, 15548, 15558, 15559, 15562, 15578, 15600, 15609, 15622, 15626, 15658, 15666, 15731, 15763, 15768, 15775, 15777, 15778, 15780, 15784, 15787, 15809, 15810, 15834, 15844, 15850, 15861, 15886, 15889, 15899, 15910, 15913, 15914, 15941, 15944, 15946, 15948, 15951, 15958, 15985, 15986, 15996, 15998, 16007, 16013, 16021, 16026, 16037, 16041, 16062, 16065, 16087, 16100, 16103, 16125, 16128, 16136, 16140, 16147, 16184, 16187, 16192, 16196, 16197, 16203, 16215, 16229, 16234, 16235, 16240, 16265, 16268, 16272, 16302, 16314, 16317, 16324, 16325, 16336, 16337, 16340, 16357, 16359, 16360, 16367, 16374, 16380, 16405, 16423, 16430, 16431, 16434, 16438, 16446, 16453, 16469, 16498, 16513, 16519, 16520, 16524, 16526, 16527, 16529, 16544, 16548, 16660, 16721, 16731, 16734, 16764, 16768, 16786, 16790, 16791, 16793, 16795, 16796, 16801, 16802, 16803, 16807, 16808, 16811, 16812, 16813, 16820, 16825, 16830, 16836, 16845, 16847, 16848, 16849, 16857, 16858, 16864, 16867, 16869, 16875, 16888, 16897, 16907, 16924, 16925, 16927, 16930, 16931, 16933, 16938, 16956, 16981, 17008, 17013, 17015, 17026, 17068, 17070, 17072, 17096, 17124, 17140, 17179, 17280, 17282, 17283, 17284, 17285, 17286, 17327, 17513, 17522, 17527, 17530, 17531, 17538, 17542, 17577, 17610, 17617, 17715, 17716, 17740, 17742, 17794, 17803, 17810, 17853, 17866, 17867, 17869, 17873, 17876, 17879, 17883, 17885, 17887, 17896, 17902, 17907, 17911, 17915, 17916, 17917, 17929, 17932, 17933, 17934, 17938, 17940, 17944, 17945, 17946, 17947, 17968, 17970, 17978, 18006, 18007, 18011, 18013, 18020, 18025, 18026, 18028, 18029, 18036, 18037, 18040, 18041, 18047, 18053, 18064, 18171, 18175, 18182, 18191, 18192, 18209, 18210, 18223, 18236, 18264, 18266, 18315, 18330, 18340, 18359, 18360, 18371, 18372, 18414, 18432, 18440, 18443, 18463, 18466, 18468, 18484, 18490, 18499, 18501, 18502, 18543, 18574, 18639, 18641, 18657, 18691, 18698, 18703, 18716, 18740, 18752, 18774, 18791, 18793, 18812, 18832, 18837, 18839, 18845, 18848, 18879, 18881, 18891, 18908, 18916, 18932, 18933, 18934, 18935, 18937, 18939, 18941, 18942, 18943, 18945, 18948, 18950, 18951, 18956, 18958, 18963, 18964, 18972, 18993, 19000, 19056, 19062, 19087, 19093, 19094, 19102, 19103, 19106, 19110, 19117, 19119, 19128, 19129, 19133, 19139, 19162, 19175, 19190, 19192, 19207, 19214, 19226, 19230, 19240, 19242, 19256, 19276, 19280, 19292, 19304, 19315, 19317, 19343, 19350, 19367, 19387, 19395, 19401, 19403, 19416, 19417, 19421, 19435, 19450, 19451, 19452, 19461, 19470, 19487, 19491, 19496, 19516, 19527, 19535, 19554, 19555, 19623, 19656, 19670, 19678, 19685, 19689, 19696, 19698, 19703, 19720, 19728, 19746, 19753, 19754, 19764, 19765, 19795, 19796, 19800, 19802, 19804, 19807, 19814, 19817, 19826, 19827, 19835, 19837, 19870, 19883, 19896, 19927, 19949, 19962, 19968, 19974, 19984, 20030, 20180, 20202, 20208, 20213, 20251, 20315, 20411, 20412, 20413, 20458, 20464, 20495, 20500, 20555, 20561, 20564, 20636, 20647, 20672, 20686, 20688, 20729, 20786, 20795, 20796, 20903, 20942, 20947, 20948, 20949, 20950, 20951, 20954, 20955, 20960, 20963, 20965, 20966, 20967, 20968, 20976, 20979, 20985, 20993, 20996, 20998, 20999, 21003, 21004, 21005, 21010, 21013, 21014, 21016, 21018, 21019, 21020, 21021, 21024, 21025, 21026, 21036, 21038, 21044, 21047, 21054, 21055, 21058, 21059, 21060, 21062, 21063, 21064, 21067, 21068, 21069, 21070, 21071, 21072, 21075, 21083, 21084, 21088, 21090, 21103, 21105, 21110, 21113, 21124, 21125, 21128, 21134, 21153, 21183, 21215, 21216, 21255, 21257, 21273, 21291, 21298, 21318, 21322, 21337, 21367, 21393, 21398, 21400, 21411, 21423, 21432, 21453, 21468, 21478, 21483, 21501, 21514, 21521, 21523, 21553, 21559, 21569, 21581, 21585, 21587, 21589, 21608, 21610, 21613, 21614, 21618, 21620, 21626, 21627, 21628, 21630, 21632, 21633, 21635, 21636, 21637, 21648, 21651, 21654, 21732, 21741, 21746, 21778, 21781, 21797, 21805, 21808, 21813, 21842, 21863, 21873, 21884, 21885, 21890, 21905, 21928, 21938, 21947, 22033, 22063, 22081, 22107, 22113, 22145, 22149, 22165, 22169, 22185, 22193, 22227, 22236, 22247, 22254, 22266, 22296, 22305, 22310, 22313, 22314, 22320, 22330, 22345, 22370, 22379, 22401, 22405, 22407, 22419, 22432, 22444, 22448, 22464, 22473, 22533, 22534, 22558, 22561, 22569, 22660, 22698, 22700, 22790, 22796, 22797, 22810, 22824, 22861, 22936, 22937, 22941, 22943, 23131, 23137, 23202, 23255, 23280, 23382, 23384, 23399, 23420, 23433, 23446, 23552, 23661, 23739, 23853, 23863, 23871, 23893, 23894, 23896, 23949, 23968, 23980, 23986, 23987, 23990, 24002, 24016, 24020, 24046, 24048, 24050, 24072, 24087, 24094, 24098, 24101, 24119, 24124, 24125, 24133, 24140, 24146, 24159, 24165, 24186, 24196, 24370, 24371, 24401, 24461, 24588, 24599, 24671, 24755, 24762, 24813, 24842, 24900, 24966, 25052, 25062, 25300, 25319, 25418, 25420, 25421, 25422, 25425, 25429, 25432, 25434, 25436, 25476, 25493, 25522, 25543, 25547, 25549, 25555, 25556, 25558, 25559, 25560, 25561, 25563, 25564, 25667, 25717, 25813, 25892, 25901, 25926, 25935, 25972, 25987, 26073, 26141, 26252, 26257, 26258, 26261, 26268, 26269, 26277, 26297, 26348, 26484, 26490, 26491, 26495, 26511, 26513, 26533, 26760, 26985, 27261, 27270, 27271, 27275, 27277, 27278, 27279, 27292, 27313, 27323, 27468, 27469, 27470, 27471, 27475, 27477, 27478, 27479, 27480, 27481, 27482, 27484, 27485, 27486, 27488, 27490, 27491, 27536, 27653, 27981, 27996, 28183, 28191, 28192, 28193, 28194, 28197, 28199, 28200, 28201, 28202, 28203, 28204, 28205, 28207, 28208, 28210, 28227, 28228, 28255, 28352, 28355, 28356, 28358, 28360, 28361, 28362, 28363, 28364, 28365, 28367, 28368, 28370, 28372, 28373, 28374, 28577, 28591, 28981, 28983, 29028, 29030, 29071, 29124, 29226, 29370, 29374, 29390, 29432, 29435, 29450, 29451, 29633, 29634, 29725, 29906, 29954, 29957, 29968, 30149, 30153, 30163], [1, 4029], [35, 1654, 3026, 4245, 10020], [60, 15722], [80, 5905, 12648, 12686, 16783, 22662, 29018, 29665], [81, 127], [319, 327, 333, 4789, 4795, 6179, 6199, 6204, 13120, 13121, 13470, 13471, 13475, 13481, 13486, 13488, 17374, 17380, 17387, 17397, 17400, 17761, 17852, 17963, 20840, 20842, 20869, 20880, 20885, 20891, 22745, 22758, 22764, 22765, 22767, 22771], [1191], [86, 5931, 12684], [94, 5929], [100, 115, 116, 134, 164, 2352, 5934, 5988, 6122, 12661, 16792], [106, 4959], [108, 5948, 18059], [109, 2084, 5951], [112, 2080, 5958], [114, 4362], [121, 161], [129, 5220], [133, 7304], [137, 189], [146, 353, 680, 1095, 1460, 3067, 3074, 3323, 3613, 3679, 3703, 3865, 4242, 4658, 4752, 5720, 6002, 6003, 6006, 6302, 6582, 7575, 8683, 9277, 9384, 9615, 10143, 10759, 10889, 10891, 11425, 11445, 11496, 11505, 11554, 11567, 11768, 11886, 12009, 12600, 12707, 13387, 13520, 14427, 14641, 14647, 15081, 15440, 15926, 15989, 16180, 16837, 17827, 19882, 20440, 21311, 21650, 22129, 22817, 23592, 25336, 26494, 27294, 29373, 29487], [149, 5979], [150, 5908, 5982, 12608, 12650, 16833, 19120], [151, 5983], [152, 5980, 12649, 16832], [153, 7284], [163, 10739], [170, 6017, 12612], [171, 6026], [181, 3068, 6004, 6022, 12613], [182, 184], [186, 5917, 6035, 12673], [187, 6032], [194, 5941], [256, 308, 5827], [280, 6205], [281, 13196], [293, 299, 6145, 12891], [298, 6160, 12904], [309, 797], [317, 805, 891, 6696, 6811, 7053], [328, 6201], [371, 16642], [391, 392, 6264], [393, 6267], [425, 6387, 9053, 9400, 27096], [426, 9175], [465, 4550], [485, 1861, 8180, 25094], [500, 3110, 3783, 9543, 9770, 9783], [507, 12016], [516, 3837], [538, 6304, 19329], [545, 21313], [550, 9765], [560, 1507], [595, 6403], [621, 6404], [629, 23014], [651, 6527], [655, 6544, 19384, 19662], [691, 12004], [726, 11056], [734, 745, 746, 800, 815, 816, 822, 823], [735, 1045, 9837], [749, 996, 12188], [768, 894, 901], [771, 4924, 8565, 21029], [796, 850], [813, 903], [875, 877], [876, 884, 4506, 16921], [878, 6748], [889, 19813], [932, 6936], [940, 5825], [941, 6896], [943, 17066], [969, 13299], [980, 984, 14097, 14829, 21761, 28236], [992, 7090, 7091, 7092, 7093, 7094, 7096, 7097, 7098, 7099, 12306, 16963, 17425, 17426, 17427, 17429, 17443, 17445, 17446, 17448, 21712, 21713, 21717, 21723, 22730, 22731, 22732], [1001, 14199], [1009, 3856], [1015, 5085], [1027, 1449], [1035, 1401], [1037, 7714], [1067, 8788], [1076, 9263, 14209, 19574, 21894], [1080, 4946, 5932, 13034, 13038, 15964, 21595], [1081, 27116], [1109, 7196], [1111, 15419], [1173, 13944], [1176, 2674], [1187, 6188], [1202, 6196], [1206, 18789, 27014], [1223, 1374], [1229, 13993], [1233, 11349, 11350], [1245, 15536], [1251, 2720], [1267, 16011], [1281, 4038, 6173], [1282, 22049], [1289, 13901], [1325, 11133], [1327, 5318], [1345, 4788, 6063, 13981, 13996], [1358, 15453, 15467, 15468, 17074, 17099], [1364, 14405], [1383, 5226], [1393, 19894], [1402, 4480, 6589], [1410, 10972, 24642], [1484, 19054], [1504, 1691, 18526], [1544, 3375, 12122], [1560, 8943], [1604, 11763], [1617, 10448, 20689], [1622, 11738], [1626, 5256, 10785, 11626], [1651, 9245], [1658, 10548, 14653], [1664, 4324], [1666, 4863, 7602, 17582], [1675, 16002], [1692, 11701, 14459], [1694, 4698, 19901], [1697, 16264], [1704, 1786, 14394], [1739, 3656], [1760, 4769], [1765, 9411], [1784, 11935], [1794, 4225], [1800, 10925, 15098], [1814, 9925], [1824, 21438], [1838, 3642], [1844, 3391], [1856, 3634, 3887, 5666, 8982, 9635, 9895, 10441, 11313, 11612, 14753], [1857, 10118], [1925, 10516], [1930, 4713, 15894], [1931, 3425], [2037, 10263, 29712], [2057, 19436], [2064, 4006], [2070, 7488], [2077, 8281, 10234], [2085, 15782], [2136, 11557], [2138, 3860], [2146, 9586], [2148, 10618], [2155, 4966], [2174, 2920], [2188, 4422, 4430, 4449], [2195, 4442], [2197, 4432, 4436], [2202, 4392], [2207, 4452], [2230, 12855], [2231, 9878, 11592], [2268, 4730], [2276, 2288, 2325, 2328, 2330, 8361, 8364, 8372, 8382, 8383, 8392, 8399, 8415, 8464, 8507, 8510, 8511, 8513, 8515, 16574, 16578, 16588, 16596, 16597, 16599, 16607, 16615, 19996, 20006, 20007, 20010, 20020, 20064, 22602, 22630, 22647, 24209, 24237, 24257, 24303, 24503, 24506, 24546, 24552, 24561, 24571, 24573, 26388, 26416, 26457, 26460, 26470, 27159, 27176, 27239, 27242, 27252, 27377, 27379, 27393, 27394, 27400, 28117, 28125, 28141, 28164, 28182, 28261, 28270, 28283, 28295, 28339, 28931, 28941, 28944, 28950, 29101, 29108, 29110, 29115, 29148, 29151, 29162, 29169, 29170, 29286, 29318, 29327, 29328, 29332, 29342, 29503, 29507, 29526, 29533, 29537, 29538, 29601, 29610, 29612, 29763, 29766, 29772, 29777, 29786, 29792], [2277, 8381], [2284, 26431], [2285, 2302, 24216, 24339, 24520, 27174, 27418, 27431, 27454, 28139, 28146, 28958, 29183, 29520, 29584, 29607], [2300, 2301, 2303, 2304, 2305, 8504, 17720], [2316, 20014], [2329, 8506], [2332, 3088], [2335, 2346, 4398, 8518, 10256], [2344, 2349, 4423], [2345, 28235], [2350, 8517], [2355, 14782], [2357, 24806], [2358, 25469], [2372, 16152], [2380, 8569], [2383, 5405], [2396, 4614, 11094], [2416, 8091], [2430, 23571], [2437, 25938], [2474, 2475], [2480, 5062], [2493, 6040, 10252], [2494, 22118], [2500, 2831], [2526, 13665], [2569, 19293], [2575, 2577, 2579, 2584, 2587, 2589], [2640, 9526], [2662, 18836], [2683, 7700, 13130, 13139, 15617, 17414, 19916, 20220, 20221, 26091], [2698, 2781, 3696, 15525], [2732, 9200, 14741], [2737, 14288, 25477], [2742, 3307, 9009], [2749, 3923], [2754, 14987, 18422], [2773, 9491], [2791, 16049], [2792, 18303], [2793, 14369], [2826, 3772], [2854, 4085, 12015, 17056, 18765], [2860, 7528, 11814, 13660, 16624], [2869, 12058], [2903, 5489, 10795, 13302], [2925, 4120, 11004], [2956, 3047, 14243, 14298, 15188], [2985, 11791], [2986, 12193, 15381], [3022, 3030], [3050, 14148], [3071, 5906, 8033], [3081, 9327, 14571], [3093, 4879, 6933], [3097, 11994], [3100, 10857], [3171, 16530], [3173, 7269], [3175, 18044], [3187, 9937], [3220, 14869], [3256, 3280, 19182], [3260, 9454, 9639, 12014, 14981], [3266, 5469, 11571], [3268, 9677, 16067, 18407], [3271, 11455, 19700], [3283, 5313], [3303, 9706], [3310, 10911], [3340, 24019], [3342, 5534, 10123], [3407, 16386, 18505], [3414, 13909], [3431, 4979, 5698, 6274, 18456, 18959], [3440, 16122], [3453, 4984, 17961], [3476, 14801], [3501, 16182], [3543, 9442], [3558, 5627, 11829], [3654, 4739], [3673, 4151], [3718, 15759], [3729, 5239, 11828], [3756, 8926, 14113], [3767, 11689], [3786, 5394], [3790, 8081], [3792, 13051], [3793, 10530], [3811, 28186], [3817, 10558], [3836, 5236], [3960, 5366], [3999, 6159, 6165, 12894, 15620, 21053], [4056, 19794], [4083, 23907], [4092, 12155], [4145, 14283], [4146, 14504], [4158, 6535], [4185, 8296, 19388], [4194, 9310], [4202, 17299], [4283, 12276], [4294, 11180], [4319, 10600, 12080, 14352, 16186], [4322, 7619, 12098], [4323, 10971], [4328, 7731, 10510, 12874, 12976, 16249], [4376, 12233], [4388, 9329, 9331, 14014, 17011, 17326, 17709, 17949, 17950], [4394, 19060], [4413, 4460, 4601, 4753, 4757, 6717, 6776, 10982, 11218, 17461, 22138, 24077], [4431, 4456], [4454, 6082, 6234], [4459, 13338], [4485, 23889], [4491, 4834], [4500, 12065], [4504, 10332], [4525, 5119], [4580, 4586], [4598, 11065], [4625, 19359], [4642, 17745], [4648, 20728], [4657, 14659], [4663, 18461], [4665, 11859], [4667, 13274], [4702, 11986], [4740, 11391], [4760, 9075], [4767, 11300], [4852, 4871], [4867, 8270], [4878, 4880], [4901, 11294], [4987, 11372, 13572, 17815], [4994, 15527], [4995, 18834], [5022, 15871], [5060, 13949], [5086, 9945], [5108, 19179], [5115, 12325], [5116, 9630], [5128, 12488], [5165, 16114], [5209, 6114], [5210, 9073, 14163, 14530], [5230, 15068], [5271, 10157], [5367, 11821], [5431, 12304], [5432, 11522], [5459, 18838], [5478, 9718], [5491, 6278], [5496, 18453], [5513, 10465], [5536, 23506], [5592, 18623], [5606, 11516], [5622, 5623, 7936, 9029, 11211, 11518, 11833, 12292, 14191, 14268, 15075, 16365, 16366, 16543, 19701], [5629, 10493], [5759, 14048], [5774, 14091, 17593], [5798, 8650, 16715, 18139], [5822, 5823], [5862, 15610, 18854, 19379], [5867, 19406], [5868, 5875, 5895, 5897], [5873, 5891], [5886, 5889, 6023, 6025, 10836], [5890, 13683], [5914, 12658], [5918, 12669], [5930, 5994, 6126, 6131, 7275, 8790], [5938, 12696], [5943, 12701], [5952, 12636], [5978, 12609, 16834], [5981, 12611, 16835], [5984, 6021], [5986, 12619, 16852], [6049, 7866, 23085], [6052, 11354], [6055, 7892], [6072, 12429], [6075, 16039], [6080, 19871], [6099, 20536], [6102, 18743], [6106, 7318, 17457], [6125, 8277, 15767], [6130, 15781], [6132, 12682, 16805], [6136, 8287], [6156, 14007], [6189, 22198], [6220, 16999, 22656], [6225, 7850, 13073, 13324, 21249, 22954, 23291, 23292, 23404, 24174, 24953, 25726, 25806, 26059], [6229, 6233, 6236, 6240, 6241, 17321, 17323], [6245, 17334, 17974, 21107], [6252, 13168], [6263, 8024], [6268, 13156], [6279, 18357], [6284, 13992], [6300, 18835, 21677], [6317, 14495], [6330, 9646], [6337, 7654], [6372, 10283], [6585, 14723], [6599, 6604, 6608, 6623, 6625], [6611, 6689, 14406], [6627, 11252], [6658, 6677, 13696], [6663, 6665], [6674, 17973, 17979, 17981, 19651, 21035, 21740], [6676, 13771], [6707, 6716], [6713, 6836], [6720, 6742, 13612], [6723, 6727], [6743, 13633, 17986, 21106], [6759, 8940, 17912, 21076], [6761, 14150], [6830, 17886, 17893], [6850, 13679], [6856, 13673], [6881, 9338, 13703], [6900, 7159], [6918, 18241], [6922, 6925], [6926, 6927], [6950, 12116], [6958, 10456], [6970, 7898], [6985, 7100, 7857, 13798, 13921, 20187, 24952], [6997, 8586], [7008, 11558], [7143, 19137], [7160, 9213], [7211, 11169], [7212, 9123], [7259, 15633, 17564], [7266, 16120, 16486], [7271, 7273], [7277, 7278], [7280, 7286], [7293, 17274, 17278], [7295, 9986], [7313, 15485, 17450], [7315, 7316], [7367, 10464], [7379, 12950], [7384, 9394], [7395, 16189], [7478, 15245], [7491, 13226, 17247], [7496, 14157, 16525], [7502, 17684], [7520, 20682], [7530, 8239], [7584, 21378], [7617, 26181], [7626, 8715, 10978, 14123, 17604, 17686, 18569], [7627, 17663], [7679, 14845], [7712, 16688], [7797, 16841], [7798, 10787], [7809, 11420], [7812, 22799, 23380], [7854, 7935], [7938, 23858], [7942, 14484, 26569], [7974, 8764], [8021, 17236], [8043, 17769], [8048, 8577, 8580, 25999], [8076, 14227], [8098, 10367], [8123, 8376], [8147, 26090], [8150, 26975], [8163, 9050], [8166, 25952], [8202, 18493, 21565], [8227, 23792], [8250, 8319], [8279, 20517], [8355, 16503], [8356, 24239, 24562, 27194, 27225, 27421, 27426, 27441, 28143, 28172, 28271, 28321, 28891, 28900, 28943, 29117, 29127, 29128, 29132, 29172, 29304, 29315, 29348, 29506, 29521, 29529, 29543, 29571, 29595, 29615, 29757, 29776, 29785, 29789], [8362, 16618], [8367, 16567, 16621, 26403], [8388, 29147], [8393, 16622, 24208, 24333, 27179], [8427, 8438, 8467], [8431, 24340], [8452, 8453], [8488, 27214], [8489, 20005, 28157, 28304], [8509, 16585, 16601, 16603, 16627, 20033, 20067, 24251, 24547, 26400, 27249], [8525, 12639, 12647, 12694], [8547, 11909], [8550, 18992], [8554, 10735, 22436], [8603, 13537], [8616, 10521], [8651, 14422], [8654, 12421], [8703, 13061], [8761, 9173], [8775, 8783, 8784], [8803, 10383, 29426], [8847, 8848], [8859, 15624], [8866, 8879], [8906, 22317], [8915, 14934], [8932, 16207], [8941, 14389], [8983, 18738], [9001, 10654], [9108, 11241], [9139, 14343], [9164, 12998, 29463], [9180, 14761], [9217, 16509], [9228, 12558], [9244, 17142, 19077], [9254, 10364, 14521], [9279, 15022], [9280, 14599, 28851], [9301, 17844, 19829], [9320, 11261], [9341, 9365], [9358, 9361, 17717], [9475, 16310], [9513, 19307], [9519, 11125], [9544, 11972, 18284, 20172, 22553, 23876], [9631, 16209], [9667, 11882], [9670, 23939], [9680, 19486], [9691, 11783], [9692, 14254], [9790, 19346], [9794, 15011], [9812, 10058], [9876, 10656], [9913, 18887], [9928, 10596, 17846], [9952, 9994], [9961, 10424, 19263, 19495], [9964, 10422], [9985, 15023], [9998, 21831], [10071, 11471], [10124, 19300], [10126, 11473], [10150, 19775, 20434, 20436], [10154, 11633, 15851, 19065], [10215, 10771], [10223, 16883], [10247, 22814], [10261, 10262, 15611, 17502, 17508, 17511, 20841, 21220], [10271, 20497], [10348, 15340, 21791], [10363, 14047], [10393, 16505], [10492, 12291, 16349, 16407, 23859], [10526, 21451], [10535, 15872], [10547, 11433], [10549, 15433, 18471], [10582, 14640], [10607, 12492], [10628, 11524], [10691, 18244], [10729, 18368], [10762, 16162], [10769, 21765], [10779, 19705], [10800, 17295], [10809, 12989], [10870, 18504, 19419, 22100], [10896, 17245], [10914, 29990], [10915, 12621], [10920, 11719], [10953, 15202, 19313], [10980, 16472], [11027, 12383], [11059, 17270, 22737, 22750], [11100, 14009], [11157, 15280, 19113], [11160, 12984, 12985], [11164, 21493, 21855], [11168, 19732], [11186, 13741], [11188, 19493], [11243, 15149], [11265, 19339], [11269, 12222], [11314, 18736], [11356, 11364], [11371, 20902], [11418, 23006], [11432, 16444], [11493, 13379], [11504, 14703, 14989, 22103], [11517, 18670], [11543, 16276], [11547, 20511, 22984], [11596, 12256], [11609, 14340], [11732, 19933], [11745, 16295], [11779, 14503, 16432], [11784, 19084], [11871, 17113], [11955, 18381], [11971, 23094, 25194], [12021, 15264, 19091], [12046, 18307], [12049, 14870], [12099, 14278, 15274], [12180, 12833, 18769, 19321, 19540, 22501, 25934, 26022], [12197, 29706], [12225, 16232], [12253, 27467], [12309, 22209], [12345, 19860], [12363, 14579, 21546], [12396, 12400], [12435, 12486], [12443, 15594], [12446, 21864], [12453, 19673], [12463, 18289], [12481, 14491, 19640, 23822], [12535, 17525], [12539, 17120], [12572, 13895], [12675, 16800], [12676, 15660, 15661], [12691, 12692, 16810], [12699, 29091], [12731, 13877], [12734, 14550], [12741, 17259], [12742, 17261], [12743, 24404], [12752, 13136], [12756, 25114], [12774, 15703], [12781, 13870, 17060], [12831, 13181], [12880, 20845], [12943, 14178], [12959, 14065], [12967, 16551], [12969, 17368], [12973, 13344, 21347], [12990, 15873, 18273, 18771, 19096], [13022, 15694], [13074, 15704], [13093, 13095], [13149, 14956], [13150, 15376], [13174, 15275], [13237, 15350], [13263, 15819], [13335, 23308, 23812, 25780, 27038, 27546, 28589], [13397, 14794], [13413, 17273, 17813], [13446, 17669], [13463, 17659], [13482, 17382, 20364, 20893, 22762], [13484, 13485], [13490, 13492, 17396], [13530, 17825], [13550, 16458], [13574, 21517], [13596, 13941], [13598, 13600, 13622], [13605, 17901], [13626, 13657, 13702], [13627, 18737], [13629, 15502], [13641, 18004], [13713, 16922], [13717, 17942], [13723, 17855], [13739, 13759], [13777, 17913, 20987], [13785, 13796, 13799], [13791, 17943], [13794, 17919], [13819, 14483], [13907, 22420], [13918, 25536], [13935, 23361], [13970, 18913], [13980, 23127], [14029, 18295, 18419, 19316], [14032, 15967], [14042, 14438], [14079, 18111], [14136, 15116, 17186, 19747], [14164, 15452, 21459], [14219, 16107], [14232, 16395, 19584], [14246, 21544], [14265, 15178], [14331, 25975], [14346, 19356], [14350, 18408], [14361, 20633], [14399, 14866], [14445, 15358], [14448, 14746], [14485, 18201, 21789], [14529, 17244], [14586, 18528], [14605, 18339, 19043], [14629, 18849], [14686, 19363], [14688, 27646, 28541, 28628], [14735, 16665], [14740, 16010], [14787, 18309, 18337], [14819, 18097], [14997, 21260], [15029, 19020], [15112, 18231], [15121, 18651], [15142, 16104], [15232, 19429], [15273, 18475], [15279, 21283], [15291, 16260], [15305, 15564], [15343, 18923], [15366, 24438], [15411, 19722], [15432, 19634, 19790], [15450, 21642], [15457, 15477], [15491, 17453], [15494, 16776, 17451], [15556, 17641], [15649, 26260], [15702, 22935], [15707, 20854], [15724, 16356], [15839, 22112], [15869, 18531], [15890, 18775, 19449], [15904, 19340], [15911, 21548], [15997, 20475, 22300], [16027, 22560], [16029, 16093], [16059, 21474], [16142, 22567], [16168, 20642], [16172, 18345], [16173, 19479], [16429, 20759], [16435, 22424], [16496, 18713], [16514, 18481, 22218, 24440, 24598], [16565, 16611], [16577, 24517], [16579, 28898], [16591, 29597], [16595, 29536, 29570], [16620, 27411, 29120], [16623, 22628], [16724, 20895], [16726, 20539], [16733, 17046], [16781, 21476], [16838, 18566], [16899, 18897], [16903, 22848], [16920, 19209], [17019, 19434], [17077, 17495], [17128, 19135, 22297], [17141, 17543], [17153, 19614], [17158, 20690], [17164, 17167], [17173, 19440], [17243, 18710], [17246, 18561, 18910], [17279, 20794], [17290, 23437, 24771, 26206], [17391, 17403, 20888, 20890], [17410, 17666], [17412, 20691], [17413, 24885], [17478, 18151, 18558], [17492, 23575], [17506, 17509], [17586, 19059], [17598, 18115], [17665, 18722], [17678, 20496], [17777, 17799, 17801], [17779, 17797], [17850, 17878, 17905, 20293, 21126], [17862, 17931], [17877, 17903, 20849, 20957], [17908, 17930], [17994, 20982], [18095, 21305, 23030, 24486], [18106, 20552], [18160, 22380], [18281, 19295], [18321, 21534], [18341, 19383, 23981], [18410, 22194], [18455, 18801], [18514, 19112], [18515, 20773], [18520, 22208], [18536, 19472], [18555, 19290], [18567, 19776], [18608, 20249, 20793, 21681, 21911], [18652, 21751], [18666, 19873], [18729, 19919], [18783, 23818], [18855, 19936], [18917, 21792], [18929, 21609], [18936, 21622], [18946, 19615], [18967, 22243], [19008, 21490, 21606, 22260, 24477], [19009, 22458], [19017, 20244], [19045, 19632], [19061, 19934], [19109, 21287], [19134, 19958], [19275, 19511], [19560, 19739], [19690, 22530, 23977], [19691, 22691], [19736, 20531], [19750, 24160], [19756, 20681], [19778, 21426], [19785, 19941], [19867, 21903], [19915, 21993], [19931, 21363], [19995, 24198, 24233, 24254, 26464, 27182], [20003, 27390], [20023, 24531], [20024, 20027], [20042, 24223], [20043, 28668], [20047, 24231, 24258, 29291, 29511], [20049, 24513, 26449], [20124, 20125], [20210, 22791], [20215, 22805], [20274, 22736, 28068, 28627, 29490], [20276, 24631], [20294, 23443], [20419, 21396], [20484, 20583, 22374], [20505, 22159], [20549, 24182], [20557, 21096], [20766, 20978], [20787, 23392], [20801, 29249], [20802, 24601], [20879, 22761], [20929, 26030], [21056, 21077], [21085, 21089], [21099, 21100, 21101, 21112], [21145, 23566], [21157, 22192], [21178, 22843], [21185, 21186], [21223, 29391], [21304, 21708], [21349, 22147], [21390, 24060], [21391, 30033], [21395, 22412], [21417, 22443], [21418, 24615], [21444, 23862], [21498, 22109], [21577, 21876], [21617, 23709], [21718, 21731], [21767, 28072], [21780, 22335], [21818, 25230], [21837, 25988], [21924, 22001], [21970, 26057], [22062, 26319], [22087, 25459], [22094, 23440], [22101, 23940], [22181, 22836], [22333, 23850], [22483, 24474], [22605, 26404, 27429, 28324, 28933], [22611, 27227], [22618, 22620, 27399], [22632, 24243], [22634, 28170], [22638, 27434], [22682, 22768], [22751, 22753], [22818, 25527], [22825, 22926], [22907, 23183], [22977, 23877], [23043, 23393, 25119], [23053, 23354], [23124, 25463], [23163, 23167], [23245, 23448], [23251, 24753], [23263, 24414], [23416, 26110], [23430, 24894], [23453, 25102], [23487, 23834], [23498, 24837], [23499, 25006], [23574, 24961], [23606, 25346], [23607, 26279], [23617, 24022], [23692, 25923], [23771, 25289], [24029, 24115], [24226, 24566], [24234, 27369], [24259, 27233], [24274, 24290], [24322, 29604], [24342, 28327], [24496, 26393], [24497, 28312, 29118], [24509, 24559, 29122], [24538, 26465], [24542, 29594], [24657, 26824], [24908, 25786], [25020, 25920], [25099, 26067], [25153, 25970, 27744], [25196, 28798], [25203, 25828, 26785], [25280, 25783], [25313, 25971], [25351, 25448], [25385, 25392], [25410, 25534], [25414, 26477], [25416, 25540, 26229, 26255, 26482], [25424, 25552, 26264], [25431, 25545, 26256], [25433, 25551], [25435, 25542, 25553], [25446, 25447], [25546, 26263, 26492], [25562, 26265], [25581, 25583], [25655, 25656], [25682, 27108], [25714, 27678], [25745, 26306], [25788, 26516], [25795, 26156], [25796, 28446, 28569], [25838, 28701], [25843, 27281], [25850, 28769], [25966, 27149], [25978, 26983], [26015, 27516], [26045, 29084], [26055, 26564], [26166, 27052, 27768], [26326, 27483], [26378, 27162], [26386, 27248], [26395, 27384], [26413, 29275], [26448, 27184], [26453, 27218, 27385], [26456, 27251], [26496, 26497, 26639], [26542, 27500], [26554, 27132], [26586, 28067], [26663, 28742], [26688, 28014], [26704, 26706], [26731, 27042], [26741, 27772], [26756, 28679], [26776, 27196], [26806, 27016], [26996, 27834], [27000, 27062], [27028, 27788], [27068, 27865], [27148, 28259], [27160, 29586], [27170, 29173], [27201, 28335], [27205, 28965, 29295], [27207, 27397], [27221, 27453, 28149], [27223, 29322], [27236, 27428], [27238, 29278], [27260, 28873], [27401, 28901, 29123], [27430, 28128], [27442, 28315], [27445, 28167], [27474, 28196, 28354], [27511, 28883], [27545, 28823], [27565, 28884], [27594, 28576], [27615, 27998, 28038, 28443], [27691, 28515], [27708, 28383], [27756, 28846], [27847, 28517], [27867, 28224], [27910, 28448], [27919, 28439], [27929, 28775], [27984, 29143], [28063, 29705], [28065, 29051], [28120, 28177, 29502, 29798], [28126, 29175], [28127, 28175], [28133, 28329], [28140, 28307], [28145, 29345], [28195, 28353], [28198, 28366], [28206, 28371], [28239, 29081], [28296, 29171], [28308, 29279, 29567], [28328, 29141], [28518, 29625, 29842], [28548, 28960, 28976], [28669, 29066], [28696, 28905], [28874, 28969], [28935, 29121], [28957, 29187], [29089, 29099], [29305, 29750], [29306, 29585], [29310, 29515], [29329, 29509], [29330, 29356, 29518], [29380, 29700], [29562, 29761], [29588, 29790], [29613, 29755], [29636, 29686], [29642, 29740], [29674, 30014], [29707, 29726, 29938], [29894, 30022], [29933, 29964], [30144, 30186])\n",
      "Took 54.71361541748047s\n"
     ]
    }
   ],
   "source": [
    "community_Ga_mh_s1 = find_communities(Ga_mh_s2, 0, 2) # find two clusters"
   ]
  },
  {
   "cell_type": "markdown",
   "metadata": {},
   "source": [
    "#### Find the communities for the unweighted network of similar pairs using LSH of 100 hashing functions for k=10 and support threshold = 0.1"
   ]
  },
  {
   "cell_type": "code",
   "execution_count": 976,
   "metadata": {},
   "outputs": [
    {
     "name": "stdout",
     "output_type": "stream",
     "text": [
      "Clusters\n",
      "([6330], [9646], [121, 161], [2452, 4474], [9320, 11261], [8866, 8879], [13150, 15376], [1109, 7196], [25446, 25447], [19162, 19175], [13174, 15275], [13149, 14956], [1035, 1401], [15724, 16356], [560, 1507], [21712, 22730], [12831, 13181], [15485, 17450], [20475, 22300], [35, 3026], [25435, 25553], [5981, 12611], [17862, 17931], [19045, 19632], [15457, 15477], [2749, 3923], [7798, 10787], [9108, 11241], [17478, 18151], [25153, 25970])\n",
      "([6330], [9646], [121], [161], [2452, 4474], [9320, 11261], [8866, 8879], [13150, 15376], [1109, 7196], [25446, 25447], [19162, 19175], [13174, 15275], [13149, 14956], [1035, 1401], [15724, 16356], [560, 1507], [21712, 22730], [12831, 13181], [15485, 17450], [20475, 22300], [35, 3026], [25435, 25553], [5981, 12611], [17862, 17931], [19045, 19632], [15457, 15477], [2749, 3923], [7798, 10787], [9108, 11241], [17478, 18151], [25153, 25970])\n",
      "Took 4.007360935211182s\n"
     ]
    }
   ],
   "source": [
    "community_Ga_lsh = find_communities(Ga_lsh, 0, 2) # find two clusters"
   ]
  },
  {
   "cell_type": "markdown",
   "metadata": {},
   "source": [
    "#### Find the communities for the weighted network of similar pairs using A priori for support threshold of 10 and 50 as weight"
   ]
  },
  {
   "cell_type": "code",
   "execution_count": 977,
   "metadata": {},
   "outputs": [
    {
     "name": "stdout",
     "output_type": "stream",
     "text": [
      "Clusters\n",
      "(['Utiyama, Masao'], ['Sumita, Eiichiro'], ['Negri, Matteo', 'Turchi, Marco'], ['Bhattacharyya, Pushpak', 'Ekbal, Asif'], ['Che, Wanxiang', 'Liu, Ting'], ['Liu, Kang', 'Zhao, Jun'], ['Osenova, Petya', 'Simov, Kiril'], ['Wang, Haifeng', 'Wu, Hua'], ['Wei, Furu', 'Zhou, Ming'], ['Liu, Zhiyuan', 'Sun, Maosong'], ['Niehues, Jan', 'Waibel, Alex'], ['Kawahara, Daisuke', 'Kurohashi, Sadao'], ['Li, Haizhou', 'Zhang, Min'])\n",
      "(['Utiyama, Masao'], ['Sumita, Eiichiro'], ['Turchi, Marco'], ['Negri, Matteo'], ['Bhattacharyya, Pushpak', 'Ekbal, Asif'], ['Che, Wanxiang', 'Liu, Ting'], ['Liu, Kang', 'Zhao, Jun'], ['Osenova, Petya', 'Simov, Kiril'], ['Wang, Haifeng', 'Wu, Hua'], ['Wei, Furu', 'Zhou, Ming'], ['Liu, Zhiyuan', 'Sun, Maosong'], ['Niehues, Jan', 'Waibel, Alex'], ['Kawahara, Daisuke', 'Kurohashi, Sadao'], ['Li, Haizhou', 'Zhang, Min'])\n",
      "(['Utiyama, Masao'], ['Sumita, Eiichiro'], ['Turchi, Marco'], ['Negri, Matteo'], ['Ekbal, Asif'], ['Bhattacharyya, Pushpak'], ['Che, Wanxiang', 'Liu, Ting'], ['Liu, Kang', 'Zhao, Jun'], ['Osenova, Petya', 'Simov, Kiril'], ['Wang, Haifeng', 'Wu, Hua'], ['Wei, Furu', 'Zhou, Ming'], ['Liu, Zhiyuan', 'Sun, Maosong'], ['Niehues, Jan', 'Waibel, Alex'], ['Kawahara, Daisuke', 'Kurohashi, Sadao'], ['Li, Haizhou', 'Zhang, Min'])\n",
      "Took 6.008345365524292s\n"
     ]
    }
   ],
   "source": [
    "community_G_w_1 = find_communities(G_w_1, 50, 3) # find three clusters"
   ]
  },
  {
   "cell_type": "code",
   "execution_count": 978,
   "metadata": {},
   "outputs": [
    {
     "name": "stdout",
     "output_type": "stream",
     "text": [
      "Clusters\n",
      "(['Androutsopoulos, Ion', 'Malakasiotis, Prodromos', 'Pavlopoulos, John'], ['Ritter, Alan', 'Xu, Wei'], ['Abdelali, Ahmed', 'Ahrens, Kathleen', 'Akhtar, Md Shad', 'Al-Badrashiny, Mohamed', 'Alkhouli, Tamer', 'Allauzen, Alexandre', 'Alva-Manchego, Fernando', 'Ananiadou, Sophia', 'Anastasopoulos, Antonios', 'Andrews, Nicholas', 'Apidianaki, Marianna', 'Arase, Yuki', 'Arranz, Victoria', 'Asahara, Masayuki', 'Attia, Mohammed', 'Aufrant, Lauriane', 'Aw, Aiti', 'Aziz, Wilker', 'Babych, Bogdan', 'Bach, Nguyen', 'Bai, Ming-Hong', 'Baldwin, Timothy', 'Ballesteros, Miguel', 'Banchs, Rafael E.', 'Bandyopadhyay, Sivaji', 'Bangalore, Srinivas', 'Bansal, Mohit', \"Barr{\\\\'o}n-Cede{\\\\~n}o, Alberto\", 'Basili, Roberto', 'Beck, Daniel', 'Belinkov, Yonatan', 'Bender, Oliver', 'Bentivogli, Luisa', 'Bertagna, Francesca', 'Bertoldi, Nicola', 'Besan{\\\\c{c}}on, Romaric', 'Bhagavatula, Chandra', 'Bhattacharyya, Pushpak', 'Bhingardive, Sudha', 'Bi, Wei', 'Birch, Alexandra', 'Bird, Steven', 'Bisazza, Arianna', 'Blache, Philippe', \"Blain, Fr{\\\\'e}d{\\\\'e}ric\", 'Blunsom, Phil', 'Bojar, Ond{\\\\v{r}}ej', 'Bond, Francis', 'Bosselut, Antoine', 'Bouamor, Dhouha', 'Bouamor, Houda', 'Brunato, Dominique', 'Buck, Christian', 'Bui, Trung', 'Cahill, Aoife', 'Callison-Burch, Chris', 'Calzolari, Nicoletta', 'Cao, Yixin', 'Carbonell, Jaime', 'Cardie, Claire', 'Carenini, Giuseppe', 'Carreras, Xavier', 'Cettolo, Mauro', 'Chang, Baobao', 'Chang, Walter', 'Chao, Lidia S.', 'Charniak, Eugene', 'Charoenporn, Thatsanee', 'Chatterjee, Rajen', 'Chaudhary, Vishrav', 'Che, Wanxiang', 'Chen, Keh-Jiann', 'Chen, Kehai', 'Chen, Wenliang', 'Chen, Ying', 'Chen, Yufeng', 'Chersoni, Emmanuele', 'Cho, Eunah', 'Choi, Yejin', 'Cholakov, Kostadin', 'Choukri, Khalid', 'Chu, Chenhui', 'Clark, Stephen', 'Cocos, Anne', 'Cohen, Kevin Bretonnel', 'Cohn, Trevor', 'Cook, Paul', 'Costa-juss{\\\\`a}, Marta R.', 'Crego, Josep M.', 'Croce, Danilo', 'Cromieres, Fabien', 'Cui, Lei', 'Cui, Yiming', 'Curran, James R.', 'Da San Martino, Giovanni', 'Dabre, Raj', 'Dalvi, Fahim', 'Darwish, Kareem', 'Das, Amitava', 'Das, Dipanjan', 'Das, Dipankar', 'De Saeger, Stijn', \"Dell{'}Orletta, Felice\", \"Del{\\\\'e}ger, Louise\", 'Demner-Fushman, Dina', 'Denkowski, Michael', 'Dernoncourt, Franck', 'Diab, Mona', 'Ding, Chenchen', 'Ding, Xiao', 'Dong, Li', 'Dorr, Bonnie', 'Dras, Mark', 'Dredze, Mark', 'Du, Jinhua', 'Du, Xinya', 'Duan, Nan', 'Duan, Xiangyu', 'Duh, Kevin', 'Durrani, Nadir', 'Dyer, Chris', 'Eck, Matthias', 'Egg, Markus', 'Ekbal, Asif', 'El Kholy, Ahmed', 'El-Kishky, Ahmed', 'Elfardy, Heba', 'Elsner, Micha', 'Escolano, Carlos', 'Eskander, Ramy', 'Espa{\\\\~n}a-Bonet, Cristina', 'Faruqui, Manaal', 'Federico, Marcello', 'Federmann, Christian', 'Feng, Minwei', 'Feng, Xiaocheng', 'Feng, Yang', 'Ferret, Olivier', 'Finch, Andrew', 'Fomicheva, Marina', \"Fonollosa, Jos{\\\\'e} A. R.\", 'Francopoulo, Gil', 'Fraser, Alexander', 'Frederking, Robert', 'Freitag, Markus', 'Frontini, Francesca', 'Fu, Ruiji', 'Fujita, Sanae', \"Fu{\\\\v{c}}{\\\\'\\\\i}kov{\\\\'a}, Eva\", 'Gaido, Marco', 'Galibert, Olivier', 'Ganitkevitch, Juri', 'Gao, Qin', 'Gao, Wei', 'Gao, Yingbo', 'Gaspari, Federico', 'Gates, Donna', 'Ge, Tao', 'Georgiev, Georgi', 'Ghoneim, Mahmoud', 'Gildea, Daniel', 'Gimpel, Kevin', \"Gim{\\\\'e}nez, Jes{\\\\'u}s\", 'Ginter, Filip', 'Glass, James', 'Goldwater, Sharon', 'Gong, Ming', 'Gong, Yeyun', 'Goto, Isao', 'Graham, Yvette', 'Grau, Brigitte', 'Grishman, Ralph', 'Grouin, Cyril', 'Gui, Lin', 'Guo, Weiwei', 'Gupta, Deepak', \"Guzm{\\\\'a}n, Francisco\", 'Ha, Thanh-Le', 'Habash, Nizar', 'Haddow, Barry', 'Haffari, Gholamreza', 'Haji{\\\\v{c}}, Jan', 'Hamon, Olivier', 'Han, Wenjuan', 'Han, Xu', 'Hangya, Viktor', 'Hanneman, Greg', 'Haque, Rejwanul', 'Hartley, Anthony', 'Hasan, Sa{\\\\v{s}}a', 'Hashimoto, Chikara', 'Hashimoto, Kazuma', 'Hawwari, Abdelati', 'Hayashi, Katsuhiko', 'He, Yifan', 'He, Zhongjun', 'Hermann, Karl Moritz', 'Herrmann, Teresa', 'Hewavitharana, Sanjika', 'Hirao, Tsutomu', 'Hirasawa, Tosho', 'Hoang, Hieu', 'Holtzman, Ari', 'Hong, Yu', 'Hou, Lei', 'Hsieh, Shu-Kai', 'Hsieh, Yu-Ming', 'Hu, Guoping', 'Hu, Junjie', 'Huang, Chu-Ren', 'Huang, Fei', 'Huang, Shaohan', 'Huang, Shu-Ling', 'Huang, Zhongqiang', 'Huck, Matthias', 'Illouz, Gabriel', 'Imamura, Kenji', 'Inoue, Naoya', 'Inui, Kentaro', 'Irvine, Ann', 'Isahara, Hitoshi', 'Isozaki, Hideki', 'Jiang, Daxin', 'Jiang, Jie', 'Jiang, Wenbin', 'Jiang, Xin', 'Jiang, Yong', 'Johnson, Mark', 'Joshi, Aditya', 'Joty, Shafiq', 'Kajiwara, Tomoyuki', 'Kamran, Amir', 'Kaneko, Masahiro', 'Kanerva, Jenna', 'Kanojia, Diptesh', 'Kanzaki, Kyoko', 'Katsumata, Satoru', 'Kawahara, Daisuke', \"Kazama, Jun{'}ichi\", 'Khadivi, Shahram', 'Khalifa, Salam', 'Khalilov, Maxim', 'Khayrallah, Huda', 'Kiela, Douwe', 'Kim, Doo Soon', 'Kim, Jin-Dong', 'Kim, Su Nam', 'Kim, Yunsu', 'Kloetzer, Julien', 'Knowles, Rebecca', 'Kobayashi, Sosuke', 'Kocmi, Tom', 'Koehn, Philipp', 'Komachi, Mamoru', 'Kong, Fang', 'Kordoni, Valia', 'Koychev, Ivan', 'Kudo, Taku', 'Kulkarni, Malhar', 'Kumaran, A', 'Kunchukuttan, Anoop', 'Kuribayashi, Tatsuki', 'Kurohashi, Sadao', 'Lambert, Patrik', 'Lau, Jey Han', 'Lavergne, Thomas', 'Lavie, Alon', 'Le Bras, Ronan', 'Lenci, Alessandro', 'Leusch, Gregor', 'Levin, Lori', 'Li, Chen', 'Li, Chi-Ho', 'Li, Haizhou', 'Li, Juanzi', 'Li, Junhui', 'Li, Liangyou', 'Li, Mu', 'Li, Peifeng', 'Li, Peng', 'Li, Sheng', 'Li, Shoushan', 'Li, Sujian', 'Li, Wenjie', 'Li, Zhenghua', 'Li, Zhoujun', 'Li, Zuchao', 'Ligozat, Anne-Laure', 'Lin, Junyang', 'Lin, Shouxun', 'Lin, Yankai', 'Ling, Wang', 'Liu, Lemao', 'Liu, Lizhen', 'Liu, Qun', 'Liu, Shujie', 'Liu, Tianyu', 'Liu, Ting', 'Liu, Xiaohua', 'Liu, Xiaojiang', 'Liu, Yang', 'Liu, Yijia', 'Liu, Zhanyi', 'Liu, Zhiyuan', 'Livescu, Karen', 'Logacheva, Varvara', 'Long, Yunfei', 'Lu, Bao-Liang', 'Lu, Qin', 'Luan, Huanbo', 'Lui, Marco', 'Luo, Fuli', 'Ma, Qing', 'Ma, Shuming', 'Ma, Yanjun', 'Macleod, Catherine', 'Madnani, Nitin', 'Maegaard, Bente', 'Malmasi, Shervin', 'Mansour, Saab', \"Mapelli, Val{\\\\'e}rie\", 'Mare{\\\\v{c}}ek, David', 'Mariani, Joseph', \"Mari{\\\\~n}o, Jos{\\\\'e} B.\", 'Matsubayashi, Yuichiroh', 'Matsumoto, Yuji', 'Matsuzaki, Takuya', 'Matusov, Evgeny', 'Mauser, Arne', \"Max, Aur{\\\\'e}lien\", 'McNaught, John', 'Mediani, Mohammed', 'Mehdad, Yashar', 'Meng, Fandong', 'Meyers, Adam', 'Mi, Haitao', 'Mino, Hideya', 'Mishra, Abhijit', 'Mistica, Meladel', 'Miwa, Makoto', 'Miyao, Yusuke', 'Mizuno, Junta', 'Mohit, Behrang', 'Mohtarami, Mitra', 'Monachini, Monica', 'Montemagni, Simonetta', 'Monz, Christof', \"Moriceau, V{\\\\'e}ronique\", 'Morishita, Makoto', 'Moschitti, Alessandro', 'Mostefa, Djamel', 'Mubarak, Hamdy', 'Murata, Masaki', 'Murawaki, Yugo', 'Murray, Gabriel', \"M{\\\\`a}rquez, Llu{\\\\'\\\\i}s\", 'Nagata, Masaaki', 'Nakamura, Satoshi', 'Nakazawa, Toshiaki', 'Nakov, Preslav', 'Naskar, Sudip Kumar', 'Nasr, Alexis', 'Negri, Matteo', 'Neubig, Graham', 'Neves, Mariana', 'Ney, Hermann', 'Ng, Raymond', 'Nguyen, Thien Huu', 'Nicholson, Jeremy', 'Nicosia, Massimo', 'Nie, Yixin', 'Niehues, Jan', 'Ninomiya, Takashi', 'Nishino, Masaaki', 'Noji, Hiroshi', 'Nothman, Joel', \"N{\\\\'e}v{\\\\'e}ol, Aur{\\\\'e}lie\", 'Obeid, Ossama', 'Och, Franz Josef', 'Oda, Yusuke', 'Odijk, Jan', 'Oflazer, Kemal', 'Oh, Jong-Hoon', 'Ohta, Tomoko', 'Okazaki, Naoaki', 'Okuma, Hideo', 'Ouchi, Hiroki', 'Paetzold, Gustavo', 'Pakray, Partha', 'Pal, Santanu', 'Parida, Shantipriya', 'Paroubek, Patrick', 'Pasunuru, Ramakanth', 'Patel, Kevin', 'Patra, Braja Gopal', 'Paul, Michael', 'Pavlick, Ellie', 'Pazienza, Maria Teresa', 'Peitz, Stephan', 'Peter, Jan-Thorsten', 'Phillips, Michael', 'Pighin, Daniele', 'Piperidis, Stelios', 'Pirrelli, Vito', 'Pivovarova, Lidia', 'Poliak, Adam', 'Polifroni, Joseph', 'Poncelas, Alberto', 'Popel, Martin', 'Post, Matt', 'Pouran Ben Veyseh, Amir', 'Prabhakaran, Vinodkumar', 'Pyysalo, Sampo', 'Qi, Fanchao', 'Qian, Longhua', 'Qian, Xian', 'Qin, Bing', 'Rahimi, Afshin', 'Rambow, Owen', 'Rapp, Reinhard', 'Rashkin, Hannah', \"Rauzy, St{\\\\'e}phane\", 'Redkar, Hanumant', 'Reisert, Paul', 'Ren, Xuancheng', 'Rijhwani, Shruti', 'Rimell, Laura', 'Robba, Isabelle', 'Rosa, Rudolf', 'Rosset, Sophie', 'Rudinger, Rachel', 'Saha, Sriparna', 'Sajjad, Hassan', 'Sakti, Sakriani', 'Salakoski, Tapio', 'Salehi, Bahar', 'Samih, Younes', 'Sankaran, Baskaran', 'Santus, Enrico', 'Sap, Maarten', 'Sarkar, Anoop', 'Sasaki, Yutaka', 'Scarton, Carolina', 'Schmid, Helmut', 'Schneider, Nathan', 'Schwartz, Roy', 'Sekine, Satoshi', 'Seneff, Stephanie', 'Sennrich, Rico', 'Severyn, Aliaksei', 'Sha, Lei', 'Shah, Kashif', 'Shaikh, Samira', 'Shang, Lifeng', 'Sharoff, Serge', 'Shi, Shuming', 'Shibata, Tomohide', 'Shimbo, Masashi', 'Shimohata, Mitsuo', 'Shindo, Hiroyuki', 'Shou, Linjun', 'Smith, Noah A.', 'Song, Linfeng', 'Song, Wei', 'Soria, Claudia', 'Sornlertlamvanich, Virach', 'Specia, Lucia', 'Stein, Daniel', 'Sterling, John', 'Stojanovski, Dario', 'Strzalkowski, Tomek', 'Su, Jian', 'Su, Jinsong', 'Su, Qi', 'Sudoh, Katsuhito', 'Sui, Zhifang', 'Sumita, Eiichiro', 'Sun, Maosong', 'Sun, Xu', 'Suzuki, Jun', 'Swayamdipta, Swabha', 'Takase, Sho', 'Tamchyna, Ale{\\\\v{s}}', 'Tamura, Akihiro', 'Tan, Chew Lim', 'Tan, Liling', 'Tanaka, Takaaki', 'Tang, Duyu', 'Tannier, Xavier', 'Tateisi, Yuka', 'Taylor, Sarah', 'Teng, Zhiyang', 'Thompson, Paul', 'Thomson, Sam', 'Titov, Ivan', 'Toda, Tomoki', 'Tomeh, Nadi', 'Toral, Antonio', 'Torisawa, Kentaro', 'Trancoso, Isabel', \"Tsujii, Jun{'}ichi\", 'Tsukada, Hajime', 'Tsuruoka, Yoshimasa', 'Tsvetkov, Yulia', 'Tu, Kewei', 'Tu, Zhaopeng', 'Turchi, Marco', 'Uchimoto, Kiyotaka', 'Ueffing, Nicola', \"Ure{\\\\v{s}}ov{\\\\'a}, Zde{\\\\v{n}}ka\", 'Utiyama, Masao', 'Van Durme, Benjamin', 'Vela, Mihaela', 'Venturi, Giulia', 'Venugopal, Ashish', 'Verspoor, Karin', 'Vilar, David', 'Vilnat, Anne', 'Vogel, Stephan', 'Waibel, Alex', 'Wang, Haifeng', 'Wang, Houfeng', 'Wang, Longyue', 'Wang, Rui', 'Wang, Shijin', 'Wang, Tao', 'Wang, Weiyue', 'Wang, Xiaolin', 'Wang, Xing', 'Wang, Xinyi', 'Wang, Xinyu', 'Watanabe, Taro', 'Way, Andy', 'Weese, Jonathan', 'Wei, Furu', 'Weller, Marion', 'White, Aaron Steven', 'Wieting, John', 'Williams, Philip', 'Wisniewski, Guillaume', 'Wong, Derek F.', 'Wong, Kam-Fai', 'Wu, Hua', 'Wu, Xiaofeng', 'Wuebker, Joern', 'Xiang, Rong', 'Xiao, Xinyan', 'Xiong, Deyi', 'Xu, Hongzhi', 'Xu, Jinan', 'Xu, Jingjing', 'Xu, Ke', 'Xu, Ruifeng', 'Yamamoto, Eiko', 'Yamamoto, Hirofumi', 'Yamamoto, Seiichi', 'Yang, Jie', 'Yang, Min', 'Yang, Muyun', 'Yang, Nan', 'Yang, Pengcheng', 'Yang, Xiaofeng', 'Yangarber, Roman', 'Yao, Jianmin', 'Yao, Xuchen', 'Yao, Yuan', 'Yin, Pengcheng', 'Yokoi, Sho', 'Yoshino, Koichiro', 'Yvon, Fran{\\\\c{c}}ois', 'Zaghouani, Wajdi', 'Zalmout, Nasser', 'Zampieri, Marcos', 'Zampolli, Antonio', 'Zeman, Daniel', 'Zens, Richard', 'Zhang, Biao', 'Zhang, Dongdong', 'Zhang, Hao', 'Zhang, Jinchao', 'Zhang, Longkai', 'Zhang, Meishan', 'Zhang, Min', 'Zhang, Sheng', 'Zhang, Wei-Nan', 'Zhang, Yi', 'Zhang, Ying', 'Zhang, Yu', 'Zhang, Yue', 'Zhang, Yujie', 'Zhang, Zhuosheng', 'Zhao, Hai', 'Zhao, Shiqi', 'Zhao, Tiejun', 'Zhou, GuoDong', 'Zhou, Guodong', 'Zhou, Jie', 'Zhou, Ming', 'Zhu, Conghui', 'Zhu, Qiaoming', 'Zollmann, Andreas', 'Zue, Victor', 'Zukerman, Ingrid', 'Zweigenbaum, Pierre', 'van Genabith, Josef', \"{\\\\v{Z}}abokrtsk{\\\\'y}, Zden{\\\\v{e}}k\"], ['Abend, Omri', 'Aguilar, Gustavo', 'Bethard, Steven', 'Biemann, Chris', 'Budzianowski, Pawe{\\\\l}', 'Casanueva, I{\\\\~n}igo', 'Davidov, Dmitry', 'Dligach, Dmitriy', \"Ga{\\\\v{s}}i{\\\\'c}, Milica\", 'Gerz, Daniela', 'Glava{\\\\v{s}}, Goran', 'Hershcovich, Daniel', 'Hill, Felix', 'Kar, Sudipta', 'Karan, Mladen', 'Korhonen, Anna', 'Lauscher, Anne', 'Lin, Chen', 'Maharjan, Suraj', 'McCarthy, Diana', 'Miller, Timothy', 'Minker, Wolfgang', 'Moens, Marie-Francine', 'Montes, Manuel', \"Mrk{\\\\v{s}}i{\\\\'c}, Nikola\", 'Panchenko, Alexander', 'Poibeau, Thierry', 'Ponti, Edoardo Maria', 'Ponzetto, Simone Paolo', 'Rappoport, Ari', 'Reichart, Roi', 'Remus, Steffen', 'Riedl, Martin', 'Rojas-Barahona, Lina M.', 'Savova, Guergana', 'Schmitt, Alexander', 'Solorio, Thamar', 'Su, Pei-Hao', 'Sun, Lin', 'Thomson, Blaise', 'Ultes, Stefan', 'Ustalov, Dmitry', 'Vandyke, David', \"Vuli{\\\\'c}, Ivan\", 'Wen, Tsung-Hsien', 'Yimam, Seid Muhie', 'Young, Steve', '{\\\\v{S}}najder, Jan'], ['Bing, Lidong', 'Lam, Wai', 'Zhang, Wenxuan'], ['Rashid, Ahmad', 'Rezagholizadeh, Mehdi'], ['Boullier, Pierre', 'Candito, Marie', 'Sagot, Beno{\\\\^\\\\i}t', \"Seddah, Djam{\\\\'e}\"], ['Bonial, Claire', 'Brown, Susan Windisch', 'Chang, Shih-Fu', 'Chen, Zheng', 'Dang, Hoa Trang', 'Han, Jiawei', 'Hermjakob, Ulf', 'Huang, Lifu', 'Ji, Heng', 'Knight, Kevin', 'Kozareva, Zornitsa', 'Li, Manling', 'Lin, Bill Yuchen', 'Lin, Ying', 'Lu, Di', 'Marcu, Daniel', 'May, Jonathan', 'Palmer, Martha', 'Pan, Xiaoman', 'Ravi, Sujith', 'Ren, Xiang', 'Vaidya, Ashwini', 'Voss, Clare', 'Xue, Nianwen', 'Zhang, Boliang'], ['Bogoychev, Nikolay', 'Grundkiewicz, Roman', 'Heafield, Kenneth', 'Junczys-Dowmunt, Marcin'], ['Anderson, Tim', 'Erdmann, Grant', 'Gwinnup, Jeremy'], ['Li, Lei', 'Wang, Mingxuan', 'Zhou, Hao'], ['Guo, Jiaxin', 'Lei, Lizhi', 'Qin, Ying', 'Shang, Hengchao', 'Wang, Minghan', 'Wei, Daimeng', 'Yang, Hao'], ['Li, Bei', 'Wang, Huizhen', 'Xiao, Tong', 'Zhu, Jingbo', 'Zhu, Muhua'], ['Crego, Josep', 'Senellart, Jean'], ['Chen, Boxing', 'Cherry, Colin', 'Cotterell, Ryan', 'Eisner, Jason', 'Foster, George', 'Hauer, Bradley', 'Hulden, Mans', 'Kirov, Christo', 'Kondrak, Grzegorz', 'Kuhn, Roland', 'Luo, Weihua', 'McCarthy, Arya D.', 'Meister, Clara', 'Mielke, Sabrina J.', 'Nicolai, Garrett', 'Pimentel, Tiago', 'Silfverberg, Miikka', 'Vieira, Tim', 'Vylomova, Ekaterina', 'Williams, Adina'], ['Fujita, Atsushi', 'Marie, Benjamin'], ['Erjavec, Toma{\\\\v{z}}', 'Fi{\\\\v{s}}er, Darja', \"Ljube{\\\\v{s}}i{\\\\'c}, Nikola\"], ['Camacho-Collados, Jose', 'Collier, Nigel', 'Conia, Simone', 'Navigli, Roberto', 'Pilehvar, Mohammad Taher', 'Velardi, Paola'], ['Barrett, Maria', 'Fornaciari, Tommaso', 'Hovy, Dirk', 'Johannsen, Anders', \"Mart{\\\\'\\\\i}nez Alonso, H{\\\\'e}ctor\", 'Plank, Barbara', 'S{\\\\o}gaard, Anders'], ['Abdul-Mageed, Muhammad', 'Nagoudi, El Moatez Billah'], ['Abbas, Mourad', 'Lichouri, Mohamed'], ['Chakravarthi, Bharathi Raja', 'McCrae, John P.', 'Priyadharshini, Ruba'], ['Jauhiainen, Heidi', 'Jauhiainen, Tommi', \"Lind{\\\\'e}n, Krister\"], ['Schlechtweg, Dominik', 'Schulte im Walde, Sabine'], ['Buttery, Paula', 'Caines, Andrew'], ['Daxenberger, Johannes', 'Eckart de Castilho, Richard', 'Eckle-Kohler, Judith', 'Eger, Steffen', 'Gurevych, Iryna', 'Habernal, Ivan', 'Horbach, Andrea', 'Meyer, Christian M.', 'Miller, Tristan', 'Reimers, Nils', 'Stab, Christian', 'Zesch, Torsten', 'Zhao, Wei'], ['Espl{\\\\`a}-Gomis, Miquel', 'Forcada, Mikel L.', \"P{\\\\'e}rez-Ortiz, Juan Antonio\", \"S{\\\\'a}nchez-Cartagena, V{\\\\'\\\\i}ctor M.\", \"S{\\\\'a}nchez-Mart{\\\\'\\\\i}nez, Felipe\"], ['Gerdes, Kim', 'Kahane, Sylvain'], ['Brockett, Chris', 'Celikyilmaz, Asli', 'Chen, Weizhu', 'Deng, Li', 'Dolan, Bill', 'Galley, Michel', 'Gao, Jianfeng', 'He, Pengcheng', 'He, Xiaodong', 'Li, Xiujun', 'Liu, Xiaodong', 'Nallapati, Ramesh', 'Peng, Baolin', 'Wu, Youzheng', 'Xiang, Bing', 'Zhang, Yizhe', 'Zhou, Bowen'], ['Andreas, Jacob', 'Berg-Kirkpatrick, Taylor', 'Burkett, David', 'DeNero, John', 'Durrett, Greg', 'Fried, Daniel', 'Green, Spence', 'Haghighi, Aria', 'Klein, Dan', 'Liang, Percy', 'Manning, Christopher D.', 'Pauls, Adam', 'de Marneffe, Marie-Catherine'], ['Foster, Jennifer', 'Wagner, Joachim'], ['Elazar, Yanai', 'Elhadad, Michael', 'Goldberg, Yoav', 'Ravfogel, Shauli'], ['Goldwasser, Dan', 'Khashabi, Daniel', 'Mayhew, Stephen', 'Ning, Qiang', 'Peng, Haoruo', 'Roth, Dan', 'Rozovskaya, Alla', 'Sammons, Mark', 'Srikumar, Vivek', 'Upadhyay, Shyam'], ['Socher, Richard', 'Xiong, Caiming'], ['Cohen, Shay B.', 'Gardent, Claire', 'Lapata, Mirella', 'Narayan, Shashi', 'Perez-Beltrachini, Laura', 'Shimorina, Anastasia'], ['Chang, Shiyu', 'Guo, Xiaoxiao', 'Yu, Mo'], ['Frank, Anette', 'Opitz, Juri'], ['Artzi, Yoav', 'Berant, Jonathan', 'Dagan, Ido', 'Goldberger, Jacob', 'Lee, Kenton', 'Levy, Omer', 'Lewis, Mike', 'Shnarch, Eyal', 'Shwartz, Vered', 'Stanovsky, Gabriel', 'Szpektor, Idan', 'Zettlemoyer, Luke'], ['Augenstein, Isabelle', 'Bjerva, Johannes'], ['Groschwitz, Jonas', 'Koller, Alexander'], ['Fohr, Dominique', 'Illina, Irina'], ['Gonzalez-Hernandez, Graciela', 'Weissenbacher, Davy'], ['Cao, Pengfei', 'Chen, Yubo', 'He, Shizhu', 'Liu, Kang', 'Liu, Shengping', 'Xu, Liheng', 'Zhao, Jun', 'Zhou, Guangyou'], ['Chen, Nancy', 'Liu, Zhengyuan'], ['Fung, Pascale', 'Lin, Zhaojiang', 'Liu, Zihan', 'Madotto, Andrea', 'Winata, Genta Indra', 'Wu, Chien-Sheng', 'Xu, Peng'], ['Banea, Carmen', 'Bruce, Rebecca', 'Cambria, Erik', 'Hazarika, Devamanyu', 'Majumder, Navonil', 'Mihalcea, Rada', 'Poria, Soujanya', \"P{\\\\'e}rez-Rosas, Ver{\\\\'o}nica\", 'Somasundaran, Swapna', 'Wiebe, Janyce', 'Wilson, Theresa'], ['Eskenazi, Maxine', 'Mehri, Shikib', 'Zhao, Tiancheng'], ['Chamberlain, Jon', 'Kruschwitz, Udo', 'Poesio, Massimo', 'Uryupina, Olga', 'Yu, Juntao'], ['Wang, Jin', 'Zhang, Xuejie'], ['Chen, Berlin', 'Chen, Kuan-Yu', 'Hung, Hsiao-Tsung', 'Liu, Shih-Hung', 'Lo, Tien-Hong', 'Wang, Hsin-Min'], ['Chen, Kuang-hua', 'Lee, Lung-Hao', 'Tseng, Yuen-Hsien', 'Wu, Chung-Hsien', 'Yu, Liang-Chih'], ['Briscoe, Ted', 'Carroll, John', 'Reffin, Jeremy', 'Weeds, Julie', 'Weir, David'], ['Rei, Marek', 'Shutova, Ekaterina', 'Yannakoudakis, Helen'], ['Galitsky, Boris', 'Ilvovsky, Dmitry'], ['Angelova, Galia', 'Boytcheva, Svetla', 'Nikolova, Ivelina'], ['Kamigaito, Hidetaka', 'Okumura, Manabu', 'Takamura, Hiroya'], ['Lee, John', 'Yeung, Chak Yan'], ['Gravier, Guillaume', \"S{\\\\'e}billot, Pascale\"], ['Osenova, Petya', 'Simov, Kiril'], ['Popescu, Octavian', 'Vo, Ngoc Phuoc An'], ['Cabrio, Elena', 'Villata, Serena'], ['Inagaki, Yasuyoshi', 'Kato, Yoshihide', 'Matsubara, Shigeki', 'Ohno, Tomohiro'], ['Flickinger, Dan', 'Oepen, Stephan', 'Velldal, Erik', '{\\\\O}vrelid, Lilja'], ['Anderson, Mark', \"Fern{\\\\'a}ndez-Gonz{\\\\'a}lez, Daniel\", \"G{\\\\'o}mez-Rodr{\\\\'\\\\i}guez, Carlos\", 'Vilares, David'], ['Lin, Jimmy', 'Tang, Raphael', 'Xin, Ji'], ['Bouillon, Pierrette', 'Chatzichrisafis, Nikos', 'Gerlach, Johanna', 'Hockey, Beth Ann', 'Nakao, Yukie', 'Rayner, Manny', 'Santaholma, Marianne', 'Starlander, Marianne', 'Tsourakis, Nikos'], ['Lebanoff, Logan', 'Liu, Fei'], ['Bernardy, Jean-Philippe', 'Chatzikyriakidis, Stergios'], ['Ide, Nancy', 'Krishnaswamy, Nikhil', 'Pustejovsky, James', 'Rogers, Anna', 'Romanov, Alexey', 'Rumshisky, Anna', 'Suderman, Keith', 'Verhagen, Marc'], ['Demeester, Thomas', 'Develder, Chris'], ['Cheng, Yu', 'Gan, Zhe', 'Liu, Jingjing'], ['Abu-Jbara, Amjad', 'Radev, Dragomir', 'Yu, Tao', 'Zhang, Rui'], ['Klakow, Dietrich', 'Rehbein, Ines', 'Ruppenhofer, Josef', 'Wiegand, Michael'], ['Castro Ferreira, Thiago', 'Daelemans, Walter', 'Hendrickx, Iris', 'Krahmer, Emiel', 'Morante, Roser', 'Wubben, Sander', 'van den Bosch, Antal', 'van der Lee, Chris'], ['Zeng, Michael', 'Zhu, Chenguang'], ['Jiang, Haoming', 'Zhao, Tuo'], ['Glass, Michael', 'Gliozzo, Alfio', 'Strapparava, Carlo'], ['Khot, Tushar', 'Sabharwal, Ashish'], ['Xia, Congying', 'Yu, Philip'], ['Gui, Tao', 'Huang, Xuanjing', 'Liu, Pengfei', 'Qiu, Xipeng', 'Wei, Zhongyu', 'Yan, Hang', 'Zhang, Qi', 'Zhou, Yaqian'], ['Xu, Kun', 'Yu, Dian', 'Yu, Dong'], ['Feng, Yansong', 'Yan, Rui', 'Zhao, Dongyan'], ['Suleman, Kaheer', 'Trischler, Adam'], ['Huang, Yongfeng', 'Qi, Tao', 'Wu, Chuhan', 'Wu, Fangzhao', 'Xie, Xing'], ['Liang, Paul Pu', 'Morency, Louis-Philippe'], ['Mahata, Debanjan', 'Sawhney, Ramit', 'Shah, Rajiv Ratn'], ['Chen, Guanyi', 'Lin, Chenghua'], ['Ahmad, Wasi', 'Chang, Kai-Wei', 'Zhao, Jieyu'], ['Lewis, William', 'Song, Yan', 'Tian, Yuanhe', 'Xia, Fei'], ['Dinan, Emily', 'Weston, Jason'], ['Batra, Dhruv', 'Parikh, Devi'], ['He, Keqing', 'Xu, Weiran', 'Yan, Yuanmeng'], ['Black, Alan W', 'Prabhumoye, Shrimai'], ['Liu, Tie-Yan', 'Qin, Tao', 'Tan, Xu', 'Wu, Lijun'], ['Das, Rajarshi', 'McCallum, Andrew', 'Riedel, Sebastian', 'Stenetorp, Pontus', 'Verga, Patrick'], ['Chakrabarty, Tuhin', 'Ghosh, Debanjan', 'Muresan, Smaranda'], ['Hu, Zhiting', 'Xing, Eric'], ['Dasigi, Pradeep', 'Gardner, Matt', 'Singh, Sameer'], ['Cohen, William', 'Dhingra, Bhuwan'], ['Boyd-Graber, Jordan', \"Daum{\\\\'e} III, Hal\", 'Iyyer, Mohit', 'Rao, Sudha', 'Resnik, Philip'], ['Liu, Bing', 'Mukherjee, Arjun', 'Shu, Lei', 'Xu, Hu'], ['Barzilay, Regina', 'Jaakkola, Tommi', 'Lei, Tao', 'Zhang, Yuan'], ['Chen, Lu', 'Yu, Kai', 'Zhu, Su'], ['Chen, Jiajun', 'Dai, Xinyu', 'Huang, Shujian'], ['Chen, Wenhu', 'Wang, William Yang', 'Wang, Xin', 'Xiong, Wenhan'], ['Chiticariu, Laura', 'Li, Yunyao'], ['Liu, Tingwen', 'Yu, Bowen'], ['Bhat, Suma', 'Gong, Hongyu'], ['Baumann, Timo', 'Kennington, Casey', 'Schlangen, David', 'Zarrie{\\\\ss}, Sina'], ['Bekki, Daisuke', 'Mineshima, Koji', 'Yanaka, Hitomi'], ['Bali, Kalika', 'Choudhury, Monojit', 'Ganguly, Niloy', 'Mukherjee, Animesh', 'Sitaram, Sunayana'], ['Navarretta, Costanza', 'Paggio, Patrizia'], ['Kazantseva, Anna', 'Szpakowicz, Stan'], [\"Cardon, R{\\\\'e}mi\", 'Grabar, Natalia', 'Hamon, Thierry'], ['Claveau, Vincent', 'Kijak, Ewa'], ['Pino, Juan', 'Wang, Changhan'], ['Guillaume, Bruno', 'Perrier, Guy'], ['Abzianidze, Lasha', 'Bos, Johan', 'Evang, Kilian', 'van Noord, Rik'], ['Agirre, Eneko', 'Artetxe, Mikel', 'Caselli, Tommaso', 'Cuadros, Montse', 'Fellbaum, Christiane', 'Fokkens, Antske', 'Labaka, Gorka', 'Laparra, Egoitz', 'Lopez de Lacalle, Oier', 'Maks, Isa', 'Martinez, David', 'Postma, Marten', 'Rigau, German', 'Sarasola, Kepa', 'Soroa, Aitor', 'Vossen, Piek'], ['Huang, Minlie', 'Takanobu, Ryuichi', 'Zhu, Xiaoyan'], ['Araki, Jun', 'Gangal, Varun', 'Hovy, Eduard', 'Lin, Chin-Yew', 'Liu, Jing', 'Ma, Xuezhe', 'Mitamura, Teruko', 'Nyberg, Eric', 'Zhou, Liang'], ['Arcan, Mihael', 'Buitelaar, Paul'], ['El-Haj, Mahmoud', 'Rayson, Paul'], ['Litvak, Marina', 'Vanetik, Natalia'], ['Chen, Chung-Chi', 'Chen, Hsin-Hsi', 'Huang, Hen-Hsen', 'Huang, Ting-Hao', 'Ku, Lun-Wei'], ['Chang, Jing-Shin', 'Lin, Yi-Chung', 'Su, Keh-Yih', 'Zhang, Jiajun', 'Zhou, Yu', 'Zong, Chengqing'], ['Du{\\\\v{s}}ek, Ond{\\\\v{r}}ej', 'Eshghi, Arash', 'Hastie, Helen', 'Janarthanam, Srinivasan', 'Lemon, Oliver', 'Liu, Xingkun', 'Rieser, Verena'], ['Choubey, Prafulla Kumar', 'Huang, Ruihong'], ['Clark, Peter', 'Dalvi, Bhavana', 'Tandon, Niket'], ['Scialom, Thomas', 'Staiano, Jacopo'], ['Al Khatib, Khalid', 'Al-Khatib, Khalid', 'Hagen, Matthias', 'Kiesel, Johannes', 'Potthast, Martin', 'Stein, Benno', 'Wachsmuth, Henning'], ['Lin, Hongfei', 'Yang, Liang'], ['Shi, Weiyan', 'Yu, Zhou'], ['Marrese-Taylor, Edison', 'Matsuo, Yutaka'], ['Jin, Lifeng', 'Schuler, William'], ['Kaji, Nobuhiro', 'Kitsuregawa, Masaru', 'Toyoda, Masashi', 'Yoshinaga, Naoki'], ['He, Yulan', 'Zhou, Deyu'], ['Liu, Qian', 'Lou, Jian-Guang'], ['Kim, Young-Bum', 'Sarikaya, Ruhi'], ['Wen, Ji-Rong', 'Zhao, Wayne Xin'], ['Li, Bin', 'Qu, Weiguang', 'Zhou, Junsheng'], ['He, Xiaofeng', 'Wang, Chengyu'], ['Liu, Xiaozhong', 'Sun, Changlong'], ['Bohnet, Bernd', 'Mille, Simon', 'Wanner, Leo'], ['Wu, Winston', 'Yarowsky, David'], ['Huang, Liang', 'Ma, Mingbo', 'Zhao, Kai', 'Zheng, Renjie'], ['Xia, Rui', 'Yu, Jianfei'], ['Chen, Yidong', 'Shi, Xiaodong'], ['Goyal, Pawan', 'Krishna, Amrith'], ['Preo{\\\\c{t}}iuc-Pietro, Daniel', 'Schwartz, H. Andrew', 'Sedoc, Jo{\\\\~a}o', 'Ungar, Lyle'], ['Christodoulopoulos, Christos', 'Mittal, Arpit', 'Thorne, James', 'Vlachos, Andreas'], ['Lan, Man', 'Wu, Yuanbin'], ['Song, Yangqiu', 'Zhang, Hongming'], ['Han, Xianpei', 'Lin, Hongyu', 'Lu, Yaojie', 'Sun, Le'], ['Cer, Daniel', 'Yang, Yinfei'], ['Fancellu, Federico', 'Joshi, Aravind', 'Lee, Alan', 'Prasad, Rashmi', 'Webber, Bonnie'], ['Florian, Radu', 'Roukos, Salim'], ['Aharonov, Ranit', 'Bar-Haim, Roy', 'Bilu, Yonatan', 'Slonim, Noam'], ['Buechel, Sven', 'Hahn, Udo', 'Hellrich, Johannes', 'Tomanek, Katrin', 'Wermter, Joachim'], ['Cheng, Xueqi', 'Guo, Jiafeng'], ['Shen, Xiaoyu', 'Su, Hui'], ['Miura, Yasuhide', 'Ohkuma, Tomoko', 'Taniguchi, Motoki', 'Taniguchi, Tomoki'], ['Idiart, Marco', 'Ramisch, Carlos', 'Savary, Agata', 'Villavicencio, Aline', 'Wilkens, Rodrigo'], ['Sun, Weiwei', 'Wan, Xiaojun', 'Xiao, Jianguo'], ['Alishahi, Afra', 'Chrupa{\\\\l}a, Grzegorz'], ['Bowman, Samuel R.', 'Liu, Haokun'], ['Burstein, Jill', 'Chodorow, Martin', 'Leacock, Claudia', 'Napoles, Courtney', 'Tetreault, Joel'], ['Mitkov, Ruslan', 'Orasan, Constantin'], ['Levy, Roger', 'Wilcox, Ethan'], ['King, Irwin', 'Lyu, Michael'], ['Byrne, Bill', 'Byrne, William', 'Iglesias, Gonzalo', 'Saunders, Danielle', 'Stahlberg, Felix', 'de Gispert, Adri{\\\\`a}'], ['Hall, Johan', 'Nilsson, Jens', 'Nivre, Joakim', 'de Lhoneux, Miryam'], ['Adda-Decker, Martine', 'Lamel, Lori'], ['Vu, Ngoc Thang', 'Yu, Xiang'], ['Anand, Pranav', 'Oraby, Shereen', 'Walker, Marilyn'], ['Funakoshi, Kotaro', 'Komatani, Kazunori', 'Nakano, Mikio', 'Okuno, Hiroshi G.'], ['Cohan, Arman', 'Goharian, Nazli'], ['Komiya, Kanako', 'Sasaki, Minoru', 'Shinnou, Hiroyuki'], ['Balahur, Alexandra', \"Guti{\\\\'e}rrez, Yoan\", \"Montoyo, Andr{\\\\'e}s\", 'Mu{\\\\~n}oz, Rafael'], ['Helcl, Jind{\\\\v{r}}ich', \"Libovick{\\\\'y}, Jind{\\\\v{r}}ich\"], ['Bunt, Harry', 'Petukhova, Volha'], ['Ishida, Toru', 'Lin, Donghui', 'Murakami, Yohei'], ['Artstein, Ron', 'DeVault, David', 'Georgila, Kallirroi', 'Leuski, Anton', 'Traum, David'], [\"Branco, Ant{\\\\'o}nio\", 'Costa, Francisco', 'Saedi, Chakaveh', 'Silva, Jo{\\\\~a}o'], [\"M{\\\\'\\\\i}rovsk{\\\\'y}, Ji{\\\\v{r}}{\\\\'\\\\i}\", \"Pol{\\\\'a}kov{\\\\'a}, Lucie\"], ['Fukumoto, Fumiyo', 'Suzuki, Yoshimi'], ['Bossy, Robert', \"N{\\\\'e}dellec, Claire\"], ['Hahn-Powell, Gus', 'Sharp, Rebecca', 'Surdeanu, Mihai', \"Valenzuela-Esc{\\\\'a}rcega, Marco A.\"], ['Ciobanu, Alina Maria', 'Dinu, Liviu P.'], ['Bies, Ann', 'Cieri, Christopher', 'DiPersio, Denise', 'Kulick, Seth', 'Liberman, Mark', 'Maamouri, Mohamed', 'Mott, Justin', 'Song, Zhiyi', 'Strassel, Stephanie', 'Wright, Jonathan'], ['Van den Bogaert, Joachim', 'Vanallemeersch, Tom'], ['Hathout, Nabil', 'Namer, Fiammetta'], ['Camelin, Nathalie', 'Est{\\\\`e}ve, Yannick'], ['Mayfield, James', 'McNamee, Paul'], ['Bosco, Cristina', 'Sanguinetti, Manuela'], ['Marciniak, Malgorzata', 'Mykowiecka, Agnieszka'], ['Kabashi, Besim', 'Proisl, Thomas'], ['Portet, Fran{\\\\c{c}}ois', 'Vacher, Michel'], ['Chen, Chen', 'Ng, Vincent', 'Persing, Isaac'], ['Charlet, Delphine', \"Damnati, G{\\\\'e}raldine\"], [\"Delvaux, V{\\\\'e}ronique\", 'Harmegnies, Bernard', 'Huet, Kathy', 'Piccaluga, Myriam'], ['Nerima, Luka', 'Seretan, Violeta', 'Wehrli, Eric'], ['Besacier, Laurent', \"Blanchon, Herv{\\\\'e}\", 'Lecouteux, Benjamin'], ['Reiter, Ehud', 'Sripada, Somayajulu'], ['Husain, Samar', 'Sangal, Rajeev', 'Sharma, Dipti Misra'], ['Bernardi, Raffaella', 'Pezzelle, Sandro'], ['Carin, Lawrence', 'Shen, Dinghan', 'Wang, Guoyin'], ['Beigman Klebanov, Beata', 'Flor, Michael'], ['Demberg, Vera', 'Sayeed, Asad'], ['Chen, Qingcai', 'Wang, Xiaolong'], [\"Daille, B{\\\\'e}atrice\", 'Hazem, Amir', 'Morin, Emmanuel'], ['Makhoul, John', 'Matsoukas, Spyros', 'Schwartz, Richard'], ['Fern, Xiaoli', 'Tadepalli, Prasad'], ['Davis, Brian', \"Freitas, Andr{\\\\'e}\", 'Handschuh, Siegfried'], ['Casacuberta, Francisco', \"Gonz{\\\\'a}lez-Rubio, Jes{\\\\'u}s\", \"Ortiz-Mart{\\\\'\\\\i}nez, Daniel\", \"Sanchis-Trilles, Germ{\\\\'a}n\", 'Vidal, Enrique'], ['El-Hajj, Wassim', 'Hajj, Hazem'], ['Riccardi, Giuseppe', 'Stepanov, Evgeny'], ['Allauzen, Cyril', 'Riley, Michael'], ['Martin, Maite', \"Ure{\\\\~n}a-L{\\\\'o}pez, L. Alfonso\"], [\"De Clercq, Orph{\\\\'e}e\", \"Hoste, V{\\\\'e}ronique\", 'Lefever, Els'], ['Aker, Ahmet', 'Bontcheva, Kalina', 'Cunningham, Hamish', 'Derczynski, Leon', 'Gaizauskas, Robert', 'Guthrie, Louise', 'Hepple, Mark', 'Maynard, Diana', 'Tablan, Valentin', 'Wilks, Yorick'], ['Basile, Pierpaolo', 'Semeraro, Giovanni'], ['Chang, Jason', 'Chen, Jhih-Jie'], ['Dahlmeier, Daniel', 'Ng, Hwee Tou'], ['Chang, Yung-Chun', 'Hsieh, Yu-Lun', 'Hsu, Wen-Lian', 'Tsai, Richard Tzong-Han', 'Wang, Yu-Chun'], ['Auli, Michael', 'Grangier, David'], ['Kiritchenko, Svetlana', 'Mohammad, Saif'], ['Nguyen, Dai Quoc', 'Nguyen, Dat Quoc'], [\"Pil{\\\\'a}n, Ildik{\\\\'o}\", 'Volodina, Elena'], ['Meurers, Detmar', 'Ziai, Ramon'], [\"Gerv{\\\\'a}s, Pablo\", \"Herv{\\\\'a}s, Raquel\"], ['Avramidis, Eleftherios', 'Burchardt, Aljoscha', \"Popovi{\\\\'c}, Maja\"], ['Papavassiliou, Vassilis', 'Prokopidis, Prokopis'], ['Allen, James', 'Galescu, Lucian', 'Swift, Mary'], ['Basu, Anupam', 'Dasgupta, Tirthankar', 'Sinha, Manjira'], ['Kotani, Katsunori', 'Yoshimi, Takehiko'], ['Chen, Liang-Pu', 'Wu, Shih-Hung'], ['Barbieri, Francesco', 'Espinosa-Anke, Luis', 'Ronzano, Francesco', 'Saggion, Horacio'], ['Pinkal, Manfred', 'Thater, Stefan'], [\"Farkas, Rich{\\\\'a}rd\", \"Nagy T., Istv{\\\\'a}n\", 'Vincze, Veronika'], ['Hagen, Kristin', 'Johannessen, Janne Bondi'], ['Bechet, Frederic', 'Favre, Benoit'], ['Kuhlmann, Marco', 'Nederhof, Mark-Jan', 'Satta, Giorgio'], ['Felt, Paul', 'Haertel, Robbie', 'Ringger, Eric', 'Seppi, Kevin'], ['Iosif, Elias', 'Potamianos, Alexandros'], ['Maziarz, Marek', 'Piasecki, Maciej'], ['Utsuro, Takehito', 'Yamamoto, Mikio'], [\"Bel, N{\\\\'u}ria\", 'Marimon, Montserrat'], ['Boldrini, Ester', \"Mart{\\\\'\\\\i}nez-Barco, Patricio\"], ['Banjade, Rajendra', 'Rus, Vasile'], ['Krause, Sebastian', 'Li, Hong', 'Uszkoreit, Hans', 'Xu, Feiyu'], ['Joubert, Alain', 'Lafourcade, Mathieu'], ['Li, Hang', 'Lu, Zhengdong'], ['Menezes, Arul', 'Quirk, Chris', 'Toutanova, Kristina'], ['Dale, Robert', \"Paris, C{\\\\'e}cile\", 'Viethen, Jette', 'Wan, Stephen'], ['Kallmeyer, Laura', 'Maier, Wolfgang'], ['Addanki, Karteek', 'Carpuat, Marine', 'Lo, Chi-kiu', 'Saers, Markus', 'Wu, Dekai'], ['Jokinen, Kristiina', 'Wilcock, Graham'], ['Beale, Stephen', 'McShane, Marjorie', 'Nirenburg, Sergei', 'Raskin, Victor'], ['Henrich, Verena', 'Hinrichs, Erhard'], ['Schuurman, Ineke', 'Vandeghinste, Vincent'], ['Baroni, Marco', 'Lazaridou, Angeliki'], ['Afantenos, Stergos', 'Asher, Nicholas'], ['Navas, Eva', 'Saratxaga, Ibon'], ['Brooke, Julian', 'Hirst, Graeme'], ['Iida, Ryu', 'Tanaka, Hozumi', 'Tokunaga, Takenobu'], [\"Cuay{\\\\'a}huitl, Heriberto\", 'Dethlefs, Nina'], ['Sofianopoulos, Sokratis', 'Vassiliou, Marina'], ['Fazly, Afsaneh', 'Stevenson, Suzanne'], ['Chang, Jason S.', 'Wu, Jian-Cheng'], ['Ramanathan, Ananthakrishnan', 'Visweswariah, Karthik'], ['Blanco, Eduardo', 'Moldovan, Dan'], ['Erk, Katrin', \"Pad{\\\\'o}, Sebastian\"], ['Louis, Annie', 'Nenkova, Ani'], ['McKeown, Kathleen', 'Thadani, Kapil'], ['Power, Richard', 'Scott, Donia', 'Williams, Sandra'], ['Gotti, Fabrizio', 'Langlais, Philippe', 'Lapalme, Guy', 'Patry, Alexandre', 'Simard, Michel'], ['Etzioni, Oren', 'Soderland, Stephen', '{Mausam}'], ['Ahrenberg, Lars', 'Stymne, Sara'], ['Meng, Yao', 'Yu, Hao'], [\"Amig{\\\\'o}, Enrique\", 'Gonzalo, Julio', 'Verdejo, Felisa'], ['Cancedda, Nicola', 'Dymetman, Marc'], ['Chen, Yu', 'Eisele, Andreas'], ['Belz, Anja', 'Gatt, Albert', 'Kow, Eric'], ['Broeder, Daan', 'Wittenburg, Peter'], ['Lardilleux, Adrien', 'Lepage, Yves'], ['Rajkumar, Rajakrishnan', 'White, Michael'], ['Hori, Chiori', 'Kashioka, Hideki'], ['Okada, Yoshihiro', 'Watanabe, Yasuhiko'], ['Ayuso, Damaris', 'Boisen, Sean', 'Ramshaw, Lance', 'Weischedel, Ralph'], ['Kwong, Oi Yee', 'Tsou, Benjamin K.'], ['Matiasek, Johannes', 'Trost, Harald'], ['Lesmo, Leonardo', 'Lombardo, Vincenzo'], ['Johansson, Richard', 'Nugues, Pierre'], ['Fujii, Atsushi', 'Ishikawa, Tetsuya'], ['Farwell, David', 'Helmreich, Stephen'], ['Li, Wei', 'Niu, Cheng'], ['Corston-Oliver, Simon', 'Gamon, Michael'], ['Fakotakis, Nikos', 'Kokkinakis, George'], ['Araki, Kenji', 'Tochinai, Koji'], ['Bear, John', 'Hobbs, Jerry R.'], ['Dahl, Deborah A.', 'Norton, Lewis M.'], ['Furuse, Osamu', 'Iida, Hitoshi'], ['Brown, Peter F.', 'Della Pietra, Stephen A.', 'Della Pietra, Vincent J.', 'Mercer, Robert L.'])\n"
     ]
    },
    {
     "name": "stdout",
     "output_type": "stream",
     "text": [
      "(['Androutsopoulos, Ion', 'Malakasiotis, Prodromos', 'Pavlopoulos, John'], ['Ritter, Alan', 'Xu, Wei'], ['Abdelali, Ahmed', 'Ahrens, Kathleen', 'Akhtar, Md Shad', 'Al-Badrashiny, Mohamed', 'Alkhouli, Tamer', 'Allauzen, Alexandre', 'Alva-Manchego, Fernando', 'Ananiadou, Sophia', 'Anastasopoulos, Antonios', 'Andrews, Nicholas', 'Apidianaki, Marianna', 'Arase, Yuki', 'Arranz, Victoria', 'Asahara, Masayuki', 'Attia, Mohammed', 'Aufrant, Lauriane', 'Aw, Aiti', 'Aziz, Wilker', 'Babych, Bogdan', 'Bach, Nguyen', 'Bai, Ming-Hong', 'Baldwin, Timothy', 'Ballesteros, Miguel', 'Banchs, Rafael E.', 'Bandyopadhyay, Sivaji', 'Bangalore, Srinivas', 'Bansal, Mohit', \"Barr{\\\\'o}n-Cede{\\\\~n}o, Alberto\", 'Basili, Roberto', 'Beck, Daniel', 'Belinkov, Yonatan', 'Bender, Oliver', 'Bentivogli, Luisa', 'Bertagna, Francesca', 'Bertoldi, Nicola', 'Besan{\\\\c{c}}on, Romaric', 'Bhagavatula, Chandra', 'Bhattacharyya, Pushpak', 'Bhingardive, Sudha', 'Bi, Wei', 'Birch, Alexandra', 'Bird, Steven', 'Bisazza, Arianna', 'Blache, Philippe', \"Blain, Fr{\\\\'e}d{\\\\'e}ric\", 'Blunsom, Phil', 'Bojar, Ond{\\\\v{r}}ej', 'Bond, Francis', 'Bosselut, Antoine', 'Bouamor, Dhouha', 'Bouamor, Houda', 'Brunato, Dominique', 'Buck, Christian', 'Cahill, Aoife', 'Callison-Burch, Chris', 'Calzolari, Nicoletta', 'Cao, Yixin', 'Carbonell, Jaime', 'Cardie, Claire', 'Carenini, Giuseppe', 'Carreras, Xavier', 'Cettolo, Mauro', 'Chang, Baobao', 'Chao, Lidia S.', 'Charniak, Eugene', 'Charoenporn, Thatsanee', 'Chatterjee, Rajen', 'Chaudhary, Vishrav', 'Che, Wanxiang', 'Chen, Keh-Jiann', 'Chen, Kehai', 'Chen, Wenliang', 'Chen, Ying', 'Chen, Yufeng', 'Chersoni, Emmanuele', 'Cho, Eunah', 'Choi, Yejin', 'Cholakov, Kostadin', 'Choukri, Khalid', 'Chu, Chenhui', 'Clark, Stephen', 'Cocos, Anne', 'Cohen, Kevin Bretonnel', 'Cohn, Trevor', 'Cook, Paul', 'Costa-juss{\\\\`a}, Marta R.', 'Crego, Josep M.', 'Croce, Danilo', 'Cromieres, Fabien', 'Cui, Lei', 'Cui, Yiming', 'Curran, James R.', 'Da San Martino, Giovanni', 'Dabre, Raj', 'Dalvi, Fahim', 'Darwish, Kareem', 'Das, Amitava', 'Das, Dipanjan', 'Das, Dipankar', 'De Saeger, Stijn', \"Dell{'}Orletta, Felice\", \"Del{\\\\'e}ger, Louise\", 'Demner-Fushman, Dina', 'Denkowski, Michael', 'Diab, Mona', 'Ding, Chenchen', 'Ding, Xiao', 'Dong, Li', 'Dorr, Bonnie', 'Dras, Mark', 'Dredze, Mark', 'Du, Jinhua', 'Du, Xinya', 'Duan, Nan', 'Duan, Xiangyu', 'Duh, Kevin', 'Durrani, Nadir', 'Dyer, Chris', 'Eck, Matthias', 'Egg, Markus', 'Ekbal, Asif', 'El Kholy, Ahmed', 'El-Kishky, Ahmed', 'Elfardy, Heba', 'Elsner, Micha', 'Escolano, Carlos', 'Eskander, Ramy', 'Espa{\\\\~n}a-Bonet, Cristina', 'Faruqui, Manaal', 'Federico, Marcello', 'Federmann, Christian', 'Feng, Minwei', 'Feng, Xiaocheng', 'Feng, Yang', 'Ferret, Olivier', 'Finch, Andrew', 'Fomicheva, Marina', \"Fonollosa, Jos{\\\\'e} A. R.\", 'Francopoulo, Gil', 'Fraser, Alexander', 'Frederking, Robert', 'Freitag, Markus', 'Frontini, Francesca', 'Fu, Ruiji', 'Fujita, Sanae', \"Fu{\\\\v{c}}{\\\\'\\\\i}kov{\\\\'a}, Eva\", 'Gaido, Marco', 'Galibert, Olivier', 'Ganitkevitch, Juri', 'Gao, Qin', 'Gao, Wei', 'Gao, Yingbo', 'Gaspari, Federico', 'Gates, Donna', 'Ge, Tao', 'Georgiev, Georgi', 'Ghoneim, Mahmoud', 'Gildea, Daniel', 'Gimpel, Kevin', \"Gim{\\\\'e}nez, Jes{\\\\'u}s\", 'Ginter, Filip', 'Glass, James', 'Goldwater, Sharon', 'Gong, Ming', 'Gong, Yeyun', 'Goto, Isao', 'Graham, Yvette', 'Grau, Brigitte', 'Grouin, Cyril', 'Gui, Lin', 'Guo, Weiwei', 'Gupta, Deepak', \"Guzm{\\\\'a}n, Francisco\", 'Ha, Thanh-Le', 'Habash, Nizar', 'Haddow, Barry', 'Haffari, Gholamreza', 'Haji{\\\\v{c}}, Jan', 'Hamon, Olivier', 'Han, Wenjuan', 'Han, Xu', 'Hangya, Viktor', 'Hanneman, Greg', 'Haque, Rejwanul', 'Hartley, Anthony', 'Hasan, Sa{\\\\v{s}}a', 'Hashimoto, Chikara', 'Hashimoto, Kazuma', 'Hawwari, Abdelati', 'Hayashi, Katsuhiko', 'He, Yifan', 'He, Zhongjun', 'Hermann, Karl Moritz', 'Herrmann, Teresa', 'Hewavitharana, Sanjika', 'Hirao, Tsutomu', 'Hirasawa, Tosho', 'Hoang, Hieu', 'Holtzman, Ari', 'Hong, Yu', 'Hou, Lei', 'Hsieh, Shu-Kai', 'Hsieh, Yu-Ming', 'Hu, Guoping', 'Hu, Junjie', 'Huang, Chu-Ren', 'Huang, Fei', 'Huang, Shaohan', 'Huang, Shu-Ling', 'Huang, Zhongqiang', 'Huck, Matthias', 'Illouz, Gabriel', 'Imamura, Kenji', 'Inoue, Naoya', 'Inui, Kentaro', 'Irvine, Ann', 'Isahara, Hitoshi', 'Isozaki, Hideki', 'Jiang, Daxin', 'Jiang, Jie', 'Jiang, Wenbin', 'Jiang, Xin', 'Jiang, Yong', 'Johnson, Mark', 'Joshi, Aditya', 'Joty, Shafiq', 'Kajiwara, Tomoyuki', 'Kamran, Amir', 'Kaneko, Masahiro', 'Kanerva, Jenna', 'Kanojia, Diptesh', 'Kanzaki, Kyoko', 'Katsumata, Satoru', 'Kawahara, Daisuke', \"Kazama, Jun{'}ichi\", 'Khadivi, Shahram', 'Khalifa, Salam', 'Khalilov, Maxim', 'Khayrallah, Huda', 'Kiela, Douwe', 'Kim, Jin-Dong', 'Kim, Su Nam', 'Kim, Yunsu', 'Kloetzer, Julien', 'Knowles, Rebecca', 'Kobayashi, Sosuke', 'Kocmi, Tom', 'Koehn, Philipp', 'Komachi, Mamoru', 'Kong, Fang', 'Kordoni, Valia', 'Koychev, Ivan', 'Kudo, Taku', 'Kulkarni, Malhar', 'Kumaran, A', 'Kunchukuttan, Anoop', 'Kuribayashi, Tatsuki', 'Kurohashi, Sadao', 'Lambert, Patrik', 'Lau, Jey Han', 'Lavergne, Thomas', 'Lavie, Alon', 'Le Bras, Ronan', 'Lenci, Alessandro', 'Leusch, Gregor', 'Levin, Lori', 'Li, Chen', 'Li, Chi-Ho', 'Li, Haizhou', 'Li, Juanzi', 'Li, Junhui', 'Li, Liangyou', 'Li, Mu', 'Li, Peifeng', 'Li, Peng', 'Li, Sheng', 'Li, Shoushan', 'Li, Sujian', 'Li, Wenjie', 'Li, Zhenghua', 'Li, Zhoujun', 'Li, Zuchao', 'Ligozat, Anne-Laure', 'Lin, Junyang', 'Lin, Shouxun', 'Lin, Yankai', 'Ling, Wang', 'Liu, Lemao', 'Liu, Lizhen', 'Liu, Qun', 'Liu, Shujie', 'Liu, Tianyu', 'Liu, Ting', 'Liu, Xiaohua', 'Liu, Xiaojiang', 'Liu, Yang', 'Liu, Yijia', 'Liu, Zhanyi', 'Liu, Zhiyuan', 'Livescu, Karen', 'Logacheva, Varvara', 'Long, Yunfei', 'Lu, Bao-Liang', 'Lu, Qin', 'Luan, Huanbo', 'Lui, Marco', 'Luo, Fuli', 'Ma, Qing', 'Ma, Shuming', 'Ma, Yanjun', 'Madnani, Nitin', 'Maegaard, Bente', 'Malmasi, Shervin', 'Mansour, Saab', \"Mapelli, Val{\\\\'e}rie\", 'Mare{\\\\v{c}}ek, David', 'Mariani, Joseph', \"Mari{\\\\~n}o, Jos{\\\\'e} B.\", 'Matsubayashi, Yuichiroh', 'Matsumoto, Yuji', 'Matsuzaki, Takuya', 'Matusov, Evgeny', 'Mauser, Arne', \"Max, Aur{\\\\'e}lien\", 'McNaught, John', 'Mediani, Mohammed', 'Mehdad, Yashar', 'Meng, Fandong', 'Mi, Haitao', 'Mino, Hideya', 'Mishra, Abhijit', 'Mistica, Meladel', 'Miwa, Makoto', 'Miyao, Yusuke', 'Mizuno, Junta', 'Mohit, Behrang', 'Mohtarami, Mitra', 'Monachini, Monica', 'Montemagni, Simonetta', 'Monz, Christof', \"Moriceau, V{\\\\'e}ronique\", 'Morishita, Makoto', 'Moschitti, Alessandro', 'Mostefa, Djamel', 'Mubarak, Hamdy', 'Murata, Masaki', 'Murawaki, Yugo', 'Murray, Gabriel', \"M{\\\\`a}rquez, Llu{\\\\'\\\\i}s\", 'Nagata, Masaaki', 'Nakamura, Satoshi', 'Nakazawa, Toshiaki', 'Nakov, Preslav', 'Naskar, Sudip Kumar', 'Nasr, Alexis', 'Negri, Matteo', 'Neubig, Graham', 'Neves, Mariana', 'Ney, Hermann', 'Ng, Raymond', 'Nicholson, Jeremy', 'Nicosia, Massimo', 'Nie, Yixin', 'Niehues, Jan', 'Ninomiya, Takashi', 'Nishino, Masaaki', 'Noji, Hiroshi', 'Nothman, Joel', \"N{\\\\'e}v{\\\\'e}ol, Aur{\\\\'e}lie\", 'Obeid, Ossama', 'Och, Franz Josef', 'Oda, Yusuke', 'Odijk, Jan', 'Oflazer, Kemal', 'Oh, Jong-Hoon', 'Ohta, Tomoko', 'Okazaki, Naoaki', 'Okuma, Hideo', 'Ouchi, Hiroki', 'Paetzold, Gustavo', 'Pakray, Partha', 'Pal, Santanu', 'Parida, Shantipriya', 'Paroubek, Patrick', 'Pasunuru, Ramakanth', 'Patel, Kevin', 'Patra, Braja Gopal', 'Paul, Michael', 'Pavlick, Ellie', 'Pazienza, Maria Teresa', 'Peitz, Stephan', 'Peter, Jan-Thorsten', 'Phillips, Michael', 'Pighin, Daniele', 'Piperidis, Stelios', 'Pirrelli, Vito', 'Poliak, Adam', 'Polifroni, Joseph', 'Poncelas, Alberto', 'Popel, Martin', 'Post, Matt', 'Prabhakaran, Vinodkumar', 'Pyysalo, Sampo', 'Qi, Fanchao', 'Qian, Longhua', 'Qian, Xian', 'Qin, Bing', 'Rahimi, Afshin', 'Rambow, Owen', 'Rapp, Reinhard', 'Rashkin, Hannah', \"Rauzy, St{\\\\'e}phane\", 'Redkar, Hanumant', 'Reisert, Paul', 'Ren, Xuancheng', 'Rijhwani, Shruti', 'Rimell, Laura', 'Robba, Isabelle', 'Rosa, Rudolf', 'Rosset, Sophie', 'Rudinger, Rachel', 'Saha, Sriparna', 'Sajjad, Hassan', 'Sakti, Sakriani', 'Salakoski, Tapio', 'Salehi, Bahar', 'Samih, Younes', 'Sankaran, Baskaran', 'Santus, Enrico', 'Sap, Maarten', 'Sarkar, Anoop', 'Sasaki, Yutaka', 'Scarton, Carolina', 'Schmid, Helmut', 'Schneider, Nathan', 'Schwartz, Roy', 'Sekine, Satoshi', 'Seneff, Stephanie', 'Sennrich, Rico', 'Severyn, Aliaksei', 'Sha, Lei', 'Shah, Kashif', 'Shaikh, Samira', 'Shang, Lifeng', 'Sharoff, Serge', 'Shi, Shuming', 'Shibata, Tomohide', 'Shimbo, Masashi', 'Shimohata, Mitsuo', 'Shindo, Hiroyuki', 'Shou, Linjun', 'Smith, Noah A.', 'Song, Linfeng', 'Song, Wei', 'Soria, Claudia', 'Sornlertlamvanich, Virach', 'Specia, Lucia', 'Stein, Daniel', 'Stojanovski, Dario', 'Strzalkowski, Tomek', 'Su, Jian', 'Su, Jinsong', 'Su, Qi', 'Sudoh, Katsuhito', 'Sui, Zhifang', 'Sumita, Eiichiro', 'Sun, Maosong', 'Sun, Xu', 'Suzuki, Jun', 'Swayamdipta, Swabha', 'Takase, Sho', 'Tamchyna, Ale{\\\\v{s}}', 'Tamura, Akihiro', 'Tan, Chew Lim', 'Tan, Liling', 'Tanaka, Takaaki', 'Tang, Duyu', 'Tannier, Xavier', 'Tateisi, Yuka', 'Taylor, Sarah', 'Teng, Zhiyang', 'Thompson, Paul', 'Thomson, Sam', 'Titov, Ivan', 'Toda, Tomoki', 'Tomeh, Nadi', 'Toral, Antonio', 'Torisawa, Kentaro', 'Trancoso, Isabel', \"Tsujii, Jun{'}ichi\", 'Tsukada, Hajime', 'Tsuruoka, Yoshimasa', 'Tsvetkov, Yulia', 'Tu, Kewei', 'Tu, Zhaopeng', 'Turchi, Marco', 'Uchimoto, Kiyotaka', 'Ueffing, Nicola', \"Ure{\\\\v{s}}ov{\\\\'a}, Zde{\\\\v{n}}ka\", 'Utiyama, Masao', 'Van Durme, Benjamin', 'Vela, Mihaela', 'Venturi, Giulia', 'Venugopal, Ashish', 'Verspoor, Karin', 'Vilar, David', 'Vilnat, Anne', 'Vogel, Stephan', 'Waibel, Alex', 'Wang, Haifeng', 'Wang, Houfeng', 'Wang, Longyue', 'Wang, Rui', 'Wang, Shijin', 'Wang, Tao', 'Wang, Weiyue', 'Wang, Xiaolin', 'Wang, Xing', 'Wang, Xinyi', 'Wang, Xinyu', 'Watanabe, Taro', 'Way, Andy', 'Weese, Jonathan', 'Wei, Furu', 'Weller, Marion', 'White, Aaron Steven', 'Wieting, John', 'Williams, Philip', 'Wisniewski, Guillaume', 'Wong, Derek F.', 'Wong, Kam-Fai', 'Wu, Hua', 'Wu, Xiaofeng', 'Wuebker, Joern', 'Xiang, Rong', 'Xiao, Xinyan', 'Xiong, Deyi', 'Xu, Hongzhi', 'Xu, Jinan', 'Xu, Jingjing', 'Xu, Ke', 'Xu, Ruifeng', 'Yamamoto, Eiko', 'Yamamoto, Hirofumi', 'Yamamoto, Seiichi', 'Yang, Jie', 'Yang, Min', 'Yang, Muyun', 'Yang, Nan', 'Yang, Pengcheng', 'Yang, Xiaofeng', 'Yao, Jianmin', 'Yao, Xuchen', 'Yao, Yuan', 'Yin, Pengcheng', 'Yokoi, Sho', 'Yoshino, Koichiro', 'Yvon, Fran{\\\\c{c}}ois', 'Zaghouani, Wajdi', 'Zalmout, Nasser', 'Zampieri, Marcos', 'Zampolli, Antonio', 'Zeman, Daniel', 'Zens, Richard', 'Zhang, Biao', 'Zhang, Dongdong', 'Zhang, Hao', 'Zhang, Jinchao', 'Zhang, Longkai', 'Zhang, Meishan', 'Zhang, Min', 'Zhang, Sheng', 'Zhang, Wei-Nan', 'Zhang, Yi', 'Zhang, Ying', 'Zhang, Yu', 'Zhang, Yue', 'Zhang, Yujie', 'Zhang, Zhuosheng', 'Zhao, Hai', 'Zhao, Shiqi', 'Zhao, Tiejun', 'Zhou, GuoDong', 'Zhou, Guodong', 'Zhou, Jie', 'Zhou, Ming', 'Zhu, Conghui', 'Zhu, Qiaoming', 'Zollmann, Andreas', 'Zue, Victor', 'Zukerman, Ingrid', 'Zweigenbaum, Pierre', 'van Genabith, Josef', \"{\\\\v{Z}}abokrtsk{\\\\'y}, Zden{\\\\v{e}}k\"], ['Abend, Omri', 'Aguilar, Gustavo', 'Bethard, Steven', 'Biemann, Chris', 'Budzianowski, Pawe{\\\\l}', 'Casanueva, I{\\\\~n}igo', 'Davidov, Dmitry', 'Dligach, Dmitriy', \"Ga{\\\\v{s}}i{\\\\'c}, Milica\", 'Gerz, Daniela', 'Glava{\\\\v{s}}, Goran', 'Hershcovich, Daniel', 'Hill, Felix', 'Kar, Sudipta', 'Karan, Mladen', 'Korhonen, Anna', 'Lauscher, Anne', 'Lin, Chen', 'Maharjan, Suraj', 'McCarthy, Diana', 'Miller, Timothy', 'Minker, Wolfgang', 'Moens, Marie-Francine', 'Montes, Manuel', \"Mrk{\\\\v{s}}i{\\\\'c}, Nikola\", 'Panchenko, Alexander', 'Poibeau, Thierry', 'Ponti, Edoardo Maria', 'Ponzetto, Simone Paolo', 'Rappoport, Ari', 'Reichart, Roi', 'Remus, Steffen', 'Riedl, Martin', 'Rojas-Barahona, Lina M.', 'Savova, Guergana', 'Schmitt, Alexander', 'Solorio, Thamar', 'Su, Pei-Hao', 'Sun, Lin', 'Thomson, Blaise', 'Ultes, Stefan', 'Ustalov, Dmitry', 'Vandyke, David', \"Vuli{\\\\'c}, Ivan\", 'Wen, Tsung-Hsien', 'Yimam, Seid Muhie', 'Young, Steve', '{\\\\v{S}}najder, Jan'], ['Bing, Lidong', 'Lam, Wai', 'Zhang, Wenxuan'], ['Rashid, Ahmad', 'Rezagholizadeh, Mehdi'], ['Boullier, Pierre', 'Candito, Marie', 'Sagot, Beno{\\\\^\\\\i}t', \"Seddah, Djam{\\\\'e}\"], ['Bonial, Claire', 'Brown, Susan Windisch', 'Chang, Shih-Fu', 'Chen, Zheng', 'Dang, Hoa Trang', 'Han, Jiawei', 'Hermjakob, Ulf', 'Huang, Lifu', 'Ji, Heng', 'Knight, Kevin', 'Kozareva, Zornitsa', 'Li, Manling', 'Lin, Bill Yuchen', 'Lin, Ying', 'Lu, Di', 'Marcu, Daniel', 'May, Jonathan', 'Palmer, Martha', 'Pan, Xiaoman', 'Ravi, Sujith', 'Ren, Xiang', 'Vaidya, Ashwini', 'Voss, Clare', 'Xue, Nianwen', 'Zhang, Boliang'], ['Bogoychev, Nikolay', 'Grundkiewicz, Roman', 'Heafield, Kenneth', 'Junczys-Dowmunt, Marcin'], ['Anderson, Tim', 'Erdmann, Grant', 'Gwinnup, Jeremy'], ['Li, Lei', 'Wang, Mingxuan', 'Zhou, Hao'], ['Guo, Jiaxin', 'Lei, Lizhi', 'Qin, Ying', 'Shang, Hengchao', 'Wang, Minghan', 'Wei, Daimeng', 'Yang, Hao'], ['Li, Bei', 'Wang, Huizhen', 'Xiao, Tong', 'Zhu, Jingbo', 'Zhu, Muhua'], ['Crego, Josep', 'Senellart, Jean'], ['Chen, Boxing', 'Cherry, Colin', 'Cotterell, Ryan', 'Eisner, Jason', 'Foster, George', 'Hauer, Bradley', 'Hulden, Mans', 'Kirov, Christo', 'Kondrak, Grzegorz', 'Kuhn, Roland', 'Luo, Weihua', 'McCarthy, Arya D.', 'Meister, Clara', 'Mielke, Sabrina J.', 'Nicolai, Garrett', 'Pimentel, Tiago', 'Silfverberg, Miikka', 'Vieira, Tim', 'Vylomova, Ekaterina', 'Williams, Adina'], ['Fujita, Atsushi', 'Marie, Benjamin'], ['Erjavec, Toma{\\\\v{z}}', 'Fi{\\\\v{s}}er, Darja', \"Ljube{\\\\v{s}}i{\\\\'c}, Nikola\"], ['Camacho-Collados, Jose', 'Collier, Nigel', 'Conia, Simone', 'Navigli, Roberto', 'Pilehvar, Mohammad Taher', 'Velardi, Paola'], ['Barrett, Maria', 'Fornaciari, Tommaso', 'Hovy, Dirk', 'Johannsen, Anders', \"Mart{\\\\'\\\\i}nez Alonso, H{\\\\'e}ctor\", 'Plank, Barbara', 'S{\\\\o}gaard, Anders'], ['Abdul-Mageed, Muhammad', 'Nagoudi, El Moatez Billah'], ['Abbas, Mourad', 'Lichouri, Mohamed'], ['Chakravarthi, Bharathi Raja', 'McCrae, John P.', 'Priyadharshini, Ruba'], ['Jauhiainen, Heidi', 'Jauhiainen, Tommi', \"Lind{\\\\'e}n, Krister\"], ['Schlechtweg, Dominik', 'Schulte im Walde, Sabine'], ['Buttery, Paula', 'Caines, Andrew'], ['Daxenberger, Johannes', 'Eckart de Castilho, Richard', 'Eckle-Kohler, Judith', 'Eger, Steffen', 'Gurevych, Iryna', 'Habernal, Ivan', 'Horbach, Andrea', 'Meyer, Christian M.', 'Miller, Tristan', 'Reimers, Nils', 'Stab, Christian', 'Zesch, Torsten', 'Zhao, Wei'], ['Espl{\\\\`a}-Gomis, Miquel', 'Forcada, Mikel L.', \"P{\\\\'e}rez-Ortiz, Juan Antonio\", \"S{\\\\'a}nchez-Cartagena, V{\\\\'\\\\i}ctor M.\", \"S{\\\\'a}nchez-Mart{\\\\'\\\\i}nez, Felipe\"], ['Gerdes, Kim', 'Kahane, Sylvain'], ['Bui, Trung', 'Chang, Walter', 'Dernoncourt, Franck', 'Grishman, Ralph', 'Kim, Doo Soon', 'Macleod, Catherine', 'Meyers, Adam', 'Nguyen, Thien Huu', 'Pivovarova, Lidia', 'Pouran Ben Veyseh, Amir', 'Sterling, John', 'Yangarber, Roman'], ['Brockett, Chris', 'Celikyilmaz, Asli', 'Chen, Weizhu', 'Deng, Li', 'Dolan, Bill', 'Galley, Michel', 'Gao, Jianfeng', 'He, Pengcheng', 'He, Xiaodong', 'Li, Xiujun', 'Liu, Xiaodong', 'Nallapati, Ramesh', 'Peng, Baolin', 'Wu, Youzheng', 'Xiang, Bing', 'Zhang, Yizhe', 'Zhou, Bowen'], ['Andreas, Jacob', 'Berg-Kirkpatrick, Taylor', 'Burkett, David', 'DeNero, John', 'Durrett, Greg', 'Fried, Daniel', 'Green, Spence', 'Haghighi, Aria', 'Klein, Dan', 'Liang, Percy', 'Manning, Christopher D.', 'Pauls, Adam', 'de Marneffe, Marie-Catherine'], ['Foster, Jennifer', 'Wagner, Joachim'], ['Elazar, Yanai', 'Elhadad, Michael', 'Goldberg, Yoav', 'Ravfogel, Shauli'], ['Goldwasser, Dan', 'Khashabi, Daniel', 'Mayhew, Stephen', 'Ning, Qiang', 'Peng, Haoruo', 'Roth, Dan', 'Rozovskaya, Alla', 'Sammons, Mark', 'Srikumar, Vivek', 'Upadhyay, Shyam'], ['Socher, Richard', 'Xiong, Caiming'], ['Cohen, Shay B.', 'Gardent, Claire', 'Lapata, Mirella', 'Narayan, Shashi', 'Perez-Beltrachini, Laura', 'Shimorina, Anastasia'], ['Chang, Shiyu', 'Guo, Xiaoxiao', 'Yu, Mo'], ['Frank, Anette', 'Opitz, Juri'], ['Artzi, Yoav', 'Berant, Jonathan', 'Dagan, Ido', 'Goldberger, Jacob', 'Lee, Kenton', 'Levy, Omer', 'Lewis, Mike', 'Shnarch, Eyal', 'Shwartz, Vered', 'Stanovsky, Gabriel', 'Szpektor, Idan', 'Zettlemoyer, Luke'], ['Augenstein, Isabelle', 'Bjerva, Johannes'], ['Groschwitz, Jonas', 'Koller, Alexander'], ['Fohr, Dominique', 'Illina, Irina'], ['Gonzalez-Hernandez, Graciela', 'Weissenbacher, Davy'], ['Cao, Pengfei', 'Chen, Yubo', 'He, Shizhu', 'Liu, Kang', 'Liu, Shengping', 'Xu, Liheng', 'Zhao, Jun', 'Zhou, Guangyou'], ['Chen, Nancy', 'Liu, Zhengyuan'], ['Fung, Pascale', 'Lin, Zhaojiang', 'Liu, Zihan', 'Madotto, Andrea', 'Winata, Genta Indra', 'Wu, Chien-Sheng', 'Xu, Peng'], ['Banea, Carmen', 'Bruce, Rebecca', 'Cambria, Erik', 'Hazarika, Devamanyu', 'Majumder, Navonil', 'Mihalcea, Rada', 'Poria, Soujanya', \"P{\\\\'e}rez-Rosas, Ver{\\\\'o}nica\", 'Somasundaran, Swapna', 'Wiebe, Janyce', 'Wilson, Theresa'], ['Eskenazi, Maxine', 'Mehri, Shikib', 'Zhao, Tiancheng'], ['Chamberlain, Jon', 'Kruschwitz, Udo', 'Poesio, Massimo', 'Uryupina, Olga', 'Yu, Juntao'], ['Wang, Jin', 'Zhang, Xuejie'], ['Chen, Berlin', 'Chen, Kuan-Yu', 'Hung, Hsiao-Tsung', 'Liu, Shih-Hung', 'Lo, Tien-Hong', 'Wang, Hsin-Min'], ['Chen, Kuang-hua', 'Lee, Lung-Hao', 'Tseng, Yuen-Hsien', 'Wu, Chung-Hsien', 'Yu, Liang-Chih'], ['Briscoe, Ted', 'Carroll, John', 'Reffin, Jeremy', 'Weeds, Julie', 'Weir, David'], ['Rei, Marek', 'Shutova, Ekaterina', 'Yannakoudakis, Helen'], ['Galitsky, Boris', 'Ilvovsky, Dmitry'], ['Angelova, Galia', 'Boytcheva, Svetla', 'Nikolova, Ivelina'], ['Kamigaito, Hidetaka', 'Okumura, Manabu', 'Takamura, Hiroya'], ['Lee, John', 'Yeung, Chak Yan'], ['Gravier, Guillaume', \"S{\\\\'e}billot, Pascale\"], ['Osenova, Petya', 'Simov, Kiril'], ['Popescu, Octavian', 'Vo, Ngoc Phuoc An'], ['Cabrio, Elena', 'Villata, Serena'], ['Inagaki, Yasuyoshi', 'Kato, Yoshihide', 'Matsubara, Shigeki', 'Ohno, Tomohiro'], ['Flickinger, Dan', 'Oepen, Stephan', 'Velldal, Erik', '{\\\\O}vrelid, Lilja'], ['Anderson, Mark', \"Fern{\\\\'a}ndez-Gonz{\\\\'a}lez, Daniel\", \"G{\\\\'o}mez-Rodr{\\\\'\\\\i}guez, Carlos\", 'Vilares, David'], ['Lin, Jimmy', 'Tang, Raphael', 'Xin, Ji'], ['Bouillon, Pierrette', 'Chatzichrisafis, Nikos', 'Gerlach, Johanna', 'Hockey, Beth Ann', 'Nakao, Yukie', 'Rayner, Manny', 'Santaholma, Marianne', 'Starlander, Marianne', 'Tsourakis, Nikos'], ['Lebanoff, Logan', 'Liu, Fei'], ['Bernardy, Jean-Philippe', 'Chatzikyriakidis, Stergios'], ['Ide, Nancy', 'Krishnaswamy, Nikhil', 'Pustejovsky, James', 'Rogers, Anna', 'Romanov, Alexey', 'Rumshisky, Anna', 'Suderman, Keith', 'Verhagen, Marc'], ['Demeester, Thomas', 'Develder, Chris'], ['Cheng, Yu', 'Gan, Zhe', 'Liu, Jingjing'], ['Abu-Jbara, Amjad', 'Radev, Dragomir', 'Yu, Tao', 'Zhang, Rui'], ['Klakow, Dietrich', 'Rehbein, Ines', 'Ruppenhofer, Josef', 'Wiegand, Michael'], ['Castro Ferreira, Thiago', 'Daelemans, Walter', 'Hendrickx, Iris', 'Krahmer, Emiel', 'Morante, Roser', 'Wubben, Sander', 'van den Bosch, Antal', 'van der Lee, Chris'], ['Zeng, Michael', 'Zhu, Chenguang'], ['Jiang, Haoming', 'Zhao, Tuo'], ['Glass, Michael', 'Gliozzo, Alfio', 'Strapparava, Carlo'], ['Khot, Tushar', 'Sabharwal, Ashish'], ['Xia, Congying', 'Yu, Philip'], ['Gui, Tao', 'Huang, Xuanjing', 'Liu, Pengfei', 'Qiu, Xipeng', 'Wei, Zhongyu', 'Yan, Hang', 'Zhang, Qi', 'Zhou, Yaqian'], ['Xu, Kun', 'Yu, Dian', 'Yu, Dong'], ['Feng, Yansong', 'Yan, Rui', 'Zhao, Dongyan'], ['Suleman, Kaheer', 'Trischler, Adam'], ['Huang, Yongfeng', 'Qi, Tao', 'Wu, Chuhan', 'Wu, Fangzhao', 'Xie, Xing'], ['Liang, Paul Pu', 'Morency, Louis-Philippe'], ['Mahata, Debanjan', 'Sawhney, Ramit', 'Shah, Rajiv Ratn'], ['Chen, Guanyi', 'Lin, Chenghua'], ['Ahmad, Wasi', 'Chang, Kai-Wei', 'Zhao, Jieyu'], ['Lewis, William', 'Song, Yan', 'Tian, Yuanhe', 'Xia, Fei'], ['Dinan, Emily', 'Weston, Jason'], ['Batra, Dhruv', 'Parikh, Devi'], ['He, Keqing', 'Xu, Weiran', 'Yan, Yuanmeng'], ['Black, Alan W', 'Prabhumoye, Shrimai'], ['Liu, Tie-Yan', 'Qin, Tao', 'Tan, Xu', 'Wu, Lijun'], ['Das, Rajarshi', 'McCallum, Andrew', 'Riedel, Sebastian', 'Stenetorp, Pontus', 'Verga, Patrick'], ['Chakrabarty, Tuhin', 'Ghosh, Debanjan', 'Muresan, Smaranda'], ['Hu, Zhiting', 'Xing, Eric'], ['Dasigi, Pradeep', 'Gardner, Matt', 'Singh, Sameer'], ['Cohen, William', 'Dhingra, Bhuwan'], ['Boyd-Graber, Jordan', \"Daum{\\\\'e} III, Hal\", 'Iyyer, Mohit', 'Rao, Sudha', 'Resnik, Philip'], ['Liu, Bing', 'Mukherjee, Arjun', 'Shu, Lei', 'Xu, Hu'], ['Barzilay, Regina', 'Jaakkola, Tommi', 'Lei, Tao', 'Zhang, Yuan'], ['Chen, Lu', 'Yu, Kai', 'Zhu, Su'], ['Chen, Jiajun', 'Dai, Xinyu', 'Huang, Shujian'], ['Chen, Wenhu', 'Wang, William Yang', 'Wang, Xin', 'Xiong, Wenhan'], ['Chiticariu, Laura', 'Li, Yunyao'], ['Liu, Tingwen', 'Yu, Bowen'], ['Bhat, Suma', 'Gong, Hongyu'], ['Baumann, Timo', 'Kennington, Casey', 'Schlangen, David', 'Zarrie{\\\\ss}, Sina'], ['Bekki, Daisuke', 'Mineshima, Koji', 'Yanaka, Hitomi'], ['Bali, Kalika', 'Choudhury, Monojit', 'Ganguly, Niloy', 'Mukherjee, Animesh', 'Sitaram, Sunayana'], ['Navarretta, Costanza', 'Paggio, Patrizia'], ['Kazantseva, Anna', 'Szpakowicz, Stan'], [\"Cardon, R{\\\\'e}mi\", 'Grabar, Natalia', 'Hamon, Thierry'], ['Claveau, Vincent', 'Kijak, Ewa'], ['Pino, Juan', 'Wang, Changhan'], ['Guillaume, Bruno', 'Perrier, Guy'], ['Abzianidze, Lasha', 'Bos, Johan', 'Evang, Kilian', 'van Noord, Rik'], ['Agirre, Eneko', 'Artetxe, Mikel', 'Caselli, Tommaso', 'Cuadros, Montse', 'Fellbaum, Christiane', 'Fokkens, Antske', 'Labaka, Gorka', 'Laparra, Egoitz', 'Lopez de Lacalle, Oier', 'Maks, Isa', 'Martinez, David', 'Postma, Marten', 'Rigau, German', 'Sarasola, Kepa', 'Soroa, Aitor', 'Vossen, Piek'], ['Huang, Minlie', 'Takanobu, Ryuichi', 'Zhu, Xiaoyan'], ['Araki, Jun', 'Gangal, Varun', 'Hovy, Eduard', 'Lin, Chin-Yew', 'Liu, Jing', 'Ma, Xuezhe', 'Mitamura, Teruko', 'Nyberg, Eric', 'Zhou, Liang'], ['Arcan, Mihael', 'Buitelaar, Paul'], ['El-Haj, Mahmoud', 'Rayson, Paul'], ['Litvak, Marina', 'Vanetik, Natalia'], ['Chen, Chung-Chi', 'Chen, Hsin-Hsi', 'Huang, Hen-Hsen', 'Huang, Ting-Hao', 'Ku, Lun-Wei'], ['Chang, Jing-Shin', 'Lin, Yi-Chung', 'Su, Keh-Yih', 'Zhang, Jiajun', 'Zhou, Yu', 'Zong, Chengqing'], ['Du{\\\\v{s}}ek, Ond{\\\\v{r}}ej', 'Eshghi, Arash', 'Hastie, Helen', 'Janarthanam, Srinivasan', 'Lemon, Oliver', 'Liu, Xingkun', 'Rieser, Verena'], ['Choubey, Prafulla Kumar', 'Huang, Ruihong'], ['Clark, Peter', 'Dalvi, Bhavana', 'Tandon, Niket'], ['Scialom, Thomas', 'Staiano, Jacopo'], ['Al Khatib, Khalid', 'Al-Khatib, Khalid', 'Hagen, Matthias', 'Kiesel, Johannes', 'Potthast, Martin', 'Stein, Benno', 'Wachsmuth, Henning'], ['Lin, Hongfei', 'Yang, Liang'], ['Shi, Weiyan', 'Yu, Zhou'], ['Marrese-Taylor, Edison', 'Matsuo, Yutaka'], ['Jin, Lifeng', 'Schuler, William'], ['Kaji, Nobuhiro', 'Kitsuregawa, Masaru', 'Toyoda, Masashi', 'Yoshinaga, Naoki'], ['He, Yulan', 'Zhou, Deyu'], ['Liu, Qian', 'Lou, Jian-Guang'], ['Kim, Young-Bum', 'Sarikaya, Ruhi'], ['Wen, Ji-Rong', 'Zhao, Wayne Xin'], ['Li, Bin', 'Qu, Weiguang', 'Zhou, Junsheng'], ['He, Xiaofeng', 'Wang, Chengyu'], ['Liu, Xiaozhong', 'Sun, Changlong'], ['Bohnet, Bernd', 'Mille, Simon', 'Wanner, Leo'], ['Wu, Winston', 'Yarowsky, David'], ['Huang, Liang', 'Ma, Mingbo', 'Zhao, Kai', 'Zheng, Renjie'], ['Xia, Rui', 'Yu, Jianfei'], ['Chen, Yidong', 'Shi, Xiaodong'], ['Goyal, Pawan', 'Krishna, Amrith'], ['Preo{\\\\c{t}}iuc-Pietro, Daniel', 'Schwartz, H. Andrew', 'Sedoc, Jo{\\\\~a}o', 'Ungar, Lyle'], ['Christodoulopoulos, Christos', 'Mittal, Arpit', 'Thorne, James', 'Vlachos, Andreas'], ['Lan, Man', 'Wu, Yuanbin'], ['Song, Yangqiu', 'Zhang, Hongming'], ['Han, Xianpei', 'Lin, Hongyu', 'Lu, Yaojie', 'Sun, Le'], ['Cer, Daniel', 'Yang, Yinfei'], ['Fancellu, Federico', 'Joshi, Aravind', 'Lee, Alan', 'Prasad, Rashmi', 'Webber, Bonnie'], ['Florian, Radu', 'Roukos, Salim'], ['Aharonov, Ranit', 'Bar-Haim, Roy', 'Bilu, Yonatan', 'Slonim, Noam'], ['Buechel, Sven', 'Hahn, Udo', 'Hellrich, Johannes', 'Tomanek, Katrin', 'Wermter, Joachim'], ['Cheng, Xueqi', 'Guo, Jiafeng'], ['Shen, Xiaoyu', 'Su, Hui'], ['Miura, Yasuhide', 'Ohkuma, Tomoko', 'Taniguchi, Motoki', 'Taniguchi, Tomoki'], ['Idiart, Marco', 'Ramisch, Carlos', 'Savary, Agata', 'Villavicencio, Aline', 'Wilkens, Rodrigo'], ['Sun, Weiwei', 'Wan, Xiaojun', 'Xiao, Jianguo'], ['Alishahi, Afra', 'Chrupa{\\\\l}a, Grzegorz'], ['Bowman, Samuel R.', 'Liu, Haokun'], ['Burstein, Jill', 'Chodorow, Martin', 'Leacock, Claudia', 'Napoles, Courtney', 'Tetreault, Joel'], ['Mitkov, Ruslan', 'Orasan, Constantin'], ['Levy, Roger', 'Wilcox, Ethan'], ['King, Irwin', 'Lyu, Michael'], ['Byrne, Bill', 'Byrne, William', 'Iglesias, Gonzalo', 'Saunders, Danielle', 'Stahlberg, Felix', 'de Gispert, Adri{\\\\`a}'], ['Hall, Johan', 'Nilsson, Jens', 'Nivre, Joakim', 'de Lhoneux, Miryam'], ['Adda-Decker, Martine', 'Lamel, Lori'], ['Vu, Ngoc Thang', 'Yu, Xiang'], ['Anand, Pranav', 'Oraby, Shereen', 'Walker, Marilyn'], ['Funakoshi, Kotaro', 'Komatani, Kazunori', 'Nakano, Mikio', 'Okuno, Hiroshi G.'], ['Cohan, Arman', 'Goharian, Nazli'], ['Komiya, Kanako', 'Sasaki, Minoru', 'Shinnou, Hiroyuki'], ['Balahur, Alexandra', \"Guti{\\\\'e}rrez, Yoan\", \"Montoyo, Andr{\\\\'e}s\", 'Mu{\\\\~n}oz, Rafael'], ['Helcl, Jind{\\\\v{r}}ich', \"Libovick{\\\\'y}, Jind{\\\\v{r}}ich\"], ['Bunt, Harry', 'Petukhova, Volha'], ['Ishida, Toru', 'Lin, Donghui', 'Murakami, Yohei'], ['Artstein, Ron', 'DeVault, David', 'Georgila, Kallirroi', 'Leuski, Anton', 'Traum, David'], [\"Branco, Ant{\\\\'o}nio\", 'Costa, Francisco', 'Saedi, Chakaveh', 'Silva, Jo{\\\\~a}o'], [\"M{\\\\'\\\\i}rovsk{\\\\'y}, Ji{\\\\v{r}}{\\\\'\\\\i}\", \"Pol{\\\\'a}kov{\\\\'a}, Lucie\"], ['Fukumoto, Fumiyo', 'Suzuki, Yoshimi'], ['Bossy, Robert', \"N{\\\\'e}dellec, Claire\"], ['Hahn-Powell, Gus', 'Sharp, Rebecca', 'Surdeanu, Mihai', \"Valenzuela-Esc{\\\\'a}rcega, Marco A.\"], ['Ciobanu, Alina Maria', 'Dinu, Liviu P.'], ['Bies, Ann', 'Cieri, Christopher', 'DiPersio, Denise', 'Kulick, Seth', 'Liberman, Mark', 'Maamouri, Mohamed', 'Mott, Justin', 'Song, Zhiyi', 'Strassel, Stephanie', 'Wright, Jonathan'], ['Van den Bogaert, Joachim', 'Vanallemeersch, Tom'], ['Hathout, Nabil', 'Namer, Fiammetta'], ['Camelin, Nathalie', 'Est{\\\\`e}ve, Yannick'], ['Mayfield, James', 'McNamee, Paul'], ['Bosco, Cristina', 'Sanguinetti, Manuela'], ['Marciniak, Malgorzata', 'Mykowiecka, Agnieszka'], ['Kabashi, Besim', 'Proisl, Thomas'], ['Portet, Fran{\\\\c{c}}ois', 'Vacher, Michel'], ['Chen, Chen', 'Ng, Vincent', 'Persing, Isaac'], ['Charlet, Delphine', \"Damnati, G{\\\\'e}raldine\"], [\"Delvaux, V{\\\\'e}ronique\", 'Harmegnies, Bernard', 'Huet, Kathy', 'Piccaluga, Myriam'], ['Nerima, Luka', 'Seretan, Violeta', 'Wehrli, Eric'], ['Besacier, Laurent', \"Blanchon, Herv{\\\\'e}\", 'Lecouteux, Benjamin'], ['Reiter, Ehud', 'Sripada, Somayajulu'], ['Husain, Samar', 'Sangal, Rajeev', 'Sharma, Dipti Misra'], ['Bernardi, Raffaella', 'Pezzelle, Sandro'], ['Carin, Lawrence', 'Shen, Dinghan', 'Wang, Guoyin'], ['Beigman Klebanov, Beata', 'Flor, Michael'], ['Demberg, Vera', 'Sayeed, Asad'], ['Chen, Qingcai', 'Wang, Xiaolong'], [\"Daille, B{\\\\'e}atrice\", 'Hazem, Amir', 'Morin, Emmanuel'], ['Makhoul, John', 'Matsoukas, Spyros', 'Schwartz, Richard'], ['Fern, Xiaoli', 'Tadepalli, Prasad'], ['Davis, Brian', \"Freitas, Andr{\\\\'e}\", 'Handschuh, Siegfried'], ['Casacuberta, Francisco', \"Gonz{\\\\'a}lez-Rubio, Jes{\\\\'u}s\", \"Ortiz-Mart{\\\\'\\\\i}nez, Daniel\", \"Sanchis-Trilles, Germ{\\\\'a}n\", 'Vidal, Enrique'], ['El-Hajj, Wassim', 'Hajj, Hazem'], ['Riccardi, Giuseppe', 'Stepanov, Evgeny'], ['Allauzen, Cyril', 'Riley, Michael'], ['Martin, Maite', \"Ure{\\\\~n}a-L{\\\\'o}pez, L. Alfonso\"], [\"De Clercq, Orph{\\\\'e}e\", \"Hoste, V{\\\\'e}ronique\", 'Lefever, Els'], ['Aker, Ahmet', 'Bontcheva, Kalina', 'Cunningham, Hamish', 'Derczynski, Leon', 'Gaizauskas, Robert', 'Guthrie, Louise', 'Hepple, Mark', 'Maynard, Diana', 'Tablan, Valentin', 'Wilks, Yorick'], ['Basile, Pierpaolo', 'Semeraro, Giovanni'], ['Chang, Jason', 'Chen, Jhih-Jie'], ['Dahlmeier, Daniel', 'Ng, Hwee Tou'], ['Chang, Yung-Chun', 'Hsieh, Yu-Lun', 'Hsu, Wen-Lian', 'Tsai, Richard Tzong-Han', 'Wang, Yu-Chun'], ['Auli, Michael', 'Grangier, David'], ['Kiritchenko, Svetlana', 'Mohammad, Saif'], ['Nguyen, Dai Quoc', 'Nguyen, Dat Quoc'], [\"Pil{\\\\'a}n, Ildik{\\\\'o}\", 'Volodina, Elena'], ['Meurers, Detmar', 'Ziai, Ramon'], [\"Gerv{\\\\'a}s, Pablo\", \"Herv{\\\\'a}s, Raquel\"], ['Avramidis, Eleftherios', 'Burchardt, Aljoscha', \"Popovi{\\\\'c}, Maja\"], ['Papavassiliou, Vassilis', 'Prokopidis, Prokopis'], ['Allen, James', 'Galescu, Lucian', 'Swift, Mary'], ['Basu, Anupam', 'Dasgupta, Tirthankar', 'Sinha, Manjira'], ['Kotani, Katsunori', 'Yoshimi, Takehiko'], ['Chen, Liang-Pu', 'Wu, Shih-Hung'], ['Barbieri, Francesco', 'Espinosa-Anke, Luis', 'Ronzano, Francesco', 'Saggion, Horacio'], ['Pinkal, Manfred', 'Thater, Stefan'], [\"Farkas, Rich{\\\\'a}rd\", \"Nagy T., Istv{\\\\'a}n\", 'Vincze, Veronika'], ['Hagen, Kristin', 'Johannessen, Janne Bondi'], ['Bechet, Frederic', 'Favre, Benoit'], ['Kuhlmann, Marco', 'Nederhof, Mark-Jan', 'Satta, Giorgio'], ['Felt, Paul', 'Haertel, Robbie', 'Ringger, Eric', 'Seppi, Kevin'], ['Iosif, Elias', 'Potamianos, Alexandros'], ['Maziarz, Marek', 'Piasecki, Maciej'], ['Utsuro, Takehito', 'Yamamoto, Mikio'], [\"Bel, N{\\\\'u}ria\", 'Marimon, Montserrat'], ['Boldrini, Ester', \"Mart{\\\\'\\\\i}nez-Barco, Patricio\"], ['Banjade, Rajendra', 'Rus, Vasile'], ['Krause, Sebastian', 'Li, Hong', 'Uszkoreit, Hans', 'Xu, Feiyu'], ['Joubert, Alain', 'Lafourcade, Mathieu'], ['Li, Hang', 'Lu, Zhengdong'], ['Menezes, Arul', 'Quirk, Chris', 'Toutanova, Kristina'], ['Dale, Robert', \"Paris, C{\\\\'e}cile\", 'Viethen, Jette', 'Wan, Stephen'], ['Kallmeyer, Laura', 'Maier, Wolfgang'], ['Addanki, Karteek', 'Carpuat, Marine', 'Lo, Chi-kiu', 'Saers, Markus', 'Wu, Dekai'], ['Jokinen, Kristiina', 'Wilcock, Graham'], ['Beale, Stephen', 'McShane, Marjorie', 'Nirenburg, Sergei', 'Raskin, Victor'], ['Henrich, Verena', 'Hinrichs, Erhard'], ['Schuurman, Ineke', 'Vandeghinste, Vincent'], ['Baroni, Marco', 'Lazaridou, Angeliki'], ['Afantenos, Stergos', 'Asher, Nicholas'], ['Navas, Eva', 'Saratxaga, Ibon'], ['Brooke, Julian', 'Hirst, Graeme'], ['Iida, Ryu', 'Tanaka, Hozumi', 'Tokunaga, Takenobu'], [\"Cuay{\\\\'a}huitl, Heriberto\", 'Dethlefs, Nina'], ['Sofianopoulos, Sokratis', 'Vassiliou, Marina'], ['Fazly, Afsaneh', 'Stevenson, Suzanne'], ['Chang, Jason S.', 'Wu, Jian-Cheng'], ['Ramanathan, Ananthakrishnan', 'Visweswariah, Karthik'], ['Blanco, Eduardo', 'Moldovan, Dan'], ['Erk, Katrin', \"Pad{\\\\'o}, Sebastian\"], ['Louis, Annie', 'Nenkova, Ani'], ['McKeown, Kathleen', 'Thadani, Kapil'], ['Power, Richard', 'Scott, Donia', 'Williams, Sandra'], ['Gotti, Fabrizio', 'Langlais, Philippe', 'Lapalme, Guy', 'Patry, Alexandre', 'Simard, Michel'], ['Etzioni, Oren', 'Soderland, Stephen', '{Mausam}'], ['Ahrenberg, Lars', 'Stymne, Sara'], ['Meng, Yao', 'Yu, Hao'], [\"Amig{\\\\'o}, Enrique\", 'Gonzalo, Julio', 'Verdejo, Felisa'], ['Cancedda, Nicola', 'Dymetman, Marc'], ['Chen, Yu', 'Eisele, Andreas'], ['Belz, Anja', 'Gatt, Albert', 'Kow, Eric'], ['Broeder, Daan', 'Wittenburg, Peter'], ['Lardilleux, Adrien', 'Lepage, Yves'], ['Rajkumar, Rajakrishnan', 'White, Michael'], ['Hori, Chiori', 'Kashioka, Hideki'], ['Okada, Yoshihiro', 'Watanabe, Yasuhiko'], ['Ayuso, Damaris', 'Boisen, Sean', 'Ramshaw, Lance', 'Weischedel, Ralph'], ['Kwong, Oi Yee', 'Tsou, Benjamin K.'], ['Matiasek, Johannes', 'Trost, Harald'], ['Lesmo, Leonardo', 'Lombardo, Vincenzo'], ['Johansson, Richard', 'Nugues, Pierre'], ['Fujii, Atsushi', 'Ishikawa, Tetsuya'], ['Farwell, David', 'Helmreich, Stephen'], ['Li, Wei', 'Niu, Cheng'], ['Corston-Oliver, Simon', 'Gamon, Michael'], ['Fakotakis, Nikos', 'Kokkinakis, George'], ['Araki, Kenji', 'Tochinai, Koji'], ['Bear, John', 'Hobbs, Jerry R.'], ['Dahl, Deborah A.', 'Norton, Lewis M.'], ['Furuse, Osamu', 'Iida, Hitoshi'], ['Brown, Peter F.', 'Della Pietra, Stephen A.', 'Della Pietra, Vincent J.', 'Mercer, Robert L.'])\n",
      "Took 18.0571026802063s\n"
     ]
    }
   ],
   "source": [
    "community_G_w = find_communities(G_w, 10, 2) # find two clusters"
   ]
  }
 ],
 "metadata": {
  "kernelspec": {
   "display_name": "Python 3 (ipykernel)",
   "language": "python",
   "name": "python3"
  },
  "language_info": {
   "codemirror_mode": {
    "name": "ipython",
    "version": 3
   },
   "file_extension": ".py",
   "mimetype": "text/x-python",
   "name": "python",
   "nbconvert_exporter": "python",
   "pygments_lexer": "ipython3",
   "version": "3.9.7"
  }
 },
 "nbformat": 4,
 "nbformat_minor": 4
}
